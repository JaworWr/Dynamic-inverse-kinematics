{
 "cells": [
  {
   "cell_type": "code",
   "execution_count": 1,
   "metadata": {},
   "outputs": [],
   "source": [
    "import numpy as np\n",
    "import matplotlib.pyplot as plt"
   ]
  },
  {
   "cell_type": "code",
   "execution_count": 2,
   "metadata": {},
   "outputs": [],
   "source": [
    "def vector_product(x, y):\n",
    "    return x[:, :, 0]*y[:, :, 1] - x[:, :, 1]*y[:, :, 0]\n",
    "\n",
    "def intersect(x1, d1, x2, d2):\n",
    "    \"\"\"\n",
    "    Arguments:\n",
    "    x1, d1: (n, 2)\n",
    "    x2, d2: (m, 2)\n",
    "    return: tu: (n, m, 2)\n",
    "        x1[k] + tu[k, l, 0] * d1[k] == x2[l] + tu[k, l, 1] * d2[l]\n",
    "    \"\"\"\n",
    "    x1 = x1[:, None, :]\n",
    "    x2 = x2[None, :, :]\n",
    "    d1 = d1[:, None, :]\n",
    "    d2 = d2[None, :, :]\n",
    "    rs = vector_product(d1, d2)\n",
    "    t = vector_product(x2 - x1, d2) / rs\n",
    "    u = vector_product(x2 - x1, d1) / rs\n",
    "    tu = np.stack([t, u], 2)\n",
    "    m = np.any((tu < 0) | (tu > 1), axis=2)\n",
    "    tu[m] = np.nan\n",
    "    return tu\n",
    "\n",
    "def make_rectangle(x1, x2):\n",
    "    \"\"\"\n",
    "    Arguments:\n",
    "    x1: lower left corner\n",
    "    x2: upper right corner\n",
    "    \"\"\"\n",
    "    dx = np.array([x2[0] - x1[0], 0])\n",
    "    dy = np.array([0, x2[1] - x1[1]])\n",
    "    \n",
    "    return np.vstack([x1, x1, x2, x2]), np.vstack([dx, dy, -dx, -dy])"
   ]
  },
  {
   "cell_type": "code",
   "execution_count": 118,
   "metadata": {},
   "outputs": [],
   "source": [
    "def alphas_to_coords(S, x0, y0, alphas):\n",
    "    alphas = np.cumsum(alphas, 1)\n",
    "    x = np.zeros((alphas.shape[0], alphas.shape[1]+1, 2))\n",
    "    x[:, 0, :] = [x0, y0]\n",
    "    d = np.stack([S * np.cos(alphas), S * np.sin(alphas)], 2)\n",
    "    x[:, 1:, :] = d\n",
    "    x = np.cumsum(x, 1)\n",
    "    return x, d\n",
    "\n",
    "# TODO: optimize if needed\n",
    "def rectangle_penalty(s1, x1, s2, x2, rectangle_x, rectangle_d, max_h):\n",
    "    if s1 == s2:\n",
    "        return np.abs(np.sum(x2 - x1)) * max_h / 2\n",
    "    elif s1 % 2 == s2 % 2:\n",
    "        h = np.abs(rectangle_d[(s1+1) % 4, :].sum())\n",
    "        s = min(s1, s2)\n",
    "        a = np.abs(x1[s] - rectangle_x[0, s])\n",
    "        b = np.abs(x2[s] - rectangle_x[0, s])\n",
    "        S = (a + b) * h / 2\n",
    "        S_total = rectangle_d[0, 0] * rectangle_d[1, 1]\n",
    "        return min(S, S_total - S)\n",
    "    else:\n",
    "        x = np.abs(x2 - x1)\n",
    "        return x[0] * x[1] / 2\n",
    "\n",
    "def rectangle_total_penalty(specimen_x, specimen_d, rectangle_x, rectangle_d):\n",
    "    n = specimen_d.shape[0]\n",
    "    intersections = intersect(specimen_x[:-1, :], specimen_d, rectangle_x, rectangle_d)\n",
    "    does_intersect = np.any(~np.isnan(intersections), 2)\n",
    "    penalty = 0.\n",
    "    intersection_side = None\n",
    "    intersection_point = None\n",
    "    max_h = 0.\n",
    "    for i in range(n):\n",
    "        if intersection_side is not None:\n",
    "            s = (intersection_side+1) % 2\n",
    "            max_h = max(max_h, np.abs(specimen_x[i, s] - intersection_point[s]))\n",
    "        for j in range(4):\n",
    "            if does_intersect[i, j]:\n",
    "                j_point = specimen_x[i] + specimen_d[i] * intersections[i, j, 0]\n",
    "                if intersection_side is not None:\n",
    "                    penalty += rectangle_penalty(intersection_side, intersection_point, j, j_point, rectangle_x, rectangle_d, max_h)\n",
    "                    intersection_side = None\n",
    "                else:\n",
    "                    intersection_side = j\n",
    "                    intersection_point = j_point\n",
    "                    max_h = 0.\n",
    "    if intersection_side is not None:\n",
    "        penalty += rectangle_d[0, 0] * rectangle_d[1, 1]\n",
    "    return penalty"
   ]
  },
  {
   "cell_type": "markdown",
   "metadata": {},
   "source": [
    "## Rectangle penalty tests"
   ]
  },
  {
   "cell_type": "markdown",
   "metadata": {},
   "source": [
    "TODO: make into actual unit tests perhaps?"
   ]
  },
  {
   "cell_type": "code",
   "execution_count": 155,
   "metadata": {},
   "outputs": [
    {
     "name": "stdout",
     "output_type": "stream",
     "text": [
      "CPU times: user 715 µs, sys: 59 µs, total: 774 µs\n",
      "Wall time: 515 µs\n"
     ]
    },
    {
     "data": {
      "text/plain": [
       "(array([[[ 2. ,  0.6],\n",
       "         [ 1. ,  0.6],\n",
       "         [ 1. ,  0.8],\n",
       "         [-2. ,  0.8]]]),\n",
       " array([[[-1.0000000e+00,  1.2246468e-16],\n",
       "         [ 1.2246468e-17,  2.0000000e-01],\n",
       "         [-3.0000000e+00,  3.6739404e-16]]]),\n",
       " array([[-0.5,  0.5],\n",
       "        [-0.5,  0.5],\n",
       "        [ 1.5,  1. ],\n",
       "        [ 1.5,  1. ]]),\n",
       " array([[ 2. ,  0. ],\n",
       "        [ 0. ,  0.5],\n",
       "        [-2. , -0. ],\n",
       "        [-0. , -0.5]]))"
      ]
     },
     "execution_count": 155,
     "metadata": {},
     "output_type": "execute_result"
    }
   ],
   "source": [
    "%%time\n",
    "# x0 = 0.\n",
    "# y0 = 1.5\n",
    "# S = [0.9, 1., 0.9]\n",
    "# alphas = -np.array([[np.pi / 2, -np.pi / 2, -np.pi / 2]])\n",
    "x0 = 2.\n",
    "y0 = 0.6\n",
    "S = [1, 0.2, 3]\n",
    "# alphas = np.array([[0, np.pi / 2, np.pi / 2]])\n",
    "alphas = np.array([[np.pi, -np.pi / 2, np.pi / 2]])\n",
    "x, d = alphas_to_coords(S, x0, y0, alphas)\n",
    "rect_x, rect_d = make_rectangle([-0.5, 0.5], [1.5, 1.0])\n",
    "x, d, rect_x, rect_d"
   ]
  },
  {
   "cell_type": "code",
   "execution_count": 156,
   "metadata": {},
   "outputs": [
    {
     "data": {
      "text/plain": [
       "[<matplotlib.lines.Line2D at 0x7f3856597bd0>]"
      ]
     },
     "execution_count": 156,
     "metadata": {},
     "output_type": "execute_result"
    },
    {
     "data": {
      "image/png": "[encoded data removed]",
      "text/plain": [
       "<Figure size 432x288 with 1 Axes>"
      ]
     },
     "metadata": {
      "needs_background": "light"
     },
     "output_type": "display_data"
    }
   ],
   "source": [
    "from matplotlib import patches\n",
    "\n",
    "rect = patches.Rectangle(rect_x[0, :], rect_d[0, 0], rect_d[1, 1], edgecolor=\"k\", facecolor=(0, 0, 0, 0))\n",
    "fig, ax = plt.subplots()\n",
    "ax.set_xlim(-1, 2.)\n",
    "ax.set_ylim(0., 2.)\n",
    "ax.add_patch(rect)\n",
    "ax.plot(x[0, :, 0], x[0, :, 1])"
   ]
  },
  {
   "cell_type": "code",
   "execution_count": 157,
   "metadata": {},
   "outputs": [
    {
     "name": "stdout",
     "output_type": "stream",
     "text": [
      "CPU times: user 282 µs, sys: 23 µs, total: 305 µs\n",
      "Wall time: 192 µs\n"
     ]
    }
   ],
   "source": [
    "%%time\n",
    "intersects = intersect(x[0, :-1, :], d[0, :, :], rect_x, rect_d)"
   ]
  },
  {
   "cell_type": "code",
   "execution_count": 158,
   "metadata": {},
   "outputs": [
    {
     "name": "stdout",
     "output_type": "stream",
     "text": [
      "CPU times: user 1.28 ms, sys: 105 µs, total: 1.39 ms\n",
      "Wall time: 1.21 ms\n"
     ]
    },
    {
     "data": {
      "text/plain": [
       "0.40000000000000036"
      ]
     },
     "execution_count": 158,
     "metadata": {},
     "output_type": "execute_result"
    }
   ],
   "source": [
    "%%time\n",
    "rectangle_total_penalty(x[0], d[0], rect_x, rect_d)"
   ]
  },
  {
   "cell_type": "markdown",
   "metadata": {},
   "source": [
    "## Misc"
   ]
  },
  {
   "cell_type": "code",
   "execution_count": 139,
   "metadata": {},
   "outputs": [],
   "source": [
    "S = [1, 0.5, 0.5]\n",
    "x0 = 1.\n",
    "y0 = 2.\n",
    "alphas = np.array([[np.pi / 4., -np.pi / 2., np.pi - np.pi / 6.]])"
   ]
  },
  {
   "cell_type": "code",
   "execution_count": 140,
   "metadata": {},
   "outputs": [
    {
     "data": {
      "text/plain": [
       "(array([[[1.        , 2.        ],\n",
       "         [1.70710678, 2.70710678],\n",
       "         [2.06066017, 2.35355339],\n",
       "         [1.93125065, 2.8365163 ]]]),\n",
       " array([[[ 0.70710678,  0.70710678],\n",
       "         [ 0.35355339, -0.35355339],\n",
       "         [-0.12940952,  0.48296291]]]))"
      ]
     },
     "execution_count": 140,
     "metadata": {},
     "output_type": "execute_result"
    }
   ],
   "source": [
    "x, dx = alphas_to_coords(S, x0, y0, alphas)\n",
    "x, dx"
   ]
  },
  {
   "cell_type": "code",
   "execution_count": 141,
   "metadata": {},
   "outputs": [
    {
     "data": {
      "text/plain": [
       "(0.9469669914110089,\n",
       " 2.1136931803688124,\n",
       " 1.9581741848131096,\n",
       " 2.8783421189246985)"
      ]
     },
     "execution_count": 141,
     "metadata": {},
     "output_type": "execute_result"
    },
    {
     "data": {
      "image/png": "[encoded data removed]",
      "text/plain": [
       "<Figure size 432x288 with 1 Axes>"
      ]
     },
     "metadata": {
      "needs_background": "light"
     },
     "output_type": "display_data"
    }
   ],
   "source": [
    "plt.plot(x[0, :, 0], x[0, :, 1])\n",
    "plt.axis(\"equal\")"
   ]
  },
  {
   "cell_type": "code",
   "execution_count": 142,
   "metadata": {},
   "outputs": [
    {
     "data": {
      "text/plain": [
       "(array([[1., 1.],\n",
       "        [1., 1.],\n",
       "        [2., 3.],\n",
       "        [2., 3.]]),\n",
       " array([[ 1.,  0.],\n",
       "        [ 0.,  2.],\n",
       "        [-1., -0.],\n",
       "        [-0., -2.]]))"
      ]
     },
     "execution_count": 142,
     "metadata": {},
     "output_type": "execute_result"
    }
   ],
   "source": [
    "make_rectangle(\n",
    "    np.array([1., 1.]),\n",
    "    np.array([2., 3.])\n",
    ")"
   ]
  },
  {
   "cell_type": "code",
   "execution_count": 143,
   "metadata": {},
   "outputs": [],
   "source": [
    "x1 = np.array([[0, 1],\n",
    "               [0, 0.4]])\n",
    "d1 = np.array([[0.66667, -0.66667],\n",
    "               [0.2, -0.4]])\n",
    "x2 = np.array([[0, 0],\n",
    "               [0, 0.8]])\n",
    "d2 = np.array([[1, 1],\n",
    "               [0.2, 0.2]])"
   ]
  },
  {
   "cell_type": "code",
   "execution_count": 144,
   "metadata": {},
   "outputs": [
    {
     "data": {
      "text/plain": [
       "(2, 2, 2)"
      ]
     },
     "execution_count": 144,
     "metadata": {},
     "output_type": "execute_result"
    }
   ],
   "source": [
    "intersects = intersect(x1, d1, x2, d2)\n",
    "intersects.shape"
   ]
  },
  {
   "cell_type": "code",
   "execution_count": 145,
   "metadata": {},
   "outputs": [
    {
     "data": {
      "text/plain": [
       "array([ True,  True])"
      ]
     },
     "execution_count": 145,
     "metadata": {},
     "output_type": "execute_result"
    }
   ],
   "source": [
    "does_intersect = np.any(~np.isnan(intersects), (1, 2))\n",
    "does_intersect"
   ]
  },
  {
   "cell_type": "code",
   "execution_count": 146,
   "metadata": {},
   "outputs": [
    {
     "data": {
      "text/plain": [
       "array([0.74999625, 0.5       ])"
      ]
     },
     "execution_count": 146,
     "metadata": {},
     "output_type": "execute_result"
    }
   ],
   "source": [
    "intersects[0, 0]"
   ]
  },
  {
   "cell_type": "code",
   "execution_count": 147,
   "metadata": {},
   "outputs": [
    {
     "data": {
      "text/plain": [
       "array([0.14999925, 0.5       ])"
      ]
     },
     "execution_count": 147,
     "metadata": {},
     "output_type": "execute_result"
    }
   ],
   "source": [
    "intersects[0, 1]"
   ]
  },
  {
   "cell_type": "code",
   "execution_count": 148,
   "metadata": {},
   "outputs": [
    {
     "data": {
      "text/plain": [
       "array([0.66666667, 0.13333333])"
      ]
     },
     "execution_count": 148,
     "metadata": {},
     "output_type": "execute_result"
    }
   ],
   "source": [
    "intersects[1, 0]"
   ]
  },
  {
   "cell_type": "code",
   "execution_count": 149,
   "metadata": {},
   "outputs": [
    {
     "data": {
      "text/plain": [
       "array([nan, nan])"
      ]
     },
     "execution_count": 149,
     "metadata": {},
     "output_type": "execute_result"
    }
   ],
   "source": [
    "intersects[1, 1]"
   ]
  },
  {
   "cell_type": "code",
   "execution_count": 150,
   "metadata": {},
   "outputs": [
    {
     "data": {
      "text/plain": [
       "<matplotlib.legend.Legend at 0x7f385a21cd50>"
      ]
     },
     "execution_count": 150,
     "metadata": {},
     "output_type": "execute_result"
    },
    {
     "data": {
      "image/png": "[encoded data removed]",
      "text/plain": [
       "<Figure size 432x288 with 1 Axes>"
      ]
     },
     "metadata": {
      "needs_background": "light"
     },
     "output_type": "display_data"
    }
   ],
   "source": [
    "l1 = np.vstack([x1[0, :], x1[0, :]+d1[0, :]])\n",
    "l2 = np.vstack([x1[1, :], x1[1, :]+d1[1, :]])\n",
    "l3 = np.vstack([x2[0, :], x2[0, :]+d2[0, :]])\n",
    "l4 = np.vstack([x2[1, :], x2[1, :]+d2[1, :]])\n",
    "\n",
    "plt.plot(l1[:, 0], l1[:, 1], label=\"1\")\n",
    "plt.plot(l2[:, 0], l2[:, 1], label=\"2\")\n",
    "plt.plot(l3[:, 0], l3[:, 1], label=\"3\")\n",
    "plt.plot(l4[:, 0], l4[:, 1], label=\"4\")\n",
    "plt.legend()"
   ]
  },
  {
   "cell_type": "code",
   "execution_count": null,
   "metadata": {},
   "outputs": [],
   "source": []
  }
 ],
 "metadata": {
  "kernelspec": {
   "display_name": "Python 3.7 (ML)",
   "language": "python",
   "name": "python3-ml"
  },
  "language_info": {
   "codemirror_mode": {
    "name": "ipython",
    "version": 3
   },
   "file_extension": ".py",
   "mimetype": "text/x-python",
   "name": "python",
   "nbconvert_exporter": "python",
   "pygments_lexer": "ipython3",
   "version": "3.7.5"
  }
 },
 "nbformat": 4,
 "nbformat_minor": 4
}
