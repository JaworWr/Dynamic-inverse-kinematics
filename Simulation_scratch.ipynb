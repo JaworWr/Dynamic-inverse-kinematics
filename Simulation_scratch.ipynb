{
 "cells": [
  {
   "cell_type": "code",
   "execution_count": 1,
   "metadata": {},
   "outputs": [],
   "source": [
    "import numpy as np\n",
    "import matplotlib.pyplot as plt\n",
    "from simulation import *"
   ]
  },
  {
   "cell_type": "markdown",
   "metadata": {},
   "source": [
    "## Dynamic objectives"
   ]
  },
  {
   "cell_type": "code",
   "execution_count": 2,
   "metadata": {
    "collapsed": false,
    "jupyter": {
     "outputs_hidden": false
    },
    "pycharm": {
     "name": "#%%\n"
    }
   },
   "outputs": [],
   "source": [
    "rectangles = [((0.5, 4.), (2., 5.5))]\n",
    "rectangle_vs = [(0.2, -0.2)]\n",
    "target = np.array([1.2, 8.])\n",
    "target_v = (0.1, 0.1)\n",
    "S = [1.] * 3\n",
    "\n",
    "objective = dynamic_inverse_kinematics_objectives(S, target, target_v, rectangles, rectangle_vs)"
   ]
  },
  {
   "cell_type": "code",
   "execution_count": 3,
   "metadata": {
    "collapsed": false,
    "jupyter": {
     "outputs_hidden": false
    },
    "pycharm": {
     "name": "#%%\n"
    }
   },
   "outputs": [
    {
     "data": {
      "text/plain": [
       "array([[89.09130996,  0.        ]])"
      ]
     },
     "execution_count": 3,
     "metadata": {},
     "output_type": "execute_result"
    }
   ],
   "source": [
    "alphas = np.array([[1., 2., 1.5]])\n",
    "objective(10, np.array([[1., 2., 1.5]]))"
   ]
  },
  {
   "cell_type": "code",
   "execution_count": 5,
   "metadata": {
    "collapsed": false,
    "jupyter": {
     "outputs_hidden": false
    },
    "pycharm": {
     "name": "#%%\n"
    }
   },
   "outputs": [
    {
     "data": {
      "text/plain": [
       "array([[67.38045973,  0.        ]])"
      ]
     },
     "execution_count": 5,
     "metadata": {},
     "output_type": "execute_result"
    }
   ],
   "source": [
    "alphas = np.array([[1., 2., 1.5]])\n",
    "objective(0, np.array([[1., 2., 1.5]]))"
   ]
  },
  {
   "cell_type": "markdown",
   "metadata": {},
   "source": [
    "## Rectangle penalty tests"
   ]
  },
  {
   "cell_type": "markdown",
   "metadata": {},
   "source": [
    "TODO: make into actual unit tests perhaps?"
   ]
  },
  {
   "cell_type": "code",
   "execution_count": 10,
   "metadata": {},
   "outputs": [
    {
     "name": "stdout",
     "output_type": "stream",
     "text": [
      "CPU times: user 438 µs, sys: 288 µs, total: 726 µs\n",
      "Wall time: 494 µs\n"
     ]
    },
    {
     "data": {
      "text/plain": [
       "(array([[[2. , 0.6],\n",
       "         [1. , 0.6],\n",
       "         [1. , 0.8],\n",
       "         [4. , 0.8]]]),\n",
       " array([[[-1.0000000e+00,  1.2246468e-16],\n",
       "         [ 1.2246468e-17,  2.0000000e-01],\n",
       "         [ 3.0000000e+00,  0.0000000e+00]]]),\n",
       " array([[-0.5,  0.5],\n",
       "        [-0.5,  0.5],\n",
       "        [ 1.5,  1. ],\n",
       "        [ 1.5,  1. ]]),\n",
       " array([[ 2. ,  0. ],\n",
       "        [ 0. ,  0.5],\n",
       "        [-2. , -0. ],\n",
       "        [-0. , -0.5]]))"
      ]
     },
     "execution_count": 10,
     "metadata": {},
     "output_type": "execute_result"
    }
   ],
   "source": [
    "%%time\n",
    "# x0 = 0.\n",
    "# y0 = 1.5\n",
    "# S = [0.9, 1., 0.9]\n",
    "# alphas = -np.array([[np.pi / 2, -np.pi / 2, -np.pi / 2]])\n",
    "x0 = 2.\n",
    "y0 = 0.6\n",
    "S = [1, 0.2, 3]\n",
    "# alphas = np.array([[0, np.pi / 2, np.pi / 2]])\n",
    "alphas = np.array([[np.pi, -np.pi / 2, -np.pi / 2]])\n",
    "x, d = alphas_to_coords(S, x0, y0, alphas)\n",
    "rect_x, rect_d = make_rectangle([-0.5, 0.5], [1.5, 1.0])\n",
    "x, d, rect_x, rect_d"
   ]
  },
  {
   "cell_type": "code",
   "execution_count": 11,
   "metadata": {},
   "outputs": [
    {
     "data": {
      "text/plain": [
       "[<matplotlib.lines.Line2D at 0x7f7b16f32210>]"
      ]
     },
     "execution_count": 11,
     "metadata": {},
     "output_type": "execute_result"
    },
    {
     "data": {
      "image/png": "[encoded data removed]",
      "text/plain": [
       "<Figure size 432x288 with 1 Axes>"
      ]
     },
     "metadata": {
      "needs_background": "light"
     },
     "output_type": "display_data"
    }
   ],
   "source": [
    "rect = patches.Rectangle(rect_x[0, :], rect_d[0, 0], rect_d[1, 1], edgecolor=\"k\", facecolor=(0, 0, 0, 0))\n",
    "fig, ax = plt.subplots()\n",
    "ax.set_xlim(-1, 2.)\n",
    "ax.set_ylim(0., 2.)\n",
    "ax.add_patch(rect)\n",
    "ax.plot(x[0, :, 0], x[0, :, 1])"
   ]
  },
  {
   "cell_type": "code",
   "execution_count": 12,
   "metadata": {},
   "outputs": [
    {
     "name": "stdout",
     "output_type": "stream",
     "text": [
      "CPU times: user 1.98 ms, sys: 1.14 ms, total: 3.11 ms\n",
      "Wall time: 3.02 ms\n"
     ]
    },
    {
     "name": "stderr",
     "output_type": "stream",
     "text": [
      "/home/i291318/Dynamic-inverse-kinematics/simulation.py:23: RuntimeWarning: divide by zero encountered in true_divide\n",
      "  t = vector_product(x2 - x1, d2) / rs\n",
      "/home/i291318/Dynamic-inverse-kinematics/simulation.py:24: RuntimeWarning: divide by zero encountered in true_divide\n",
      "  u = vector_product(x2 - x1, d1) / rs\n"
     ]
    },
    {
     "data": {
      "text/plain": [
       "array([0.0500125])"
      ]
     },
     "execution_count": 12,
     "metadata": {},
     "output_type": "execute_result"
    }
   ],
   "source": [
    "%%time\n",
    "rectangle_total_penalty(x, d, rect_x, rect_d)"
   ]
  },
  {
   "cell_type": "markdown",
   "metadata": {},
   "source": [
    "## Misc"
   ]
  },
  {
   "cell_type": "code",
   "execution_count": 17,
   "metadata": {},
   "outputs": [],
   "source": [
    "S = [1, 0.5, 0.5]\n",
    "x0 = 0.\n",
    "y0 = 0.\n",
    "alphas = np.array([[np.pi / 4., -np.pi / 2., np.pi - np.pi / 6.]])"
   ]
  },
  {
   "cell_type": "code",
   "execution_count": 18,
   "metadata": {},
   "outputs": [
    {
     "data": {
      "text/plain": [
       "(array([[[0.        , 0.        ],\n",
       "         [0.70710678, 0.70710678],\n",
       "         [1.06066017, 0.35355339],\n",
       "         [0.93125065, 0.8365163 ]]]),\n",
       " array([[[ 0.70710678,  0.70710678],\n",
       "         [ 0.35355339, -0.35355339],\n",
       "         [-0.12940952,  0.48296291]]]))"
      ]
     },
     "execution_count": 18,
     "metadata": {},
     "output_type": "execute_result"
    }
   ],
   "source": [
    "x, dx = alphas_to_coords(S, x0, y0, alphas)\n",
    "x, dx"
   ]
  },
  {
   "cell_type": "code",
   "execution_count": 19,
   "metadata": {},
   "outputs": [
    {
     "data": {
      "text/plain": [
       "(-0.05303300858899107,\n",
       " 1.1136931803688124,\n",
       " -0.041825815186890394,\n",
       " 0.8783421189246983)"
      ]
     },
     "execution_count": 19,
     "metadata": {},
     "output_type": "execute_result"
    },
    {
     "data": {
      "image/png": "[encoded data removed]",
      "text/plain": [
       "<Figure size 432x288 with 1 Axes>"
      ]
     },
     "metadata": {
      "needs_background": "light"
     },
     "output_type": "display_data"
    }
   ],
   "source": [
    "plt.plot(x[0, :, 0], x[0, :, 1])\n",
    "plt.axis(\"equal\")"
   ]
  },
  {
   "cell_type": "code",
   "execution_count": 33,
   "metadata": {},
   "outputs": [
    {
     "data": {
      "image/png": "[encoded data removed]",
      "text/plain": [
       "<Figure size 432x288 with 1 Axes>"
      ]
     },
     "metadata": {
      "needs_background": "light"
     },
     "output_type": "display_data"
    }
   ],
   "source": [
    "draw_solutions(alphas, S, 0.5, 1.5, [((0.25, 0.8), [0.5, 1.0])])"
   ]
  },
  {
   "cell_type": "code",
   "execution_count": 142,
   "metadata": {},
   "outputs": [
    {
     "data": {
      "text/plain": [
       "(array([[1., 1.],\n",
       "        [1., 1.],\n",
       "        [2., 3.],\n",
       "        [2., 3.]]),\n",
       " array([[ 1.,  0.],\n",
       "        [ 0.,  2.],\n",
       "        [-1., -0.],\n",
       "        [-0., -2.]]))"
      ]
     },
     "execution_count": 142,
     "metadata": {},
     "output_type": "execute_result"
    }
   ],
   "source": [
    "make_rectangle(\n",
    "    np.array([1., 1.]),\n",
    "    np.array([2., 3.])\n",
    ")"
   ]
  },
  {
   "cell_type": "code",
   "execution_count": 143,
   "metadata": {},
   "outputs": [],
   "source": [
    "x1 = np.array([[0, 1],\n",
    "               [0, 0.4]])\n",
    "d1 = np.array([[0.66667, -0.66667],\n",
    "               [0.2, -0.4]])\n",
    "x2 = np.array([[0, 0],\n",
    "               [0, 0.8]])\n",
    "d2 = np.array([[1, 1],\n",
    "               [0.2, 0.2]])"
   ]
  },
  {
   "cell_type": "code",
   "execution_count": 144,
   "metadata": {},
   "outputs": [
    {
     "data": {
      "text/plain": [
       "(2, 2, 2)"
      ]
     },
     "execution_count": 144,
     "metadata": {},
     "output_type": "execute_result"
    }
   ],
   "source": [
    "intersects = intersect(x1, d1, x2, d2)\n",
    "intersects.shape"
   ]
  },
  {
   "cell_type": "code",
   "execution_count": 145,
   "metadata": {},
   "outputs": [
    {
     "data": {
      "text/plain": [
       "array([ True,  True])"
      ]
     },
     "execution_count": 145,
     "metadata": {},
     "output_type": "execute_result"
    }
   ],
   "source": [
    "does_intersect = np.any(~np.isnan(intersects), (1, 2))\n",
    "does_intersect"
   ]
  },
  {
   "cell_type": "code",
   "execution_count": 146,
   "metadata": {},
   "outputs": [
    {
     "data": {
      "text/plain": [
       "array([0.74999625, 0.5       ])"
      ]
     },
     "execution_count": 146,
     "metadata": {},
     "output_type": "execute_result"
    }
   ],
   "source": [
    "intersects[0, 0]"
   ]
  },
  {
   "cell_type": "code",
   "execution_count": 147,
   "metadata": {},
   "outputs": [
    {
     "data": {
      "text/plain": [
       "array([0.14999925, 0.5       ])"
      ]
     },
     "execution_count": 147,
     "metadata": {},
     "output_type": "execute_result"
    }
   ],
   "source": [
    "intersects[0, 1]"
   ]
  },
  {
   "cell_type": "code",
   "execution_count": 148,
   "metadata": {},
   "outputs": [
    {
     "data": {
      "text/plain": [
       "array([0.66666667, 0.13333333])"
      ]
     },
     "execution_count": 148,
     "metadata": {},
     "output_type": "execute_result"
    }
   ],
   "source": [
    "intersects[1, 0]"
   ]
  },
  {
   "cell_type": "code",
   "execution_count": 149,
   "metadata": {},
   "outputs": [
    {
     "data": {
      "text/plain": [
       "array([nan, nan])"
      ]
     },
     "execution_count": 149,
     "metadata": {},
     "output_type": "execute_result"
    }
   ],
   "source": [
    "intersects[1, 1]"
   ]
  },
  {
   "cell_type": "code",
   "execution_count": 150,
   "metadata": {},
   "outputs": [
    {
     "data": {
      "text/plain": [
       "<matplotlib.legend.Legend at 0x7f385a21cd50>"
      ]
     },
     "execution_count": 150,
     "metadata": {},
     "output_type": "execute_result"
    },
    {
     "data": {
      "image/png": "[encoded data removed]",
      "text/plain": [
       "<Figure size 432x288 with 1 Axes>"
      ]
     },
     "metadata": {
      "needs_background": "light"
     },
     "output_type": "display_data"
    }
   ],
   "source": [
    "l1 = np.vstack([x1[0, :], x1[0, :]+d1[0, :]])\n",
    "l2 = np.vstack([x1[1, :], x1[1, :]+d1[1, :]])\n",
    "l3 = np.vstack([x2[0, :], x2[0, :]+d2[0, :]])\n",
    "l4 = np.vstack([x2[1, :], x2[1, :]+d2[1, :]])\n",
    "\n",
    "plt.plot(l1[:, 0], l1[:, 1], label=\"1\")\n",
    "plt.plot(l2[:, 0], l2[:, 1], label=\"2\")\n",
    "plt.plot(l3[:, 0], l3[:, 1], label=\"3\")\n",
    "plt.plot(l4[:, 0], l4[:, 1], label=\"4\")\n",
    "plt.legend()"
   ]
  },
  {
   "cell_type": "code",
   "execution_count": null,
   "metadata": {},
   "outputs": [],
   "source": []
  }
 ],
 "metadata": {
  "kernelspec": {
   "display_name": "Python 3",
   "language": "python",
   "name": "python3"
  },
  "language_info": {
   "codemirror_mode": {
    "name": "ipython",
    "version": 3
   },
   "file_extension": ".py",
   "mimetype": "text/x-python",
   "name": "python",
   "nbconvert_exporter": "python",
   "pygments_lexer": "ipython3",
   "version": "3.7.6"
  }
 },
 "nbformat": 4,
 "nbformat_minor": 4
}
