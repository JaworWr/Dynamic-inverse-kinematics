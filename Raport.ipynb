{
 "cells": [
  {
   "cell_type": "markdown",
   "metadata": {},
   "source": [
    "# Projekt - Dynamic Inverse Kinematics"
   ]
  },
  {
   "cell_type": "markdown",
   "metadata": {},
   "source": [
    "## Opis zagadnienia"
   ]
  },
  {
   "cell_type": "markdown",
   "metadata": {},
   "source": [
    "Celem projektu jest rozwiązanie problemu Inverse Kinematics w dynamicznie zmieniającym się środowisku. W klasycznej wersji problemu dane jest ramię złożone z pewnej liczby segmentów. Celem jest takie dobranie kątów między segmentami, aby koniec ostatniego segmentu znalazł się w zadanym punkcie. W moim projekcie rozważam wersję problemu, w której obecne są dodatkowo prostokątne przeszkody. Co więcej, zarówno położenie przeszkód jak i celu może zmieniać się wraz z czasem."
   ]
  },
  {
   "cell_type": "markdown",
   "metadata": {},
   "source": [
    "## Opis metody"
   ]
  },
  {
   "cell_type": "markdown",
   "metadata": {},
   "source": [
    "### Przestrzeń poszukiwań"
   ]
  },
  {
   "cell_type": "markdown",
   "metadata": {},
   "source": [
    "Przestrzenią poszukiwań jest zbiór wektorów o wartościach rzeczywistych z zadanych przedziałów. Wartości wektora reprezentują kąty w radianach między kolejbymi segmentami, a przedziały pozwalają na ograniczenie zakresu ruchu danego segmentu."
   ]
  },
  {
   "cell_type": "markdown",
   "metadata": {},
   "source": [
    "### Funkcja celu"
   ]
  },
  {
   "cell_type": "markdown",
   "metadata": {},
   "source": [
    "Jako funkcję celu stosuję odległość euklidesową końca ostatniego segmentu od celu, podniesioną do kwadratu."
   ]
  },
  {
   "cell_type": "markdown",
   "metadata": {},
   "source": [
    "### Funkcje ograniczeń"
   ]
  },
  {
   "cell_type": "markdown",
   "metadata": {},
   "source": [
    "Dla każdej przeszkody definiuję osobną funkcję ograniczeń, pozwalającą oszacować, w jakim stopniu ramię \"nachodzi\" na daną przeszkodę. Dla każdej kolizji liczona jest wartość \"kary\", liczonej poprzez szacowanie stosunku pól figur, na które ramię dzieli daną przeszkodę."
   ]
  },
  {
   "cell_type": "markdown",
   "metadata": {},
   "source": [
    "TODO: rysunek"
   ]
  },
  {
   "cell_type": "markdown",
   "metadata": {},
   "source": [
    "### Użyty algorytm"
   ]
  },
  {
   "cell_type": "markdown",
   "metadata": {},
   "source": [
    "Do rozwiązania problemu stosuję algorytm IDEA w wersji dostosowanej do rozwiązywania problemów dynamicznych. W kolejnych krokach ewolucja jest rozpoczynana z populacją z poprzedniego kroku, w której część najsłabszych osobników zastąpiono losowymi imigrantami."
   ]
  },
  {
   "cell_type": "markdown",
   "metadata": {},
   "source": [
    "### Operatory ewolucyjne"
   ]
  },
  {
   "cell_type": "markdown",
   "metadata": {},
   "source": [
    "Używane są operatory *simulated binary crossover* oraz *polynomial mutation*. W przypadku mutacji wprowadziłem dodatkową możliwość multiplikatywnego zmniejszania prawdopodobieństwa mutacji dla wartości reprezentujących kąty bliżej podstawy ramienia."
   ]
  },
  {
   "cell_type": "code",
   "execution_count": null,
   "metadata": {},
   "outputs": [],
   "source": []
  }
 ],
 "metadata": {
  "kernelspec": {
   "display_name": "Python 3",
   "language": "python",
   "name": "python3"
  },
  "language_info": {
   "codemirror_mode": {
    "name": "ipython",
    "version": 3
   },
   "file_extension": ".py",
   "mimetype": "text/x-python",
   "name": "python",
   "nbconvert_exporter": "python",
   "pygments_lexer": "ipython3",
   "version": "3.7.6"
  }
 },
 "nbformat": 4,
 "nbformat_minor": 4
}
