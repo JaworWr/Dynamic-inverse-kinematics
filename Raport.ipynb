{
 "cells": [
  {
   "cell_type": "markdown",
   "metadata": {},
   "source": [
    "# Projekt - Dynamic Inverse Kinematics"
   ]
  },
  {
   "cell_type": "markdown",
   "metadata": {},
   "source": [
    "## Opis zagadnienia"
   ]
  },
  {
   "cell_type": "markdown",
   "metadata": {},
   "source": [
    "Celem projektu jest rozwiązanie problemu Inverse Kinematics w dynamicznie zmieniającym się środowisku. W klasycznej wersji problemu dane jest ramię złożone z pewnej liczby segmentów. Celem jest takie dobranie kątów między segmentami, aby koniec ostatniego segmentu znalazł się w zadanym punkcie. W moim projekcie rozważam wersję problemu, w której obecne są dodatkowo prostokątne przeszkody. Co więcej, zarówno położenie przeszkód jak i celu może zmieniać się wraz z czasem."
   ]
  },
  {
   "cell_type": "markdown",
   "metadata": {},
   "source": [
    "## Opis metody"
   ]
  },
  {
   "cell_type": "markdown",
   "metadata": {},
   "source": [
    "### Przestrzeń poszukiwań"
   ]
  },
  {
   "cell_type": "markdown",
   "metadata": {},
   "source": [
    "Przestrzenią poszukiwań jest zbiór wektorów o wartościach rzeczywistych. Wartości wektora reprezentują kąty w radianach między kolejnymi segmentami. W większości przypadków kąty pomiędzy segmentami były ograniczane do przedziału $[-\\pi, \\pi]$, w praktyce możliwe są jednak dowolne ich wartości. W przypadku pierwszego segmentu kąt jest mierzony do podłoża, dla kolejnych segmentów mierzone jest odchylenie od przedłużenia poprzedniego odcinka. Wszystkie kąty mierzone są przeciwnie do ruchu wskazówek zegara."
   ]
  },
  {
   "cell_type": "markdown",
   "metadata": {},
   "source": [
    "### Funkcja celu"
   ]
  },
  {
   "cell_type": "markdown",
   "metadata": {},
   "source": [
    "Jako funkcję celu stosuję odległość euklidesową końca ostatniego segmentu od celu, podniesioną do kwadratu."
   ]
  },
  {
   "cell_type": "markdown",
   "metadata": {},
   "source": [
    "### Funkcje ograniczeń"
   ]
  },
  {
   "cell_type": "markdown",
   "metadata": {},
   "source": [
    "Dla każdej przeszkody definiuję osobną funkcję ograniczeń, pozwalającą oszacować, w jakim stopniu ramię \"nachodzi\" na daną przeszkodę. Dla każdej kolizji obliczana jest wartość \"kary\", liczonej poprzez szacowanie pola mniejszej spośród figur, na które ramię dzieli daną przeszkodę. We wszystkich przypadkach oprócz 3. w obliczeniach rozważane są jedynie wierzchołki prostokąta i punkty przecięcia ramienia z bokami. Rozważane są następujące przypadki:\n",
    "1. Ramię przecina dwa przeciwległe boki. Wówczas pole jest szacowane jako mniejsze z pól trapezów\n",
    "1. Ramię przecina dwa sąsiednie boki. Pole jest szacowane jako pole powstałego trójkąta prostokątnego.\n",
    "1. Ramię przecina dwa razy ten sam bok. Pole jest szacowane jako pole trójkąta o długości podstawy równej odległości między punktami przecięcia oraz wysokości równej maksymalnej odległości ramienia od rozważanego boku. Do długości podstawy dodawana jest niewielka wartość aby zapobiec zwróceniu zera w przypadku, gdy oba punkty przecięcia są równe.\n",
    "1. Ramię kończy się wewnątrz prostokąta. Wówczas zwracane jest pole całego prostokąta\n",
    "\n",
    "W przypadku gdy jeden osobnik przecina tę samą przeszkodę wiele razy, powyższe wartości są sumowane."
   ]
  },
  {
   "cell_type": "markdown",
   "metadata": {},
   "source": [
    "### Użyty algorytm"
   ]
  },
  {
   "cell_type": "markdown",
   "metadata": {},
   "source": [
    "Do rozwiązania problemu stosuję algorytm IDEA w wersji dostosowanej do rozwiązywania problemów dynamicznych. W kolejnych krokach ewolucja jest rozpoczynana z populacją z poprzedniego kroku, w której część najsłabszych osobników zastąpiono losowymi imigrantami.\n",
    "\n",
    "Algorytm opisany jest tutaj: https://www.researchgate.net/publication/225673364_Infeasibility_Driven_Evolutionary_Algorithm_for_Constrained_Optimization\n",
    "\n",
    "Tutaj można przeczytać o jego stosowaniu do problemów dynamicznych: https://www.researchgate.net/publication/224472397_Performance_of_infeasibility_driven_evolutionary_algorithm_IDEA_on_constrained_dynamic_single_objective_optimization_problems"
   ]
  },
  {
   "cell_type": "markdown",
   "metadata": {},
   "source": [
    "### Operatory ewolucyjne"
   ]
  },
  {
   "cell_type": "markdown",
   "metadata": {},
   "source": [
    "Używane są operatory *simulated binary crossover* oraz *polynomial mutation*. W eksperymentach oprócz stałego prawdopodobieństwa mutacji testowałem stosowanie rożnego prawdopodobieństwa mutacji dla różnych segmentów, zgodnie z ideą, że zmiany bliżej podstawy mają większy wpływ na osobnika niż zmiany bliżej końca ramienia."
   ]
  },
  {
   "cell_type": "markdown",
   "metadata": {},
   "source": [
    "## Eksperymenty"
   ]
  },
  {
   "cell_type": "markdown",
   "metadata": {},
   "source": [
    "### Implementacja"
   ]
  },
  {
   "cell_type": "markdown",
   "metadata": {},
   "source": [
    "W każdym eksperymencie wczytywany jest zapisany wcześniej stan generatora liczb losowych, dzięki czemu eksperymenty powinny być powtarzalne. Ostatnia linijka w komórce zawierającej wywołanie algorytmu służy zapisaniu historii populacji oraz wartości funkcji celu w katalogu `/tmp`. Przy powtarzaniu prób można ją usunąć."
   ]
  },
  {
   "cell_type": "markdown",
   "metadata": {},
   "source": [
    "### Rozważane problemy i wyniki"
   ]
  },
  {
   "cell_type": "markdown",
   "metadata": {},
   "source": [
    "1. Cel jest nieruchomy, występuje jedna przeszkoda poruszająca się w lewo. Algorytm zmuszony jest w pewnym momencie \"przeskoczyć\" na jej drugą stronę. Algorytm dobrze rozwiązuje ten problem pod warunkiem zastosowania losowych imigrantów.\n",
    "2. Początek ramienia otoczony jest nieruchomymi przeszkodami okrążanymi przez cel. Przetestowałem zarówno stałe jak i zmienne prawdopodobieństwo mutacji dla kolejnych kątów, w obu przypadkach algorytm radził sobie dobrze.\n",
    "3. Przeszkody i cel poruszają się ruchem jednostajnym w różnych kierunkach. Ramię musi przejść przez obecne w przeszkodach szczeliny. Ponownie testowałem zarówno stałe, jak i zmienne prawdopdobieństwo mutacji. W obu przypadkach algorytm zadział dobrze.\n",
    "4. Ramię musi pokonać dwa rzędy przeszkód poruszające się w przeciwnych kierunkach, z wieloma dostępnymi szczelinami. Cel również porusza się ruchem jednostajnym. Ramię musi wielokrotnie zmieniać wykorzystywane szczeliny. Ponownie, problem został przez algorytm rozwiązany.\n",
    "5. Trudniejsza wersja eksperymentu 3., algorytm musi pokonać dwie wąskie szczeliny przesuwające się w przeciwnych kierunkach. W tym eksperymencie właściwy dobór parametrów okazał się kluczowy. W szczególności, zastosowanie zmiennego prawdopodobieństwa mutacji znacznie podnosiło skuteczność algorytmu.\n",
    "6. Tym razem algorytm musi pokonać jedną z dostępnych, długich i wąskich szczelin. Ponownie podejście korzystające ze zmiennego prawdopodobieństwa mutacji okazało się skuteczniejesze.\n",
    "7. Algorytm ma do pokonania prosty labirynt. To zadanie wymagało dużej populacji oraz precyzyjnego dobrania parametrów algorytmu, udało się je jednak zrealizować. Problematyczne okazywały się połączenia między ścianami labiryntu, które tworzyły minima lokalne dla funkcji ograniczeń.\n",
    "8. Ramię musi pokonać grupę losowo poruszających się przeszkód. Zadanie nie sprawiało problemów.\n",
    "9. Ramię ma do pokonoania wiele przeszkód poruszających się w różnych kierunkach, cel znajduje się w dużej odległości. To zadanie jest istotnie trudniejsze od poprzednich, również ze względu na dużą liczbę segmentów (a więc duży wymiar przestrzeni poszukiwań). Tego zadania algorytmowi nie udało się rozwiązać.\n",
    "10. Cel znajduje się w dużej odległości, tuż przed nim znajduje się poruszająca się ruchem jednostajnym przeszkoda ze szczeliną. Jest to znacznie uproszczona wersja poprzedniego problemu, tym razem algorytm znalazł rozwiązanie.\n",
    "11. Cel przemieszcza się między trzema odzielonymi przeszkodami strefami. Ten problem wymaga niemal całkowitego rozprostownaia ramienia, co sprawiało istotną trudność. Niemniej jednak, przy zastosowaniu dużej liczby iteracji, udało się znaleźć rozwiązanie dość bliskie optymalnemu. Niewielka frakcja rozwiązań niepoprawnych umożliwiała sprawne roziązywanie problemu w kolejnych momentach."
   ]
  },
  {
   "cell_type": "markdown",
   "metadata": {},
   "source": [
    "## Wnioski"
   ]
  },
  {
   "cell_type": "markdown",
   "metadata": {},
   "source": [
    "Algorytm radzi sobie dobrze z omijaniem pojedynczych przeszkód. Problemy może sprawiać natomiast ominięcie wielu przeszkód, w szczególności pokonywanie labiryntów wymaga dużych populacji i precyzyjnie dobranych parametrów. Występowały również problemy dla ramion złożonych z wielu segmentóœ w przypadku, gdy odległość od  celu nie zostawiała dużego marginesu błędu."
   ]
  },
  {
   "cell_type": "markdown",
   "metadata": {},
   "source": [
    "W większości problemów opłacalne było przechowywanie dużej frakcji rozwiązań niepoprawnych - w większości przypadków ominięcie przeszkód odbywało się poprzez \"naprawienie\" jednego z takich rozwiązań, podczas gdy rozwiązania poprawne pozostawały w minimach lokalnych."
   ]
  }
 ],
 "metadata": {
  "kernelspec": {
   "display_name": "Python 3",
   "language": "python",
   "name": "python3"
  },
  "language_info": {
   "codemirror_mode": {
    "name": "ipython",
    "version": 3
   },
   "file_extension": ".py",
   "mimetype": "text/x-python",
   "name": "python",
   "nbconvert_exporter": "python",
   "pygments_lexer": "ipython3",
   "version": "3.8.2"
  }
 },
 "nbformat": 4,
 "nbformat_minor": 4
}
