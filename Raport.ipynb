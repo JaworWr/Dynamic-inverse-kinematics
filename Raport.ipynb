{
 "cells": [
  {
   "cell_type": "markdown",
   "metadata": {},
   "source": [
    "# Projekt - Dynamic Inverse Kinematics"
   ]
  },
  {
   "cell_type": "markdown",
   "metadata": {},
   "source": [
    "## Opis zagadnienia"
   ]
  },
  {
   "cell_type": "markdown",
   "metadata": {},
   "source": [
    "Celem projektu jest rozwiązanie problemu Inverse Kinematics w dynamicznie zmieniającym się środowisku. W klasycznej wersji problemu dane jest ramię złożone z pewnej liczby segmentów. Celem jest takie dobranie kątów między segmentami, aby koniec ostatniego segmentu znalazł się w zadanym punkcie. W moim projekcie rozważam wersję problemu, w której obecne są dodatkowo prostokątne przeszkody. Co więcej, zarówno położenie przeszkód jak i celu może zmieniać się wraz z czasem."
   ]
  },
  {
   "cell_type": "markdown",
   "metadata": {},
   "source": [
    "## Opis metody"
   ]
  },
  {
   "cell_type": "markdown",
   "metadata": {},
   "source": [
    "### Przestrzeń poszukiwań"
   ]
  },
  {
   "cell_type": "markdown",
   "metadata": {},
   "source": [
    "Przestrzenią poszukiwań jest zbiór wektorów o wartościach rzeczywistych z zadanych przedziałów. Wartości wektora reprezentują kąty w radianach między kolejbymi segmentami, a przedziały pozwalają na ograniczenie zakresu ruchu danego segmentu."
   ]
  },
  {
   "cell_type": "markdown",
   "metadata": {},
   "source": [
    "### Funkcja celu"
   ]
  },
  {
   "cell_type": "markdown",
   "metadata": {},
   "source": [
    "Jako funkcję celu stosuję odległość euklidesową końca ostatniego segmentu od celu, podniesioną do kwadratu."
   ]
  },
  {
   "cell_type": "markdown",
   "metadata": {},
   "source": [
    "### Funkcje ograniczeń"
   ]
  },
  {
   "cell_type": "markdown",
   "metadata": {},
   "source": [
    "Dla każdej przeszkody definiuję osobną funkcję ograniczeń, pozwalającą oszacować, w jakim stopniu ramię \"nachodzi\" na daną przeszkodę. Dla każdej kolizji liczona jest wartość \"kary\", liczonej poprzez szacowanie pola mniejszej spośród figur, na które ramię dzieli daną przeszkodę. W e wszystkich przypadkach oprócz 3. w obliczeniach rozważane są jedynie wierzchołki prostokąta i punkty przecięcia ramienia z bokami. Rozważane są następujące przypadki:\n",
    "1. Ramię przecina dwa przeciwległe boki. Wówczas pole jest szacowane jako mniejsze z pól trapezów\n",
    "1. Ramię przecina dwa sąsiednie boki. Pole jest szacowane jako pole powstałego trójkąta prostokątnego.\n",
    "1. Ramię przecina dwa razy ten sam bok. Pole jest szacowane jako pole trójkąta o długości podstawy równej odległości między punktmai przecięcia oraz wysokości równej maksymalnej odległości ramienia od rozważanego boku. Do długości podstawy dodawana jest niewielka wartość aby zapobiec przypadkowi, kiedy oba punkty przecięcia są równe.\n",
    "1. Ramię kończy się wewnątrz prostokąta. Wówczas zwracane jest pole całego prostokąta\n",
    "\n",
    "W przypadku gdy jeden osobnik przecina tę samą przeszkodę wiele razy, powyższe wartości są sumowane."
   ]
  },
  {
   "cell_type": "markdown",
   "metadata": {},
   "source": [
    "### Użyty algorytm"
   ]
  },
  {
   "cell_type": "markdown",
   "metadata": {},
   "source": [
    "Do rozwiązania problemu stosuję algorytm IDEA w wersji dostosowanej do rozwiązywania problemów dynamicznych. W kolejnych krokach ewolucja jest rozpoczynana z populacją z poprzedniego kroku, w której część najsłabszych osobników zastąpiono losowymi imigrantami."
   ]
  },
  {
   "cell_type": "markdown",
   "metadata": {},
   "source": [
    "### Operatory ewolucyjne"
   ]
  },
  {
   "cell_type": "markdown",
   "metadata": {},
   "source": [
    "Używane są operatory *simulated binary crossover* oraz *polynomial mutation*. W eksperymentach oprócz stałego prawdopodobieństwa mutacji testowałem stosowanie rożnego prawdopodobieństwa mutacji dla różnych segmentów, zgodnie z ideą, że zmiany bliżej podstawy mają większy wpływ na osobnika niż zmiany bliżej końca ramienia."
   ]
  },
  {
   "cell_type": "markdown",
   "metadata": {},
   "source": [
    "## Wnioski"
   ]
  },
  {
   "cell_type": "markdown",
   "metadata": {},
   "source": [
    "Algorytm radzi sobie dobrze z omijaniem pojedynczych przeszkód. Problemy może sprawiać natomiast ominięcie wielu przeszkód, w szczególności algorytm nie radzi sobie z labiryntami (choć może tu mieć znaczenie użyta funkcja celu, która tworzy minima lokalne w punktach stykania się ścian). Występowały również problemy dla długich ramion w przypadku, gdy odległość od  celu nie zostawiałą dużego marginesu błędu."
   ]
  },
  {
   "cell_type": "markdown",
   "metadata": {},
   "source": [
    "W większości problemów opłacalne było przechowywanie dużej frakcji rozwiązań niepoprawnych - w większości przypadków ominięcie przeszkód odbywało się poprzez \"naprawienie\" jednego z takich rozwiązań, podczas gdy rozwiązania poprawne utykały w minimach lokalnych."
   ]
  },
  {
   "cell_type": "code",
   "execution_count": null,
   "metadata": {},
   "outputs": [],
   "source": []
  }
 ],
 "metadata": {
  "kernelspec": {
   "display_name": "Python 3",
   "language": "python",
   "name": "python3"
  },
  "language_info": {
   "codemirror_mode": {
    "name": "ipython",
    "version": 3
   },
   "file_extension": ".py",
   "mimetype": "text/x-python",
   "name": "python",
   "nbconvert_exporter": "python",
   "pygments_lexer": "ipython3",
   "version": "3.7.6"
  }
 },
 "nbformat": 4,
 "nbformat_minor": 4
}
