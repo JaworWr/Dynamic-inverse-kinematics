{
 "cells": [
  {
   "cell_type": "code",
   "execution_count": 8,
   "metadata": {},
   "outputs": [],
   "source": [
    "import numpy as np\n",
    "import matplotlib.pyplot as plt"
   ]
  },
  {
   "cell_type": "code",
   "execution_count": 81,
   "metadata": {},
   "outputs": [],
   "source": [
    "def vector_product(x, y):\n",
    "    return x[:, 0]*y[:, 1] - x[:, 1]*y[:, 0]\n",
    "\n",
    "def intersect(x1, d1, x2, d2):\n",
    "    \"\"\"\n",
    "    Arguments:\n",
    "    x1, d1, x2, d2: (n, 2)\n",
    "    return: t, u s.t. x1 + t*d1 == 2 + u*d2\n",
    "    \"\"\"\n",
    "    rs = vector_product(d1, d2)\n",
    "    t = vector_product(x2 - x1, d2) / rs\n",
    "    u = vector_product(x2 - x1, d1) / rs\n",
    "    tu = np.stack([t, u], 1)\n",
    "    tu = np.minimum(tu, 1.-tu)\n",
    "    m = np.any(0 > tu, axis=1)\n",
    "    tu[m] = 0.\n",
    "    return tu"
   ]
  },
  {
   "cell_type": "code",
   "execution_count": 82,
   "metadata": {},
   "outputs": [],
   "source": [
    "x1 = np.array([[0, 1]])\n",
    "d1 = np.array([[2, -2]])\n",
    "x2 = np.array([[0, 0]])\n",
    "d2 = np.array([[1, 1]])"
   ]
  },
  {
   "cell_type": "code",
   "execution_count": 83,
   "metadata": {},
   "outputs": [
    {
     "data": {
      "text/plain": [
       "array([[0.25, 0.5 ]])"
      ]
     },
     "execution_count": 83,
     "metadata": {},
     "output_type": "execute_result"
    }
   ],
   "source": [
    "intersect(x1, d1, x2, d2)"
   ]
  },
  {
   "cell_type": "code",
   "execution_count": 84,
   "metadata": {},
   "outputs": [
    {
     "data": {
      "text/plain": [
       "[<matplotlib.lines.Line2D at 0x7f7ae510a890>]"
      ]
     },
     "execution_count": 84,
     "metadata": {},
     "output_type": "execute_result"
    },
    {
     "data": {
      "image/png": "[encoded data removed]",
      "text/plain": [
       "<Figure size 432x288 with 1 Axes>"
      ]
     },
     "metadata": {
      "needs_background": "light"
     },
     "output_type": "display_data"
    }
   ],
   "source": [
    "l1 = np.vstack([x1, x1+d1])\n",
    "l2 = np.vstack([x2, x2+d2])\n",
    "plt.plot(l1[:, 0], l1[:, 1])\n",
    "plt.plot(l2[:, 0], l2[:, 1])"
   ]
  },
  {
   "cell_type": "code",
   "execution_count": null,
   "metadata": {},
   "outputs": [],
   "source": []
  }
 ],
 "metadata": {
  "kernelspec": {
   "display_name": "Python 3.7 (ML)",
   "language": "python",
   "name": "python3-ml"
  },
  "language_info": {
   "codemirror_mode": {
    "name": "ipython",
    "version": 3
   },
   "file_extension": ".py",
   "mimetype": "text/x-python",
   "name": "python",
   "nbconvert_exporter": "python",
   "pygments_lexer": "ipython3",
   "version": "3.7.5"
  }
 },
 "nbformat": 4,
 "nbformat_minor": 4
}
