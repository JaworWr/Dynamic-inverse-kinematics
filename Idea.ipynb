{
 "cells": [
  {
   "cell_type": "code",
   "execution_count": 1,
   "metadata": {},
   "outputs": [],
   "source": [
    "import numpy as np\n",
    "import matplotlib.pyplot as plt"
   ]
  },
  {
   "cell_type": "code",
   "execution_count": 2,
   "metadata": {},
   "outputs": [],
   "source": [
    "def FNS(scores):\n",
    "    domination = (scores[:, None, :] <= scores[None, :, :]).all(2) # domination[i, j] = \"i dominuje j\"\n",
    "    domination &= ~(scores[:, None, :] == scores[None, :, :]).all(2)\n",
    "    Nx = domination.sum(0)\n",
    "    \n",
    "    Pf = []\n",
    "    ranks = np.zeros(scores.shape[0])\n",
    "    r = 0\n",
    "    Q = np.argwhere(Nx == 0)\n",
    "    while Q.size > 0:\n",
    "        Q = Q[:, 0]\n",
    "        Nx[Q] = -1\n",
    "        Pf.append(Q)\n",
    "        ranks[Q] = r\n",
    "        r += 1\n",
    "        for i in Q:\n",
    "            Nx[domination[i, :]] -= 1\n",
    "        Q = np.argwhere(Nx == 0)\n",
    "        \n",
    "    return Pf, ranks\n",
    "\n",
    "def crowding_distance(scores):\n",
    "    indices = np.argsort(scores, 0)\n",
    "    sorted_scores = np.take_along_axis(scores, indices, 0)\n",
    "    cd = np.zeros(scores.shape[0])\n",
    "    for k in range(scores.shape[1]):\n",
    "        cd[indices[[0, -1], k]] = np.inf\n",
    "        cd[indices[1:-1, k]] += (sorted_scores[2:, k] - sorted_scores[:-2, k]) / (sorted_scores[-1, k] - sorted_scores[0, k])\n",
    "    return cd\n",
    "\n",
    "def random_population(d, n, x_min, x_max):\n",
    "    return np.hstack([np.random.uniform(x_min, x_max, (n, d))])\n",
    "\n",
    "def tournament_selection(ranks, dists, n):\n",
    "    candidates = np.random.choice(n, (n, 2), replace=True)\n",
    "    mask = np.where(\n",
    "        ranks[candidates[:, 0]] == ranks[candidates[:, 1]],\n",
    "        dists[candidates[:, 0]] > dists[candidates[:, 1]],\n",
    "        ranks[candidates[:, 0]] < ranks[candidates[:, 1]]\n",
    "    )\n",
    "    result = candidates[:, 1]\n",
    "    result[mask] = candidates[mask, 0]\n",
    "    return result\n",
    "\n",
    "def crossover(x, p, eta): # simulated binary crossover\n",
    "    n, d = x.shape\n",
    "    l = n // 2\n",
    "    mask = np.random.random(l) <= p\n",
    "    m = np.sum(mask)\n",
    "    mi = np.random.random((m, d))\n",
    "    beta = np.where(\n",
    "        mi < 0.5,\n",
    "        np.power(2*mi, 1. / (eta+1.)),\n",
    "        np.power(1. / (2.*(1-mi)), 1. / (eta+1.))\n",
    "    )\n",
    "    c1 = x[:l, :].copy()\n",
    "    c2 = x[l:, :].copy()\n",
    "    c1[mask, :] = 0.5 * (1 + beta) * x[:l, :][mask, :] + 0.5 * (1 - beta) * x[l:, :][mask, :]\n",
    "    c2[mask, :] = 0.5 * (1 + beta) * x[:l, :][mask, :] + 0.5 * (1 - beta) * x[l:, :][mask, :]\n",
    "    return np.vstack([c1, c2])\n",
    "\n",
    "def mutation(x, x_min, x_max, p, eta): # polynomial mutation\n",
    "    n, d = x.shape\n",
    "    mask = np.random.random(x.shape[0]) <= p\n",
    "    m = np.sum(mask)\n",
    "    mi = np.random.random((m, d))\n",
    "    beta = np.where(\n",
    "        mi < 0.5,\n",
    "        np.power(2*mi, 1. / (eta+1.)) - 1.,\n",
    "        1. - np.power(2.*(1-mi), 1. / (eta+1.))\n",
    "    )\n",
    "    y = x.copy()\n",
    "    y[mask, :] = np.where(\n",
    "        mi < 0.5,\n",
    "        x[mask, :] + beta * (x[mask, :] - x_min),\n",
    "        x[mask, :] + beta * (x_max - x[mask, :])\n",
    "    )\n",
    "    return y\n",
    "\n",
    "def elitist_selection(fronts, dists, to_take):\n",
    "    taken = []\n",
    "    for front in fronts:\n",
    "        if len(front) <= to_take:\n",
    "            taken += list(front)\n",
    "            if len(front) == to_take:\n",
    "                break\n",
    "            to_take -= len(front)\n",
    "        else:\n",
    "            indices = np.argsort(-dists[front])[:to_take]\n",
    "            taken += list(indices)\n",
    "            break\n",
    "    return taken\n",
    "\n",
    "def constraint_violation(constraints):\n",
    "    n, d = constraints.shape\n",
    "    sort_indices = np.argsort(constraints, 0)\n",
    "    violations = np.zeros(n)\n",
    "    for i in range(d):\n",
    "        values, counts = np.unique(constraints[:, i], return_counts=True) # unikalne wartości są zwracane posortowane\n",
    "        counts = np.cumsum(counts)\n",
    "        counts = list(counts)\n",
    "        if values[0] != 0:\n",
    "            counts = [0] + counts\n",
    "        for rank, (j, k) in enumerate(zip([0] + counts, counts + [len(counts)])):\n",
    "            violations[sort_indices[j:k, i]] += rank\n",
    "    return violations\n",
    "        \n",
    "\n",
    "def IDEA(objective, constraint, x_min, x_max, d, n, n_inf, eta_c, eta_m, p_c, p_m, num_iterations, log_interval=10):\n",
    "    n_f = n - n_inf\n",
    "    population = random_population(d, n, x_min, x_max)\n",
    "    populations = [population.copy()]\n",
    "    constraint_values = constraint(population)\n",
    "    violation_measure = constraint_violation(constraint_values)\n",
    "    scores = np.stack([objective(population), violation_measure], 1)\n",
    "    scores_hist = [scores.copy()]\n",
    "\n",
    "    fronts, ranks = FNS(scores)\n",
    "    dists = crowding_distance(scores)\n",
    "    \n",
    "    for iter_ in range(num_iterations):\n",
    "        parent_indices = tournament_selection(ranks, dists, n)\n",
    "        offspring = crossover(population[parent_indices, :], p_c, eta_c)\n",
    "        offspring = np.clip(offspring, x_min, x_max)\n",
    "        offspring = mutation(offspring, x_min, x_max, p_m, eta_m)\n",
    "        \n",
    "        offspring_constraint_values = constraint(offspring)\n",
    "        offspring_violation_measure = constraint_violation(offspring_constraint_values)\n",
    "        offspring_scores = np.stack([objective(offspring), offspring_violation_measure], 1)\n",
    "        \n",
    "        population = np.vstack([population, offspring])\n",
    "        scores = np.vstack([scores, offspring_scores])\n",
    "        \n",
    "        dists = crowding_distance(scores)\n",
    "        mask_f = scores[:, -1] == 0\n",
    "        mask_inf = ~mask_f\n",
    "        s_f = np.sum(mask_f)\n",
    "        s_inf = np.sum(mask_inf)\n",
    "        if s_f < n_f:\n",
    "            to_take_f = s_f\n",
    "            to_take_inf = n - s_f\n",
    "        elif s_inf < n_inf:\n",
    "            to_take_inf = s_inf\n",
    "            to_take_f = n - s_inf\n",
    "        else:\n",
    "            to_take_f = n_f\n",
    "            to_take_inf = n_inf\n",
    "            \n",
    "        population_f = population[mask_f, :]\n",
    "        scores_f = scores[mask_f, :]\n",
    "        dists_f = dists[mask_f]\n",
    "        fronts, ranks = FNS(population_f)\n",
    "        taken_f = elitist_selection(fronts, dists_f, to_take_f)\n",
    "        \n",
    "        population_inf = population[mask_inf]\n",
    "        scores_inf = scores[mask_inf, :]\n",
    "        dists_inf = dists[mask_inf]\n",
    "        fronts, ranks = FNS(population_inf)\n",
    "        taken_inf = elitist_selection(fronts, dists_inf, to_take_inf)\n",
    "        \n",
    "        population = np.vstack([population_f[taken_f, :], population_inf[taken_inf, :]])\n",
    "        scores = np.vstack([scores_f[taken_f, :], scores_inf[taken_inf, :]])\n",
    "        dists = np.hstack([dists_f[taken_f], dists_inf[taken_inf]])\n",
    "        fronts, ranks = FNS(population)\n",
    "        \n",
    "        populations.append(population.copy())\n",
    "        scores_hist.append(scores.copy())\n",
    "        \n",
    "        if iter_ % log_interval == 0:\n",
    "            print(f\"Iteration {iter_}, #feasible: {to_take_f}, #infeasible: {to_take_inf}, scores: {scores.min(0)} {scores.mean(0)} {scores.max(0)}\")\n",
    "    print(f\"Iteration {iter_}, #feasible: {to_take_f}, #infeasible: {to_take_inf}, scores: {scores.min(0)} {scores.mean(0)} {scores.max(0)}\")\n",
    "    return np.stack(populations, 0), np.stack(scores_hist, 0)"
   ]
  },
  {
   "cell_type": "code",
   "execution_count": 3,
   "metadata": {},
   "outputs": [],
   "source": [
    "def g1_objective(x):\n",
    "    return 5 * x[:, :4].sum(1) - 5 * (x[:, :4]**2).sum(1) - x[:, 4:].sum(1)\n",
    "\n",
    "def g1_constraints(x):\n",
    "    c = np.stack([\n",
    "        2*x[:, 0] + 2*x[:, 1] + x[:, 9] + x[:, 10] - 10.,\n",
    "        2*x[:, 0] + 2*x[:, 2] + x[:, 9] + x[:, 11] - 10.,\n",
    "        2*x[:, 1] + 2*x[:, 2] + x[:, 10] + x[:, 11] - 10.,\n",
    "        -8*x[:, 0] + x[:, 9],\n",
    "        -8*x[:, 1] + x[:, 10],\n",
    "        -8*x[:, 2] + x[:, 11],\n",
    "        -2*x[:, 3] - x[:, 4] + x[:, 9],\n",
    "        -2*x[:, 5] - x[:, 6] + x[:, 10],\n",
    "        -2*x[:, 7] - x[:, 8] + x[:, 11],\n",
    "    ], 1)\n",
    "    c = np.maximum(c, 0.)\n",
    "    return c\n",
    "    \n",
    "def g6_objective(x):\n",
    "    return (x[:, 0] - 10.)**3 + (x[:, 1] - 20.)**3\n",
    "\n",
    "def g6_constraints(x):\n",
    "    c = np.stack([\n",
    "        -(x[:, 0] - 5)**2 - (x[:, 1]-5)**2 + 100,\n",
    "        (x[:, 0] - 6)**2 + (x[:, 1]-5)**2 - 82.81,\n",
    "    ], 1)\n",
    "    c = np.maximum(c, 0.)\n",
    "    return c\n",
    "\n",
    "def g2_objective(x):\n",
    "    n, d = x.shape\n",
    "    c = np.cos(x)\n",
    "    return -np.abs(((c**4).sum(1) - 2*(c**2).prod(1)) / np.sqrt((np.arange(d) * x**2).sum(1)))\n",
    "\n",
    "def g2_constraints(x):\n",
    "    n, d = x.shape\n",
    "    c = np.stack([\n",
    "        0.75 - x.prod(1),\n",
    "        x.sum(1) - 7.5*d\n",
    "    ], 1)\n",
    "    c = np.maximum(c, 0.)\n",
    "    return c"
   ]
  },
  {
   "cell_type": "code",
   "execution_count": 7,
   "metadata": {},
   "outputs": [
    {
     "name": "stdout",
     "output_type": "stream",
     "text": [
      "Iteration 0, #feasible: 0, #infeasible: 200, scores: [-7.63417173e+03  1.00000000e+00] [1.24024143e+05 4.96900000e+01] [6.67001142e+05 1.87000000e+02]\n",
      "Iteration 100, #feasible: 160, #infeasible: 40, scores: [-7973.     0.] [-7.12527305e+03  5.20000000e+00] [-6785.07600771    41.        ]\n",
      "Iteration 200, #feasible: 160, #infeasible: 40, scores: [-7973.     0.] [-7.16135349e+03  5.58500000e+00] [-6958.30948156    42.        ]\n",
      "Iteration 300, #feasible: 160, #infeasible: 40, scores: [-7973.     0.] [-7.06621316e+03  3.88500000e+00] [681.00872736  35.        ]\n",
      "Iteration 400, #feasible: 160, #infeasible: 40, scores: [-7973.     0.] [-7.040777e+03  4.605000e+00] [346.95981677  40.        ]\n",
      "Iteration 500, #feasible: 160, #infeasible: 40, scores: [-7973.     0.] [-7.16276009e+03  5.42500000e+00] [-6960.18842353    42.        ]\n",
      "Iteration 600, #feasible: 160, #infeasible: 40, scores: [-7973.     0.] [-7.04371204e+03  4.42000000e+00] [-1731.6967357    43.       ]\n",
      "Iteration 700, #feasible: 160, #infeasible: 40, scores: [-7973.     0.] [-7.09630049e+03  4.35000000e+00] [-5851.7975574    36.       ]\n",
      "Iteration 800, #feasible: 160, #infeasible: 40, scores: [-7973.     0.] [-7.0975664e+03  4.1350000e+00] [-6865.94145107    36.        ]\n",
      "Iteration 900, #feasible: 160, #infeasible: 40, scores: [-7973.     0.] [-7.16357133e+03  4.80500000e+00] [-6961.51038203    36.        ]\n",
      "Iteration 1000, #feasible: 160, #infeasible: 40, scores: [-7973.     0.] [-7.09374486e+03  4.92500000e+00] [-1576.5573005    47.       ]\n",
      "Iteration 1100, #feasible: 160, #infeasible: 40, scores: [-7973.     0.] [-7.04856901e+03  4.41000000e+00] [-77.57168363  47.        ]\n",
      "Iteration 1200, #feasible: 160, #infeasible: 40, scores: [-7973.     0.] [-7.16386119e+03  4.72500000e+00] [-6961.57315208    47.        ]\n",
      "Iteration 1300, #feasible: 160, #infeasible: 40, scores: [-7973.     0.] [-7.07177573e+03  4.57000000e+00] [-921.51954713   42.        ]\n",
      "Iteration 1400, #feasible: 160, #infeasible: 40, scores: [-7973.     0.] [-7.09448566e+03  5.07500000e+00] [-1643.04886144    43.        ]\n",
      "Iteration 1500, #feasible: 160, #infeasible: 40, scores: [-7973.     0.] [-7.13677683e+03  5.72000000e+00] [-5462.47836238    39.        ]\n",
      "Iteration 1600, #feasible: 160, #infeasible: 40, scores: [-7973.     0.] [-6.96171366e+03  4.49000000e+00] [5416.88522396   41.        ]\n",
      "Iteration 1700, #feasible: 160, #infeasible: 40, scores: [-7973.     0.] [-7.09945043e+03  4.36500000e+00] [-5396.6090801    40.       ]\n",
      "Iteration 1749, #feasible: 160, #infeasible: 40, scores: [-7973.     0.] [-7.10416013e+03  5.48500000e+00] [-4806.66940375    49.        ]\n"
     ]
    }
   ],
   "source": [
    "objective = g6_objective\n",
    "constraint = g6_constraints\n",
    "\n",
    "x_min = np.array([13., 0.])\n",
    "x_max = 100.\n",
    "d = 2\n",
    "n = 200\n",
    "n_inf = int(0.2*n)\n",
    "eta_c = 15.\n",
    "eta_m = 20.\n",
    "p_c = 0.8\n",
    "p_m = 0.1\n",
    "num_iterations = 1750\n",
    "\n",
    "populations, scores = IDEA(objective, constraint, x_min, x_max, d, n, n_inf, eta_c, eta_m, p_c, p_m, num_iterations, log_interval=100)"
   ]
  },
  {
   "cell_type": "code",
   "execution_count": 8,
   "metadata": {},
   "outputs": [
    {
     "data": {
      "text/plain": [
       "-6961.636838707012"
      ]
     },
     "execution_count": 8,
     "metadata": {},
     "output_type": "execute_result"
    }
   ],
   "source": [
    "scores[-1, scores[-1, :, 1] == 0., 0].min()"
   ]
  },
  {
   "cell_type": "code",
   "execution_count": 30,
   "metadata": {},
   "outputs": [
    {
     "name": "stdout",
     "output_type": "stream",
     "text": [
      "Iteration 0, #feasible: 0, #infeasible: 600, scores: [-289.34824275  149.        ] [-142.27481399 2275.94333333] [ -15.73844284 5140.        ]\n",
      "Iteration 100, #feasible: 480, #infeasible: 120, scores: [-300.22359651    0.        ] [-33.04894525 161.63166667] [3.43711316e+00 3.51700000e+03]\n",
      "Iteration 200, #feasible: 480, #infeasible: 120, scores: [-294.95056705    0.        ] [-28.55675298 168.91333333] [   4.45541191 3517.        ]\n",
      "Iteration 300, #feasible: 480, #infeasible: 120, scores: [-300.898411    0.      ] [-24.1402392  120.62166667] [   4.7191875 3517.       ]\n",
      "Iteration 400, #feasible: 480, #infeasible: 120, scores: [-300.41991953    0.        ] [-26.21705475 123.84      ] [   4.49105552 3517.        ]\n",
      "Iteration 500, #feasible: 480, #infeasible: 120, scores: [-302.11293177    0.        ] [-28.3055452  138.88333333] [   4.57627684 3517.        ]\n",
      "Iteration 600, #feasible: 480, #infeasible: 120, scores: [-302.41057669    0.        ] [-27.24021869 137.73      ] [   4.59994468 3517.        ]\n",
      "Iteration 700, #feasible: 480, #infeasible: 120, scores: [-301.80979987    0.        ] [-26.90717349 140.7       ] [   4.60762824 3517.        ]\n",
      "Iteration 800, #feasible: 480, #infeasible: 120, scores: [-301.23411655    0.        ] [-33.8853377  157.36666667] [   4.54315377 3517.        ]\n",
      "Iteration 900, #feasible: 480, #infeasible: 120, scores: [-300.3322359    0.       ] [-25.93260151 128.22666667] [   4.84768558 3517.        ]\n",
      "Iteration 1000, #feasible: 480, #infeasible: 120, scores: [-296.88022518    0.        ] [-24.2190518 102.925    ] [   4.8054195 3517.       ]\n",
      "Iteration 1100, #feasible: 480, #infeasible: 120, scores: [-300.94630376    0.        ] [-21.05952848  98.86      ] [   4.36372333 3517.        ]\n",
      "Iteration 1200, #feasible: 480, #infeasible: 120, scores: [-300.35940338    0.        ] [-29.59708164 146.76      ] [   4.595791 3517.      ]\n",
      "Iteration 1300, #feasible: 480, #infeasible: 120, scores: [-302.92395734    0.        ] [-24.93121668 109.77166667] [   4.47801067 3517.        ]\n",
      "Iteration 1400, #feasible: 480, #infeasible: 120, scores: [-303.58262681    0.        ] [-32.7674536  132.74833333] [   4.30842709 3517.        ]\n",
      "Iteration 1500, #feasible: 480, #infeasible: 120, scores: [-302.88662593    0.        ] [-30.95108492 144.44166667] [   4.54290574 3517.        ]\n",
      "Iteration 1600, #feasible: 480, #infeasible: 120, scores: [-302.50921749    0.        ] [-13.17400276  59.765     ] [   4.47812161 3517.        ]\n",
      "Iteration 1700, #feasible: 480, #infeasible: 120, scores: [-296.96051401    0.        ] [-26.42906182 130.43166667] [   4.71103858 3517.        ]\n",
      "Iteration 1749, #feasible: 480, #infeasible: 120, scores: [-297.45202883    0.        ] [-26.44875197 133.90333333] [   4.64504183 3517.        ]\n"
     ]
    }
   ],
   "source": [
    "objective = g1_objective\n",
    "constraint = g1_constraints\n",
    "\n",
    "x_min = 0.\n",
    "x_max = np.ones(13)\n",
    "x_max[9:12] = 100.\n",
    "d = 13\n",
    "n = 600\n",
    "n_inf = int(0.2*n)\n",
    "eta_c = 5.\n",
    "eta_m = 20.\n",
    "p_c = 0.9\n",
    "p_m = 0.1\n",
    "num_iterations = 1750\n",
    "\n",
    "populations, scores = IDEA(objective, constraint, x_min, x_max, d, n, n_inf, eta_c, eta_m, p_c, p_m, num_iterations, log_interval=100)"
   ]
  },
  {
   "cell_type": "code",
   "execution_count": 31,
   "metadata": {},
   "outputs": [
    {
     "data": {
      "text/plain": [
       "-8.262634449573463"
      ]
     },
     "execution_count": 31,
     "metadata": {},
     "output_type": "execute_result"
    }
   ],
   "source": [
    "scores[-1, scores[-1, :, 1] == 0., 0].min()"
   ]
  },
  {
   "cell_type": "code",
   "execution_count": 32,
   "metadata": {},
   "outputs": [
    {
     "name": "stderr",
     "output_type": "stream",
     "text": [
      "/home/michal/miniconda3/envs/ML/lib/python3.7/site-packages/ipykernel_launcher.py:28: RuntimeWarning: invalid value encountered in true_divide\n",
      "/home/michal/miniconda3/envs/ML/lib/python3.7/site-packages/ipykernel_launcher.py:38: RuntimeWarning: invalid value encountered in greater\n"
     ]
    },
    {
     "name": "stdout",
     "output_type": "stream",
     "text": [
      "Iteration 0, #feasible: 398, #infeasible: 2, scores: [-0.1736712  0.       ] [-0.10740618  0.005     ] [-0.03310691  1.        ]\n",
      "Iteration 100, #feasible: 320, #infeasible: 80, scores: [-0.37296823  0.        ] [-0.18694223 11.185     ] [-5.95436217e-03  1.05000000e+02]\n",
      "Iteration 200, #feasible: 320, #infeasible: 80, scores: [-0.5368364  0.       ] [-0.25265908 11.2225    ] [-4.87545602e-03  1.08000000e+02]\n",
      "Iteration 300, #feasible: 320, #infeasible: 80, scores: [-1.02553628  0.        ] [-0.33273886 11.595     ] [-4.39812243e-03  1.08000000e+02]\n",
      "Iteration 400, #feasible: 320, #infeasible: 80, scores: [-1.67099871  0.        ] [-0.40340391 11.255     ] [-6.21749226e-03  1.08000000e+02]\n",
      "Iteration 500, #feasible: 320, #infeasible: 80, scores: [-3.33480279  0.        ] [-0.56315028 11.535     ] [-9.2170283e-03  1.0800000e+02]\n",
      "Iteration 600, #feasible: 320, #infeasible: 80, scores: [-5.20273421  0.        ] [-0.65476971  9.7875    ] [-6.05014779e-03  1.08000000e+02]\n",
      "Iteration 700, #feasible: 320, #infeasible: 80, scores: [-8.62768821  0.        ] [-1.00061316 10.82      ] [-4.96050605e-03  1.08000000e+02]\n",
      "Iteration 800, #feasible: 320, #infeasible: 80, scores: [-14.925819   0.      ] [-1.00553236  8.595     ] [-2.27348752e-02  1.08000000e+02]\n",
      "Iteration 900, #feasible: 320, #infeasible: 80, scores: [-10.82432995   0.        ] [-0.98758781  9.2575    ] [-2.2065569e-02  1.0800000e+02]\n",
      "Iteration 1000, #feasible: 320, #infeasible: 80, scores: [-11.10076045   0.        ] [-0.97192235 10.1725    ] [-1.60570759e-02  7.90000000e+01]\n",
      "Iteration 1100, #feasible: 320, #infeasible: 80, scores: [-17.57917899   0.        ] [-1.34137918  7.5425    ] [-1.42257515e-02  7.90000000e+01]\n",
      "Iteration 1200, #feasible: 320, #infeasible: 80, scores: [-10.92968716   0.        ] [-0.85372064  8.73      ] [-4.30244623e-03  8.20000000e+01]\n",
      "Iteration 1300, #feasible: 320, #infeasible: 80, scores: [-18.00756177   0.        ] [-1.15287943  9.5225    ] [-4.14884465e-03  8.20000000e+01]\n",
      "Iteration 1400, #feasible: 320, #infeasible: 80, scores: [-27.13297093   0.        ] [-1.20004017 10.1025    ] [-1.99684335e-02  8.20000000e+01]\n",
      "Iteration 1500, #feasible: 320, #infeasible: 80, scores: [-26.49382237   0.        ] [-1.36647833  8.3125    ] [-7.17822321e-03  8.50000000e+01]\n",
      "Iteration 1600, #feasible: 320, #infeasible: 80, scores: [-48.04574256   0.        ] [-1.9551592  8.0275   ] [-8.81064469e-03  8.50000000e+01]\n",
      "Iteration 1700, #feasible: 320, #infeasible: 80, scores: [-44.37058172   0.        ] [-2.68674875  8.925     ] [-1.75312258e-02  8.50000000e+01]\n",
      "Iteration 1749, #feasible: 320, #infeasible: 80, scores: [-53.86587112   0.        ] [-2.45744399  8.4675    ] [-1.47397596e-02  8.50000000e+01]\n"
     ]
    }
   ],
   "source": [
    "objective = g2_objective\n",
    "constraint = g2_constraints\n",
    "\n",
    "x_min = 1e-4\n",
    "x_max = 10.\n",
    "d = 20\n",
    "n = 400\n",
    "n_inf = int(0.2*n)\n",
    "eta_c = 4.\n",
    "eta_m = 20.\n",
    "p_c = 0.8\n",
    "p_m = 0.1\n",
    "num_iterations = 1750\n",
    "\n",
    "populations, scores = IDEA(objective, constraint, x_min, x_max, d, n, n_inf, eta_c, eta_m, p_c, p_m, num_iterations, log_interval=100)"
   ]
  },
  {
   "cell_type": "code",
   "execution_count": 33,
   "metadata": {},
   "outputs": [
    {
     "data": {
      "text/plain": [
       "-0.8329168367456218"
      ]
     },
     "execution_count": 33,
     "metadata": {},
     "output_type": "execute_result"
    }
   ],
   "source": [
    "scores[-1, scores[-1, :, 1] == 0., 0].min()"
   ]
  },
  {
   "cell_type": "markdown",
   "metadata": {},
   "source": [
    "Sanity check"
   ]
  },
  {
   "cell_type": "code",
   "execution_count": 34,
   "metadata": {},
   "outputs": [
    {
     "data": {
      "text/plain": [
       "3"
      ]
     },
     "execution_count": 34,
     "metadata": {},
     "output_type": "execute_result"
    }
   ],
   "source": [
    "i = scores[-1, scores[-1, :, 1] == 0., 0].argmin()\n",
    "i"
   ]
  },
  {
   "cell_type": "code",
   "execution_count": 35,
   "metadata": {},
   "outputs": [],
   "source": [
    "x = populations[-1][scores[-1, :, 1] == 0., :][[i], :]"
   ]
  },
  {
   "cell_type": "code",
   "execution_count": 36,
   "metadata": {},
   "outputs": [
    {
     "data": {
      "text/plain": [
       "array([-0.83291684])"
      ]
     },
     "execution_count": 36,
     "metadata": {},
     "output_type": "execute_result"
    }
   ],
   "source": [
    "objective(x)"
   ]
  },
  {
   "cell_type": "code",
   "execution_count": 37,
   "metadata": {},
   "outputs": [
    {
     "data": {
      "text/plain": [
       "array([[0., 0.]])"
      ]
     },
     "execution_count": 37,
     "metadata": {},
     "output_type": "execute_result"
    }
   ],
   "source": [
    "constraint(x)"
   ]
  },
  {
   "cell_type": "code",
   "execution_count": null,
   "metadata": {},
   "outputs": [],
   "source": []
  }
 ],
 "metadata": {
  "kernelspec": {
   "display_name": "Python 3.7 (ML)",
   "language": "python",
   "name": "python3-ml"
  },
  "language_info": {
   "codemirror_mode": {
    "name": "ipython",
    "version": 3
   },
   "file_extension": ".py",
   "mimetype": "text/x-python",
   "name": "python",
   "nbconvert_exporter": "python",
   "pygments_lexer": "ipython3",
   "version": "3.7.5"
  }
 },
 "nbformat": 4,
 "nbformat_minor": 4
}
