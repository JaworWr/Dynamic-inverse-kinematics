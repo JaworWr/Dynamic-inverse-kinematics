{
 "cells": [
  {
   "cell_type": "code",
   "execution_count": 1,
   "metadata": {},
   "outputs": [],
   "source": [
    "import numpy as np\n",
    "import matplotlib.pyplot as plt\n",
    "from idea import IDEA"
   ]
  },
  {
   "cell_type": "code",
   "execution_count": 2,
   "metadata": {},
   "outputs": [],
   "source": [
    "def g1_objective(x):\n",
    "    c = np.stack([\n",
    "        # objective\n",
    "        5 * x[:, :4].sum(1) - 5 * (x[:, :4]**2).sum(1) - x[:, 4:].sum(1),\n",
    "        # constraints\n",
    "        2*x[:, 0] + 2*x[:, 1] + x[:, 9] + x[:, 10] - 10.,\n",
    "        2*x[:, 0] + 2*x[:, 2] + x[:, 9] + x[:, 11] - 10.,\n",
    "        2*x[:, 1] + 2*x[:, 2] + x[:, 10] + x[:, 11] - 10.,\n",
    "        -8*x[:, 0] + x[:, 9],\n",
    "        -8*x[:, 1] + x[:, 10],\n",
    "        -8*x[:, 2] + x[:, 11],\n",
    "        -2*x[:, 3] - x[:, 4] + x[:, 9],\n",
    "        -2*x[:, 5] - x[:, 6] + x[:, 10],\n",
    "        -2*x[:, 7] - x[:, 8] + x[:, 11],\n",
    "    ], 1)\n",
    "    c[:, 1:] = np.maximum(c[:, 1:], 0.)\n",
    "    return c\n",
    "    \n",
    "\n",
    "def g6_objective(x):\n",
    "    c = np.stack([\n",
    "        # objective\n",
    "        (x[:, 0] - 10.)**3 + (x[:, 1] - 20.)**3,\n",
    "        # constraints\n",
    "        -(x[:, 0] - 5)**2 - (x[:, 1]-5)**2 + 100,\n",
    "        (x[:, 0] - 6)**2 + (x[:, 1]-5)**2 - 82.81,\n",
    "    ], 1)\n",
    "    c[:, 1:] = np.maximum(c[:, 1:], 0.)\n",
    "    return c\n",
    "\n",
    "\n",
    "def g2_objective(x):\n",
    "    n, d = x.shape\n",
    "    c = np.cos(x)\n",
    "    r = np.stack([\n",
    "        # objective\n",
    "        -np.abs(((c**4).sum(1) - 2*(c**2).prod(1)) / np.sqrt((np.arange(d) * x**2).sum(1))),\n",
    "        # constraints\n",
    "        0.75 - x.prod(1),\n",
    "        x.sum(1) - 7.5*d\n",
    "    ], 1)\n",
    "    r[:, 1:] = np.maximum(r[:, 1:], 0.)\n",
    "    return r"
   ]
  },
  {
   "cell_type": "code",
   "execution_count": 4,
   "metadata": {},
   "outputs": [
    {
     "name": "stdout",
     "output_type": "stream",
     "text": [
      "Iteration 0, #feasible: 0, best: -, #infeasible: 200, best: [-5.51746004e+03  1.00000000e+00]\n",
      "Iteration 100, #feasible: 160, best: [-6433.09402266     0.        ], #infeasible: 40, best: [-7.92675379e+03  1.00000000e+00]\n",
      "Iteration 200, #feasible: 160, best: [-6960.20007846     0.        ], #infeasible: 40, best: [-7.973e+03  1.000e+00]\n",
      "Iteration 300, #feasible: 160, best: [-6960.53360921     0.        ], #infeasible: 40, best: [-7.973e+03  1.000e+00]\n",
      "Iteration 400, #feasible: 160, best: [-6960.53877641     0.        ], #infeasible: 40, best: [-7.973e+03  1.000e+00]\n",
      "Iteration 500, #feasible: 160, best: [-6960.53877641     0.        ], #infeasible: 40, best: [-7.973e+03  1.000e+00]\n",
      "Iteration 600, #feasible: 160, best: [-6960.53877641     0.        ], #infeasible: 40, best: [-7.973e+03  1.000e+00]\n",
      "Iteration 700, #feasible: 160, best: [-6960.69921367     0.        ], #infeasible: 40, best: [-7.973e+03  1.000e+00]\n",
      "Iteration 800, #feasible: 160, best: [-6960.69921367     0.        ], #infeasible: 40, best: [-7.973e+03  1.000e+00]\n",
      "Iteration 900, #feasible: 160, best: [-6960.69921367     0.        ], #infeasible: 40, best: [-7.973e+03  1.000e+00]\n",
      "Iteration 1000, #feasible: 160, best: [-6960.69921367     0.        ], #infeasible: 40, best: [-7.973e+03  1.000e+00]\n",
      "Iteration 1100, #feasible: 160, best: [-6960.69921367     0.        ], #infeasible: 40, best: [-7.973e+03  1.000e+00]\n",
      "Iteration 1200, #feasible: 160, best: [-6960.69921367     0.        ], #infeasible: 40, best: [-7.973e+03  1.000e+00]\n",
      "Iteration 1300, #feasible: 160, best: [-6960.72926069     0.        ], #infeasible: 40, best: [-7.973e+03  1.000e+00]\n",
      "Iteration 1400, #feasible: 160, best: [-6960.72926069     0.        ], #infeasible: 40, best: [-7.973e+03  1.000e+00]\n",
      "Iteration 1500, #feasible: 160, best: [-6960.73158115     0.        ], #infeasible: 40, best: [-7.973e+03  1.000e+00]\n",
      "Iteration 1600, #feasible: 160, best: [-6961.04633919     0.        ], #infeasible: 40, best: [-7.973e+03  1.000e+00]\n",
      "Iteration 1700, #feasible: 160, best: [-6961.04633919     0.        ], #infeasible: 40, best: [-7.973e+03  1.000e+00]\n",
      "Iteration 1749, #feasible: 160, best: [-6961.04633919     0.        ], #infeasible: 40, best: [-7.973e+03  1.000e+00]\n"
     ]
    }
   ],
   "source": [
    "objective = g6_objective\n",
    "n_constraints = 2\n",
    "\n",
    "x_min = np.array([13., 0.])\n",
    "x_max = 100.\n",
    "d = 2\n",
    "n = 200\n",
    "alpha_inf = 0.2\n",
    "eta_c = 15.\n",
    "eta_m = 20.\n",
    "p_c = 0.8\n",
    "p_m = 0.1\n",
    "num_iterations = 1750\n",
    "\n",
    "populations, scores = IDEA(objective, n_constraints, x_min, x_max, d, n, alpha_inf, eta_c, eta_m, p_c, p_m, num_iterations, log_interval=100)"
   ]
  },
  {
   "cell_type": "code",
   "execution_count": 5,
   "metadata": {},
   "outputs": [
    {
     "data": {
      "text/plain": [
       "-6961.046339188843"
      ]
     },
     "execution_count": 5,
     "metadata": {},
     "output_type": "execute_result"
    }
   ],
   "source": [
    "scores[-1, scores[-1, :, 1] == 0., 0].min()"
   ]
  },
  {
   "cell_type": "code",
   "execution_count": 6,
   "metadata": {},
   "outputs": [
    {
     "name": "stdout",
     "output_type": "stream",
     "text": [
      "Iteration 0, #feasible: 0, best: -, #infeasible: 200, best: [-257.72691377   36.        ]\n",
      "Iteration 100, #feasible: 160, best: [-4.65003975  0.        ], #infeasible: 40, best: [-298.96681856   47.        ]\n",
      "Iteration 200, #feasible: 160, best: [-4.81654865  0.        ], #infeasible: 40, best: [-299.58722332   14.        ]\n",
      "Iteration 300, #feasible: 160, best: [-5.21838103  0.        ], #infeasible: 40, best: [-299.60798895    1.        ]\n",
      "Iteration 400, #feasible: 160, best: [-6.16443832  0.        ], #infeasible: 40, best: [-299.75224227    5.        ]\n",
      "Iteration 500, #feasible: 160, best: [-7.08530938  0.        ], #infeasible: 40, best: [-299.89482539    1.        ]\n",
      "Iteration 600, #feasible: 160, best: [-7.49067745  0.        ], #infeasible: 40, best: [-300.24325182    1.        ]\n",
      "Iteration 700, #feasible: 160, best: [-7.56972798  0.        ], #infeasible: 40, best: [-300.29680677    1.        ]\n",
      "Iteration 800, #feasible: 160, best: [-7.57350985  0.        ], #infeasible: 40, best: [-300.65083042    1.        ]\n",
      "Iteration 900, #feasible: 160, best: [-7.5743435  0.       ], #infeasible: 40, best: [-300.90422633    1.        ]\n",
      "Iteration 1000, #feasible: 160, best: [-7.59333166  0.        ], #infeasible: 40, best: [-301.30870885    1.        ]\n",
      "Iteration 1100, #feasible: 160, best: [-7.59539516  0.        ], #infeasible: 40, best: [-301.4988504    1.       ]\n",
      "Iteration 1200, #feasible: 160, best: [-7.60481367  0.        ], #infeasible: 40, best: [-302.13978885    5.        ]\n",
      "Iteration 1300, #feasible: 160, best: [-7.64047382  0.        ], #infeasible: 40, best: [-302.45967119    1.        ]\n",
      "Iteration 1400, #feasible: 160, best: [-8.13563932  0.        ], #infeasible: 40, best: [-302.54107375    4.        ]\n",
      "Iteration 1500, #feasible: 160, best: [-8.30994682  0.        ], #infeasible: 40, best: [-302.59931204    1.        ]\n",
      "Iteration 1600, #feasible: 160, best: [-8.53284366  0.        ], #infeasible: 40, best: [-302.6232672    1.       ]\n",
      "Iteration 1700, #feasible: 160, best: [-8.77722786  0.        ], #infeasible: 40, best: [-302.66746507    1.        ]\n",
      "Iteration 1749, #feasible: 160, best: [-8.93386222  0.        ], #infeasible: 40, best: [-302.69402119    1.        ]\n"
     ]
    }
   ],
   "source": [
    "objective = g1_objective\n",
    "n_constraints = 9\n",
    "\n",
    "x_min = 0.\n",
    "x_max = np.ones(13)\n",
    "x_max[9:12] = 100.\n",
    "d = 13\n",
    "n = 200\n",
    "alpha_inf = 0.2\n",
    "eta_c = 15.\n",
    "eta_m = 20.\n",
    "p_c = 0.8\n",
    "p_m = 0.1\n",
    "num_iterations = 1750\n",
    "\n",
    "populations, scores = IDEA(objective, n_constraints, x_min, x_max, d, n, alpha_inf, eta_c, eta_m, p_c, p_m, num_iterations, log_interval=100)"
   ]
  },
  {
   "cell_type": "code",
   "execution_count": 7,
   "metadata": {},
   "outputs": [
    {
     "data": {
      "text/plain": [
       "-8.933862224129514"
      ]
     },
     "execution_count": 7,
     "metadata": {},
     "output_type": "execute_result"
    }
   ],
   "source": [
    "scores[-1, scores[-1, :, 1] == 0., 0].min()"
   ]
  },
  {
   "cell_type": "code",
   "execution_count": 8,
   "metadata": {},
   "outputs": [
    {
     "name": "stdout",
     "output_type": "stream",
     "text": [
      "Iteration 0, #feasible: 199, best: [-0.22392464  0.        ], #infeasible: 1, best: [-0.07480228  1.        ]\n",
      "Iteration 100, #feasible: 160, best: [-0.39225704  0.        ], #infeasible: 40, best: [-0.35907293  1.        ]\n",
      "Iteration 200, #feasible: 160, best: [-0.41232662  0.        ], #infeasible: 40, best: [-0.38357035  1.        ]\n",
      "Iteration 300, #feasible: 160, best: [-0.42087605  0.        ], #infeasible: 40, best: [-0.40450642  1.        ]\n",
      "Iteration 400, #feasible: 160, best: [-0.45890818  0.        ], #infeasible: 40, best: [-0.43035665  1.        ]\n",
      "Iteration 500, #feasible: 160, best: [-0.48130251  0.        ], #infeasible: 40, best: [-0.44690138  1.        ]\n",
      "Iteration 600, #feasible: 160, best: [-0.48458948  0.        ], #infeasible: 40, best: [-0.44871362  1.        ]\n",
      "Iteration 700, #feasible: 160, best: [-0.48615225  0.        ], #infeasible: 40, best: [-0.4497726  1.       ]\n",
      "Iteration 800, #feasible: 160, best: [-0.48779075  0.        ], #infeasible: 40, best: [-0.4507673  1.       ]\n",
      "Iteration 900, #feasible: 160, best: [-0.48916688  0.        ], #infeasible: 40, best: [-0.45173058  1.        ]\n",
      "Iteration 1000, #feasible: 160, best: [-0.49028544  0.        ], #infeasible: 40, best: [-0.45254456  1.        ]\n",
      "Iteration 1100, #feasible: 160, best: [-0.49132631  0.        ], #infeasible: 40, best: [-0.45312922  1.        ]\n",
      "Iteration 1200, #feasible: 160, best: [-0.49216218  0.        ], #infeasible: 40, best: [-0.45395407  1.        ]\n",
      "Iteration 1300, #feasible: 160, best: [-0.49493089  0.        ], #infeasible: 40, best: [-0.49316348  1.        ]\n",
      "Iteration 1400, #feasible: 160, best: [-0.49567192  0.        ], #infeasible: 40, best: [-0.49464893  1.        ]\n",
      "Iteration 1500, #feasible: 160, best: [-0.49605683  0.        ], #infeasible: 40, best: [-0.49543908  1.        ]\n",
      "Iteration 1600, #feasible: 160, best: [-0.49630971  0.        ], #infeasible: 40, best: [-0.4960594  1.       ]\n",
      "Iteration 1700, #feasible: 160, best: [-0.49643594  0.        ], #infeasible: 40, best: [-0.4963512  1.       ]\n",
      "Iteration 1749, #feasible: 160, best: [-0.49649545  0.        ], #infeasible: 40, best: [-0.49643624  1.        ]\n"
     ]
    }
   ],
   "source": [
    "objective = g2_objective\n",
    "n_constraints = 2\n",
    "\n",
    "x_min = 1e-4\n",
    "x_max = 10.\n",
    "d = 20\n",
    "n = 200\n",
    "alpha_inf = 0.2\n",
    "eta_c = 15.\n",
    "eta_m = 20.\n",
    "p_c = 0.8\n",
    "p_m = 0.1\n",
    "num_iterations = 1750\n",
    "\n",
    "populations, scores = IDEA(objective, n_constraints, x_min, x_max, d, n, alpha_inf, eta_c, eta_m, p_c, p_m, num_iterations, log_interval=100)"
   ]
  },
  {
   "cell_type": "code",
   "execution_count": 9,
   "metadata": {},
   "outputs": [
    {
     "data": {
      "text/plain": [
       "-0.4964954473478704"
      ]
     },
     "execution_count": 9,
     "metadata": {},
     "output_type": "execute_result"
    }
   ],
   "source": [
    "scores[-1, scores[-1, :, 1] == 0., 0].min()"
   ]
  },
  {
   "cell_type": "markdown",
   "metadata": {},
   "source": [
    "Sanity check"
   ]
  },
  {
   "cell_type": "code",
   "execution_count": 10,
   "metadata": {},
   "outputs": [
    {
     "data": {
      "text/plain": [
       "0"
      ]
     },
     "execution_count": 10,
     "metadata": {},
     "output_type": "execute_result"
    }
   ],
   "source": [
    "i = scores[-1, scores[-1, :, 1] == 0., 0].argmin()\n",
    "i"
   ]
  },
  {
   "cell_type": "code",
   "execution_count": 13,
   "metadata": {},
   "outputs": [],
   "source": [
    "x = populations[-1, scores[-1, :, 1] == 0., :][[i], :]"
   ]
  },
  {
   "cell_type": "code",
   "execution_count": 14,
   "metadata": {},
   "outputs": [
    {
     "data": {
      "text/plain": [
       "array([[-0.49649545,  0.        ,  0.        ]])"
      ]
     },
     "execution_count": 14,
     "metadata": {},
     "output_type": "execute_result"
    }
   ],
   "source": [
    "objective(x)"
   ]
  },
  {
   "cell_type": "code",
   "execution_count": null,
   "metadata": {},
   "outputs": [],
   "source": []
  }
 ],
 "metadata": {
  "kernelspec": {
   "display_name": "Python 3",
   "language": "python",
   "name": "python3"
  },
  "language_info": {
   "codemirror_mode": {
    "name": "ipython",
    "version": 3
   },
   "file_extension": ".py",
   "mimetype": "text/x-python",
   "name": "python",
   "nbconvert_exporter": "python",
   "pygments_lexer": "ipython3",
   "version": "3.7.6"
  }
 },
 "nbformat": 4,
 "nbformat_minor": 4
}
