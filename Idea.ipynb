{
 "cells": [
  {
   "cell_type": "code",
   "execution_count": 1,
   "metadata": {},
   "outputs": [],
   "source": [
    "import numpy as np\n",
    "import matplotlib.pyplot as plt\n",
    "from idea import IDEA"
   ]
  },
  {
   "cell_type": "code",
   "execution_count": 2,
   "metadata": {},
   "outputs": [],
   "source": [
    "def g1_objective(x):\n",
    "    c = np.stack([\n",
    "        # objective\n",
    "        5 * x[:, :4].sum(1) - 5 * (x[:, :4]**2).sum(1) - x[:, 4:].sum(1),\n",
    "        # constraints\n",
    "        2*x[:, 0] + 2*x[:, 1] + x[:, 9] + x[:, 10] - 10.,\n",
    "        2*x[:, 0] + 2*x[:, 2] + x[:, 9] + x[:, 11] - 10.,\n",
    "        2*x[:, 1] + 2*x[:, 2] + x[:, 10] + x[:, 11] - 10.,\n",
    "        -8*x[:, 0] + x[:, 9],\n",
    "        -8*x[:, 1] + x[:, 10],\n",
    "        -8*x[:, 2] + x[:, 11],\n",
    "        -2*x[:, 3] - x[:, 4] + x[:, 9],\n",
    "        -2*x[:, 5] - x[:, 6] + x[:, 10],\n",
    "        -2*x[:, 7] - x[:, 8] + x[:, 11],\n",
    "    ], 1)\n",
    "    c[:, 1:] = np.maximum(c[:, 1:], 0.)\n",
    "    return c\n",
    "    \n",
    "\n",
    "def g6_objective(x):\n",
    "    c = np.stack([\n",
    "        # objective\n",
    "        (x[:, 0] - 10.)**3 + (x[:, 1] - 20.)**3,\n",
    "        # constraints\n",
    "        -(x[:, 0] - 5)**2 - (x[:, 1]-5)**2 + 100,\n",
    "        (x[:, 0] - 6)**2 + (x[:, 1]-5)**2 - 82.81,\n",
    "    ], 1)\n",
    "    c[:, 1:] = np.maximum(c[:, 1:], 0.)\n",
    "    return c\n",
    "\n",
    "\n",
    "def g2_objective(x):\n",
    "    n, d = x.shape\n",
    "    c = np.cos(x)\n",
    "    r = np.stack([\n",
    "        # objective\n",
    "        -np.abs(((c**4).sum(1) - 2*(c**2).prod(1)) / np.sqrt((np.arange(d) * x**2).sum(1))),\n",
    "        # constraints\n",
    "        0.75 - x.prod(1),\n",
    "        x.sum(1) - 7.5*d\n",
    "    ], 1)\n",
    "    r[:, 1:] = np.maximum(r[:, 1:], 0.)\n",
    "    return r"
   ]
  },
  {
   "cell_type": "code",
   "execution_count": 6,
   "metadata": {},
   "outputs": [
    {
     "name": "stdout",
     "output_type": "stream",
     "text": [
      "Iteration 0, #feasible: 0, best: -, #infeasible: 200, best: [-5.20356524e+03  1.00000000e+00]\n",
      "Iteration 100, #feasible: 160, best: [-6779.88687325], #infeasible: 40, best: [-7.94544326e+03  1.00000000e+00]\n",
      "Iteration 200, #feasible: 160, best: [-6959.0434783], #infeasible: 40, best: [-7.973e+03  1.000e+00]\n",
      "Iteration 300, #feasible: 160, best: [-6959.16247617], #infeasible: 40, best: [-7.973e+03  1.000e+00]\n",
      "Iteration 400, #feasible: 160, best: [-6960.56980917], #infeasible: 40, best: [-7.973e+03  1.000e+00]\n",
      "Iteration 500, #feasible: 160, best: [-6961.52691492], #infeasible: 40, best: [-7.973e+03  1.000e+00]\n",
      "Iteration 600, #feasible: 160, best: [-6961.52691492], #infeasible: 40, best: [-7.973e+03  1.000e+00]\n",
      "Iteration 700, #feasible: 160, best: [-6961.52691492], #infeasible: 40, best: [-7.973e+03  1.000e+00]\n",
      "Iteration 800, #feasible: 160, best: [-6961.52691492], #infeasible: 40, best: [-7.973e+03  1.000e+00]\n",
      "Iteration 900, #feasible: 160, best: [-6961.52691492], #infeasible: 40, best: [-7.973e+03  1.000e+00]\n",
      "Iteration 1000, #feasible: 160, best: [-6961.52691492], #infeasible: 40, best: [-7.973e+03  1.000e+00]\n",
      "Iteration 1100, #feasible: 160, best: [-6961.52691492], #infeasible: 40, best: [-7.973e+03  1.000e+00]\n",
      "Iteration 1200, #feasible: 160, best: [-6961.52691492], #infeasible: 40, best: [-7.973e+03  1.000e+00]\n",
      "Iteration 1300, #feasible: 160, best: [-6961.52691492], #infeasible: 40, best: [-7.973e+03  1.000e+00]\n",
      "Iteration 1400, #feasible: 160, best: [-6961.52691492], #infeasible: 40, best: [-7.973e+03  1.000e+00]\n",
      "Iteration 1500, #feasible: 160, best: [-6961.52691492], #infeasible: 40, best: [-7.973e+03  1.000e+00]\n",
      "Iteration 1600, #feasible: 160, best: [-6961.52691492], #infeasible: 40, best: [-7.973e+03  1.000e+00]\n",
      "Iteration 1700, #feasible: 160, best: [-6961.52691492], #infeasible: 40, best: [-7.973e+03  1.000e+00]\n",
      "Iteration 1749, #feasible: 160, best: [-6961.52691492], #infeasible: 40, best: [-7.973e+03  1.000e+00]\n"
     ]
    }
   ],
   "source": [
    "objective = g6_objective\n",
    "n_constraints = 2\n",
    "\n",
    "x_min = np.array([13., 0.])\n",
    "x_max = 100.\n",
    "d = 2\n",
    "n = 200\n",
    "n_inf = int(0.2*n)\n",
    "eta_c = 15.\n",
    "eta_m = 20.\n",
    "p_c = 0.8\n",
    "p_m = 0.1\n",
    "num_iterations = 1750\n",
    "\n",
    "populations, scores = IDEA(objective, n_constraints, x_min, x_max, d, n, n_inf, eta_c, eta_m, p_c, p_m, num_iterations, log_interval=100)"
   ]
  },
  {
   "cell_type": "code",
   "execution_count": 7,
   "metadata": {},
   "outputs": [
    {
     "data": {
      "text/plain": [
       "-6961.526914920967"
      ]
     },
     "execution_count": 7,
     "metadata": {},
     "output_type": "execute_result"
    }
   ],
   "source": [
    "scores[-1, scores[-1, :, 1] == 0., 0].min()"
   ]
  },
  {
   "cell_type": "code",
   "execution_count": 10,
   "metadata": {},
   "outputs": [
    {
     "name": "stdout",
     "output_type": "stream",
     "text": [
      "Iteration 0, #feasible: 0, best: -, #infeasible: 200, best: [-263.85672422   78.        ]\n",
      "Iteration 100, #feasible: 160, best: [-1.82604695], #infeasible: 40, best: [-300.04749095    7.        ]\n",
      "Iteration 200, #feasible: 160, best: [-3.11056144], #infeasible: 40, best: [-301.08081496    9.        ]\n",
      "Iteration 300, #feasible: 160, best: [-3.43231695], #infeasible: 40, best: [-301.22943548    1.        ]\n",
      "Iteration 400, #feasible: 160, best: [-3.61294153], #infeasible: 40, best: [-301.38959558    3.        ]\n",
      "Iteration 500, #feasible: 160, best: [-4.35627783], #infeasible: 40, best: [-301.91457077    1.        ]\n",
      "Iteration 600, #feasible: 160, best: [-4.57946591], #infeasible: 40, best: [-302.51476237    2.        ]\n",
      "Iteration 700, #feasible: 160, best: [-5.35832532], #infeasible: 40, best: [-302.77963019    2.        ]\n",
      "Iteration 800, #feasible: 160, best: [-5.87901737], #infeasible: 40, best: [-302.93765891    1.        ]\n",
      "Iteration 900, #feasible: 160, best: [-5.89311769], #infeasible: 40, best: [-303.15854945    1.        ]\n",
      "Iteration 1000, #feasible: 160, best: [-5.8950595], #infeasible: 40, best: [-304.22305693    1.        ]\n",
      "Iteration 1100, #feasible: 160, best: [-6.12082346], #infeasible: 40, best: [-304.34965933    1.        ]\n",
      "Iteration 1200, #feasible: 160, best: [-6.18356569], #infeasible: 40, best: [-304.48353354    2.        ]\n",
      "Iteration 1300, #feasible: 160, best: [-6.23570154], #infeasible: 40, best: [-304.4890729    1.       ]\n",
      "Iteration 1400, #feasible: 160, best: [-6.28116493], #infeasible: 40, best: [-304.52933592    2.        ]\n",
      "Iteration 1500, #feasible: 160, best: [-6.53715923], #infeasible: 40, best: [-304.52933592    2.        ]\n",
      "Iteration 1600, #feasible: 160, best: [-6.54268708], #infeasible: 40, best: [-304.54640512    1.        ]\n",
      "Iteration 1700, #feasible: 160, best: [-6.91699289], #infeasible: 40, best: [-304.58160513    4.        ]\n",
      "Iteration 1749, #feasible: 160, best: [-6.94460281], #infeasible: 40, best: [-304.58160513    1.        ]\n"
     ]
    }
   ],
   "source": [
    "objective = g1_objective\n",
    "n_constraints = 9\n",
    "\n",
    "x_min = 0.\n",
    "x_max = np.ones(13)\n",
    "x_max[9:12] = 100.\n",
    "d = 13\n",
    "n = 200\n",
    "n_inf = int(0.2*n)\n",
    "eta_c = 15.\n",
    "eta_m = 20.\n",
    "p_c = 0.8\n",
    "p_m = 0.1\n",
    "num_iterations = 1750\n",
    "\n",
    "populations, scores = IDEA(objective, n_constraints, x_min, x_max, d, n, n_inf, eta_c, eta_m, p_c, p_m, num_iterations, log_interval=100)"
   ]
  },
  {
   "cell_type": "code",
   "execution_count": 11,
   "metadata": {},
   "outputs": [
    {
     "data": {
      "text/plain": [
       "-6.9446028083472715"
      ]
     },
     "execution_count": 11,
     "metadata": {},
     "output_type": "execute_result"
    }
   ],
   "source": [
    "scores[-1, scores[-1, :, 1] == 0., 0].min()"
   ]
  },
  {
   "cell_type": "code",
   "execution_count": 12,
   "metadata": {},
   "outputs": [
    {
     "name": "stdout",
     "output_type": "stream",
     "text": [
      "Iteration 0, #feasible: 200, best: [-0.1773273], #infeasible: 0, best: -\n",
      "Iteration 100, #feasible: 160, best: [-0.31544658], #infeasible: 40, best: [-0.26003677  1.        ]\n",
      "Iteration 200, #feasible: 160, best: [-0.32431888], #infeasible: 40, best: [-0.26991877  1.        ]\n",
      "Iteration 300, #feasible: 160, best: [-0.32765124], #infeasible: 40, best: [-0.27964346  1.        ]\n",
      "Iteration 400, #feasible: 160, best: [-0.33014027], #infeasible: 40, best: [-0.28680113  1.        ]\n",
      "Iteration 500, #feasible: 160, best: [-0.33085422], #infeasible: 40, best: [-0.29202241  1.        ]\n",
      "Iteration 600, #feasible: 160, best: [-0.33138261], #infeasible: 40, best: [-0.29608979  1.        ]\n",
      "Iteration 700, #feasible: 160, best: [-0.33166069], #infeasible: 40, best: [-0.29853608  1.        ]\n",
      "Iteration 800, #feasible: 160, best: [-0.33179818], #infeasible: 40, best: [-0.3014564  1.       ]\n",
      "Iteration 900, #feasible: 160, best: [-0.33192184], #infeasible: 40, best: [-0.30332081  1.        ]\n",
      "Iteration 1000, #feasible: 160, best: [-0.33200172], #infeasible: 40, best: [-0.30474621  1.        ]\n",
      "Iteration 1100, #feasible: 160, best: [-0.33203023], #infeasible: 40, best: [-0.30555639  1.        ]\n",
      "Iteration 1200, #feasible: 160, best: [-0.33204778], #infeasible: 40, best: [-0.30621606  1.        ]\n",
      "Iteration 1300, #feasible: 160, best: [-0.33206274], #infeasible: 40, best: [-0.30674993  1.        ]\n",
      "Iteration 1400, #feasible: 160, best: [-0.33209116], #infeasible: 40, best: [-0.30724625  1.        ]\n",
      "Iteration 1500, #feasible: 160, best: [-0.33209118], #infeasible: 40, best: [-0.30777718  1.        ]\n",
      "Iteration 1600, #feasible: 160, best: [-0.33209647], #infeasible: 40, best: [-0.30802958  1.        ]\n",
      "Iteration 1700, #feasible: 160, best: [-0.33211018], #infeasible: 40, best: [-0.30826471  1.        ]\n",
      "Iteration 1749, #feasible: 160, best: [-0.33211515], #infeasible: 40, best: [-0.30832928  1.        ]\n"
     ]
    }
   ],
   "source": [
    "objective = g2_objective\n",
    "n_constraints = 2\n",
    "\n",
    "x_min = 1e-4\n",
    "x_max = 10.\n",
    "d = 20\n",
    "n = 200\n",
    "n_inf = int(0.2*n)\n",
    "eta_c = 15.\n",
    "eta_m = 20.\n",
    "p_c = 0.8\n",
    "p_m = 0.1\n",
    "num_iterations = 1750\n",
    "\n",
    "populations, scores = IDEA(objective, n_constraints, x_min, x_max, d, n, n_inf, eta_c, eta_m, p_c, p_m, num_iterations, log_interval=100)"
   ]
  },
  {
   "cell_type": "code",
   "execution_count": 13,
   "metadata": {},
   "outputs": [
    {
     "data": {
      "text/plain": [
       "-0.3321151470062857"
      ]
     },
     "execution_count": 13,
     "metadata": {},
     "output_type": "execute_result"
    }
   ],
   "source": [
    "scores[-1, scores[-1, :, 1] == 0., 0].min()"
   ]
  },
  {
   "cell_type": "markdown",
   "metadata": {},
   "source": [
    "Sanity check"
   ]
  },
  {
   "cell_type": "code",
   "execution_count": 14,
   "metadata": {},
   "outputs": [
    {
     "data": {
      "text/plain": [
       "0"
      ]
     },
     "execution_count": 14,
     "metadata": {},
     "output_type": "execute_result"
    }
   ],
   "source": [
    "i = scores[-1, scores[-1, :, 1] == 0., 0].argmin()\n",
    "i"
   ]
  },
  {
   "cell_type": "code",
   "execution_count": 15,
   "metadata": {},
   "outputs": [],
   "source": [
    "x = populations[-1][scores[-1, :, 1] == 0., :][[i], :]"
   ]
  },
  {
   "cell_type": "code",
   "execution_count": 16,
   "metadata": {},
   "outputs": [
    {
     "data": {
      "text/plain": [
       "array([[-0.33211515,  0.        ,  0.        ]])"
      ]
     },
     "execution_count": 16,
     "metadata": {},
     "output_type": "execute_result"
    }
   ],
   "source": [
    "objective(x)"
   ]
  },
  {
   "cell_type": "code",
   "execution_count": null,
   "metadata": {},
   "outputs": [],
   "source": []
  }
 ],
 "metadata": {
  "kernelspec": {
   "display_name": "Python 3",
   "language": "python",
   "name": "python3"
  },
  "language_info": {
   "codemirror_mode": {
    "name": "ipython",
    "version": 3
   },
   "file_extension": ".py",
   "mimetype": "text/x-python",
   "name": "python",
   "nbconvert_exporter": "python",
   "pygments_lexer": "ipython3",
   "version": "3.7.6"
  }
 },
 "nbformat": 4,
 "nbformat_minor": 4
}