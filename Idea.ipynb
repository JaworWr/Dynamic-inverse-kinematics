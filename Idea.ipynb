{
 "cells": [
  {
   "cell_type": "code",
   "execution_count": 1,
   "metadata": {},
   "outputs": [],
   "source": [
    "import numpy as np\n",
    "import matplotlib.pyplot as plt"
   ]
  },
  {
   "cell_type": "code",
   "execution_count": 2,
   "metadata": {},
   "outputs": [],
   "source": [
    "def FNS(scores):\n",
    "    domination = (scores[:, None, :] <= scores[None, :, :]).all(2) # domination[i, j] = \"i dominuje j\"\n",
    "    domination &= ~(scores[:, None, :] == scores[None, :, :]).all(2)\n",
    "    Nx = domination.sum(0)\n",
    "    \n",
    "    Pf = []\n",
    "    ranks = np.zeros(scores.shape[0])\n",
    "    r = 0\n",
    "    Q = np.argwhere(Nx == 0)\n",
    "    while Q.size > 0:\n",
    "        Q = Q[:, 0]\n",
    "        Nx[Q] = -1\n",
    "        Pf.append(Q)\n",
    "        ranks[Q] = r\n",
    "        r += 1\n",
    "        for i in Q:\n",
    "            Nx[domination[i, :]] -= 1\n",
    "        Q = np.argwhere(Nx == 0)\n",
    "        \n",
    "    return Pf, ranks\n",
    "\n",
    "def crowding_distance(scores):\n",
    "    indices = np.argsort(scores, 0)\n",
    "    sorted_scores = np.take_along_axis(scores, indices, 0)\n",
    "    cd = np.zeros(scores.shape[0])\n",
    "    for k in range(scores.shape[1]):\n",
    "        cd[indices[[0, -1], k]] = np.inf\n",
    "        cd[indices[1:-1, k]] += (sorted_scores[2:, k] - sorted_scores[:-2, k]) / (sorted_scores[-1, k] - sorted_scores[0, k])\n",
    "    return cd\n",
    "\n",
    "def random_population(d, n, x_min, x_max):\n",
    "    return np.hstack([np.random.uniform(x_min, x_max, (n, d))])\n",
    "\n",
    "def tournament_selection(ranks, dists, n):\n",
    "    candidates = np.random.choice(n, (n, 2), replace=True)\n",
    "    mask = np.where(\n",
    "        ranks[candidates[:, 0]] == ranks[candidates[:, 1]],\n",
    "        dists[candidates[:, 0]] > dists[candidates[:, 1]],\n",
    "        ranks[candidates[:, 0]] < ranks[candidates[:, 1]]\n",
    "    )\n",
    "    result = candidates[:, 1]\n",
    "    result[mask] = candidates[mask, 0]\n",
    "    return result\n",
    "\n",
    "def crossover(x, p, eta): # simulated binary crossover\n",
    "    n, d = x.shape\n",
    "    l = n // 2\n",
    "    mask = np.random.random(l) <= p\n",
    "    m = np.sum(mask)\n",
    "    mi = np.random.random((m, d))\n",
    "    beta = np.where(\n",
    "        mi < 0.5,\n",
    "        np.power(2*mi, 1. / (eta+1.)),\n",
    "        np.power(1. / (2.*(1-mi)), 1. / (eta+1.))\n",
    "    )\n",
    "    c1 = x[:l, :].copy()\n",
    "    c2 = x[l:, :].copy()\n",
    "    c1[mask, :] = 0.5 * (1 + beta) * x[:l, :][mask, :] + 0.5 * (1 - beta) * x[l:, :][mask, :]\n",
    "    c2[mask, :] = 0.5 * (1 + beta) * x[:l, :][mask, :] + 0.5 * (1 - beta) * x[l:, :][mask, :]\n",
    "    return np.vstack([c1, c2])\n",
    "\n",
    "def mutation(x, x_min, x_max, p, eta): # polynomial mutation\n",
    "    n, d = x.shape\n",
    "    mask = np.random.random(x.shape[0]) <= p\n",
    "    m = np.sum(mask)\n",
    "    mi = np.random.random((m, d))\n",
    "    beta = np.where(\n",
    "        mi < 0.5,\n",
    "        np.power(2*mi, 1. / (eta+1.)) - 1.,\n",
    "        1. - np.power(2.*(1-mi), 1. / (eta+1.))\n",
    "    )\n",
    "    y = x.copy()\n",
    "    y[mask, :] = np.where(\n",
    "        mi < 0.5,\n",
    "        x[mask, :] + beta * (x[mask, :] - x_min),\n",
    "        x[mask, :] + beta * (x_max - x[mask, :])\n",
    "    )\n",
    "    return y\n",
    "\n",
    "def elitist_selection(fronts, dists, to_take):\n",
    "    taken = []\n",
    "    for front in fronts:\n",
    "        if len(front) <= to_take:\n",
    "            taken += list(front)\n",
    "            if len(front) == to_take:\n",
    "                break\n",
    "            to_take -= len(front)\n",
    "        else:\n",
    "            indices = np.argsort(-dists[front])[:to_take]\n",
    "            taken += list(indices)\n",
    "            break\n",
    "    return taken\n",
    "\n",
    "def constraint_violation(constraints):\n",
    "    n, d = constraints.shape\n",
    "    sort_indices = np.argsort(constraints, 0)\n",
    "    violations = np.zeros(n)\n",
    "    for i in range(d):\n",
    "        values, counts = np.unique(constraints[:, i], return_counts=True) # unikalne wartości są zwracane posortowane\n",
    "        counts = np.cumsum(counts)\n",
    "        counts = list(counts)\n",
    "        if values[0] != 0:\n",
    "            counts = [0] + counts\n",
    "        for rank, (j, k) in enumerate(zip([0] + counts, counts + [len(counts)])):\n",
    "            violations[sort_indices[j:k, i]] += rank\n",
    "    return violations\n",
    "        \n",
    "\n",
    "def IDEA(objective, constraint, x_min, x_max, d, n, n_inf, eta_c, eta_m, p_c, p_m, num_iterations, log_interval=10): # TODO\n",
    "    n_f = n - n_inf\n",
    "    population = random_population(d, n, x_min, x_max)\n",
    "    populations = [population.copy()]\n",
    "    constraint_values = constraint(population)\n",
    "    violation_measure = constraint_violation(constraint_values)\n",
    "    scores = np.stack([objective(population), violation_measure], 1)\n",
    "    scores_hist = [scores.copy()]\n",
    "\n",
    "    fronts, ranks = FNS(scores)\n",
    "    dists = crowding_distance(scores)\n",
    "    \n",
    "    for iter_ in range(num_iterations):\n",
    "        parent_indices = tournament_selection(ranks, dists, n)\n",
    "        offspring = crossover(population[parent_indices, :], p_c, eta_c)\n",
    "        offspring = np.clip(offspring, x_min, x_max)\n",
    "        offspring = mutation(offspring, x_min, x_max, p_m, eta_m)\n",
    "        \n",
    "        offspring_constraint_values = constraint(offspring)\n",
    "        offspring_violation_measure = constraint_violation(offspring_constraint_values)\n",
    "        offspring_scores = np.stack([objective(offspring), offspring_violation_measure], 1)\n",
    "        \n",
    "        population = np.vstack([population, offspring])\n",
    "        scores = np.vstack([scores, offspring_scores])\n",
    "        \n",
    "        dists = crowding_distance(scores)\n",
    "        mask_f = scores[:, -1] == 0\n",
    "        mask_inf = ~mask_f\n",
    "        s_f = np.sum(mask_f)\n",
    "        s_inf = np.sum(mask_inf)\n",
    "        if s_f < n_f:\n",
    "            to_take_f = s_f\n",
    "            to_take_inf = n - s_f\n",
    "        elif s_inf < n_inf:\n",
    "            to_take_inf = s_inf\n",
    "            to_take_f = n - s_inf\n",
    "        else:\n",
    "            to_take_f = n_f\n",
    "            to_take_inf = n_inf\n",
    "            \n",
    "        population_f = population[mask_f, :]\n",
    "        scores_f = scores[mask_f, :]\n",
    "        dists_f = dists[mask_f]\n",
    "        fronts, ranks = FNS(population_f)\n",
    "        taken_f = elitist_selection(fronts, dists_f, to_take_f)\n",
    "        \n",
    "        population_inf = population[mask_inf]\n",
    "        scores_inf = scores[mask_inf, :]\n",
    "        dists_inf = dists[mask_inf]\n",
    "        fronts, ranks = FNS(population_inf)\n",
    "        taken_inf = elitist_selection(fronts, dists_inf, to_take_inf)\n",
    "        \n",
    "        population = np.vstack([population_f[taken_f, :], population_inf[taken_inf, :]])\n",
    "        scores = np.vstack([scores_f[taken_f, :], scores_inf[taken_inf, :]])\n",
    "        dists = np.hstack([dists_f[taken_f], dists_inf[taken_inf]])\n",
    "        fronts, ranks = FNS(population)\n",
    "        \n",
    "        populations.append(population.copy())\n",
    "        scores_hist.append(scores.copy())\n",
    "        \n",
    "        if iter_ % log_interval == 0:\n",
    "            print(f\"Iteration {iter_}, #feasible: {to_take_f}, #infeasible: {to_take_inf}, scores: {scores.min(0)} {scores.mean(0)} {scores.max(0)}\")\n",
    "    print(f\"Iteration {iter_}, #feasible: {to_take_f}, #infeasible: {to_take_inf}, scores: {scores.min(0)} {scores.mean(0)} {scores.max(0)}\")\n",
    "    return np.stack(populations, 0), np.stack(scores_hist, 0)"
   ]
  },
  {
   "cell_type": "code",
   "execution_count": 3,
   "metadata": {},
   "outputs": [],
   "source": [
    "def g1_objective(x):\n",
    "    return 5 * x[:, :4].sum(1) - 5 * (x[:, :4]**2).sum(1) - x[:, 4:].sum(1)\n",
    "\n",
    "def g1_constraints(x):\n",
    "    c = np.stack([\n",
    "        2*x[:, 0] + 2*x[:, 1] + x[:, 9] + x[:, 10] - 10.,\n",
    "        2*x[:, 0] + 2*x[:, 2] + x[:, 9] + x[:, 11] - 10.,\n",
    "        2*x[:, 1] + 2*x[:, 2] + x[:, 10] + x[:, 11] - 10.,\n",
    "        -8*x[:, 0] + x[:, 9],\n",
    "        -8*x[:, 1] + x[:, 10],\n",
    "        -8*x[:, 2] + x[:, 11],\n",
    "        -2*x[:, 3] - x[:, 4] + x[:, 9],\n",
    "        -2*x[:, 5] - x[:, 6] + x[:, 10],\n",
    "        -2*x[:, 7] - x[:, 8] + x[:, 11],\n",
    "    ], 1)\n",
    "    c = np.maximum(c, 0.)\n",
    "    return c\n",
    "    \n",
    "def g6_objective(x):\n",
    "    return (x[:, 0] - 10.)**3 + (x[:, 1] - 20.)**3\n",
    "\n",
    "def g6_constraints(x):\n",
    "    c = np.stack([\n",
    "        -(x[:, 0] - 5)**2 - (x[:, 1]-5)**2 + 100,\n",
    "        (x[:, 0] - 6)**2 + (x[:, 1]-5)**2 - 82.81,\n",
    "    ], 1)\n",
    "    c = np.maximum(c, 0.)\n",
    "    return c\n",
    "\n",
    "def g2_objective(x):\n",
    "    n, d = x.shape\n",
    "    c = np.cos(x)\n",
    "    return -np.abs(((c**4).sum(1) - 2*(c**2).prod(1)) / np.sqrt((np.arange(d) * x**2).sum(1)))\n",
    "\n",
    "def g2_constraints(x):\n",
    "    n, d = x.shape\n",
    "    c = np.stack([\n",
    "        0.75 - x.prod(1),\n",
    "        x.sum(1) - 7.5*d\n",
    "    ], 1)\n",
    "    c = np.maximum(c, 0.)\n",
    "    return c"
   ]
  },
  {
   "cell_type": "code",
   "execution_count": 4,
   "metadata": {},
   "outputs": [
    {
     "name": "stdout",
     "output_type": "stream",
     "text": [
      "Iteration 0, #feasible: 0, #infeasible: 200, scores: [-5.87594176e+03  1.00000000e+00] [1.00138678e+05 5.03400000e+01] [7.02021683e+05 1.69000000e+02]\n",
      "Iteration 100, #feasible: 160, #infeasible: 40, scores: [-7972.59877612     0.        ] [-7.11552364e+03  6.90500000e+00] [-6929.62771495    50.        ]\n",
      "Iteration 200, #feasible: 160, #infeasible: 40, scores: [-7973.     0.] [-7.08439357e+03  4.23000000e+00] [-5684.15365927    40.        ]\n",
      "Iteration 300, #feasible: 160, #infeasible: 40, scores: [-7973.     0.] [-7.03862674e+03  3.89000000e+00] [-3333.59652165    41.        ]\n",
      "Iteration 400, #feasible: 160, #infeasible: 40, scores: [-7973.     0.] [-7.12169309e+03  4.40500000e+00] [-6927.20954439    41.        ]\n",
      "Iteration 500, #feasible: 160, #infeasible: 40, scores: [-7973.     0.] [-7.10865393e+03  4.40500000e+00] [-6355.77523166    37.        ]\n",
      "Iteration 600, #feasible: 160, #infeasible: 40, scores: [-7973.     0.] [-7.01885191e+03  5.26000000e+00] [78.71317241 43.        ]\n",
      "Iteration 700, #feasible: 160, #infeasible: 40, scores: [-7973.     0.] [-7.16312564e+03  5.79000000e+00] [-6960.65461962    43.        ]\n",
      "Iteration 800, #feasible: 160, #infeasible: 40, scores: [-7973.     0.] [-6.99697978e+03  4.16000000e+00] [2333.0236197   36.       ]\n",
      "Iteration 900, #feasible: 160, #infeasible: 40, scores: [-7973.     0.] [-7.11536042e+03  4.19500000e+00] [-5925.20428337    37.        ]\n",
      "Iteration 1000, #feasible: 160, #infeasible: 40, scores: [-7973.     0.] [-7.02681525e+03  4.44000000e+00] [-501.68784216   38.        ]\n",
      "Iteration 1100, #feasible: 160, #infeasible: 40, scores: [-7973.     0.] [-7.0676282e+03  3.6800000e+00] [97.03796263 43.        ]\n",
      "Iteration 1200, #feasible: 160, #infeasible: 40, scores: [-7973.     0.] [-7.16255613e+03  5.44000000e+00] [-6961.34204022    38.        ]\n",
      "Iteration 1300, #feasible: 160, #infeasible: 40, scores: [-7973.     0.] [-7.01838552e+03  4.32500000e+00] [-525.60012536   37.        ]\n",
      "Iteration 1400, #feasible: 160, #infeasible: 40, scores: [-7973.     0.] [-7.16381893e+03  5.84000000e+00] [-6961.52120082    39.        ]\n",
      "Iteration 1500, #feasible: 160, #infeasible: 40, scores: [-7973.     0.] [-7.11330808e+03  4.38000000e+00] [-6936.57792599    39.        ]\n",
      "Iteration 1600, #feasible: 160, #infeasible: 40, scores: [-7973.     0.] [-7.05664009e+03  4.95500000e+00] [-1671.21699262    39.        ]\n",
      "Iteration 1700, #feasible: 160, #infeasible: 40, scores: [-7973.     0.] [-7.05923587e+03  3.87000000e+00] [-810.74567221   38.        ]\n",
      "Iteration 1749, #feasible: 160, #infeasible: 40, scores: [-7973.     0.] [-7.0486174e+03  4.5000000e+00] [33.09132396 37.        ]\n"
     ]
    }
   ],
   "source": [
    "objective = g6_objective\n",
    "constraint = g6_constraints\n",
    "\n",
    "x_min = np.array([13., 0.])\n",
    "x_max = 100.\n",
    "d = 2\n",
    "n = 200\n",
    "n_inf = int(0.2*n)\n",
    "eta_c = 15.\n",
    "eta_m = 20.\n",
    "p_c = 0.8\n",
    "p_m = 0.1\n",
    "num_iterations = 1750\n",
    "\n",
    "populations, scores = IDEA(objective, constraint, x_min, x_max, d, n, n_inf, eta_c, eta_m, p_c, p_m, num_iterations, log_interval=100)"
   ]
  },
  {
   "cell_type": "code",
   "execution_count": 5,
   "metadata": {},
   "outputs": [
    {
     "data": {
      "text/plain": [
       "-6961.644790643192"
      ]
     },
     "execution_count": 5,
     "metadata": {},
     "output_type": "execute_result"
    }
   ],
   "source": [
    "scores[-1, scores[-1, :, 1] == 0., 0].min()"
   ]
  },
  {
   "cell_type": "code",
   "execution_count": 38,
   "metadata": {},
   "outputs": [
    {
     "name": "stdout",
     "output_type": "stream",
     "text": [
      "Iteration 0, #feasible: 0, #infeasible: 600, scores: [-274.88499417  211.        ] [-153.10168143 4053.45833333] [ -16.98933317 7761.        ]\n",
      "Iteration 100, #feasible: 480, #infeasible: 120, scores: [-301.42290583    0.        ] [-32.53779588 184.18      ] [   1.77922735 1636.        ]\n",
      "Iteration 200, #feasible: 480, #infeasible: 120, scores: [-302.14942405    0.        ] [-29.74255342 208.90333333] [   2.64338564 2194.        ]\n",
      "Iteration 300, #feasible: 480, #infeasible: 120, scores: [-301.83174559    0.        ] [-29.31579814 213.63333333] [   3.55497557 2147.        ]\n",
      "Iteration 400, #feasible: 480, #infeasible: 120, scores: [-278.1754687    0.       ] [-14.59004985 102.44166667] [   3.97574734 1466.        ]\n",
      "Iteration 500, #feasible: 480, #infeasible: 120, scores: [-301.17365029    0.        ] [-33.72993713 222.845     ] [   3.67831442 1895.        ]\n",
      "Iteration 600, #feasible: 480, #infeasible: 120, scores: [-301.10332909    0.        ] [-25.20597091 148.68      ] [   4.51798821 1836.        ]\n",
      "Iteration 700, #feasible: 480, #infeasible: 120, scores: [-292.74896744    0.        ] [-14.47541789 113.72666667] [   4.78979547 1540.        ]\n",
      "Iteration 800, #feasible: 480, #infeasible: 120, scores: [-298.73422279    0.        ] [-25.97348376 187.44666667] [   4.51019597 1890.        ]\n",
      "Iteration 900, #feasible: 480, #infeasible: 120, scores: [-300.5762457    0.       ] [-29.83607188 207.8       ] [   4.62766542 2026.        ]\n",
      "Iteration 1000, #feasible: 480, #infeasible: 120, scores: [-302.13976042    0.        ] [-31.18557214 228.19333333] [   4.434835 2304.      ]\n",
      "Iteration 1100, #feasible: 480, #infeasible: 120, scores: [-302.04496953    0.        ] [-14.10406763  80.10166667] [   4.16144459 1314.        ]\n",
      "Iteration 1200, #feasible: 480, #infeasible: 120, scores: [-299.32774617    0.        ] [-22.16773105 139.665     ] [   4.28260062 1740.        ]\n",
      "Iteration 1300, #feasible: 480, #infeasible: 120, scores: [-301.21141707    0.        ] [-28.33110099 188.695     ] [   4.45129757 2014.        ]\n",
      "Iteration 1400, #feasible: 480, #infeasible: 120, scores: [-300.76305038    0.        ] [-22.25179031 156.86166667] [   4.55922835 1855.        ]\n",
      "Iteration 1500, #feasible: 480, #infeasible: 120, scores: [-301.32675179    0.        ] [-17.65075724 131.02666667] [   4.80266772 1910.        ]\n",
      "Iteration 1600, #feasible: 480, #infeasible: 120, scores: [-300.75354924    0.        ] [-21.48190488 136.73833333] [   4.68963482 1926.        ]\n",
      "Iteration 1700, #feasible: 480, #infeasible: 120, scores: [-301.19765234    0.        ] [-23.41337495 167.37833333] [   4.554788 2016.      ]\n",
      "Iteration 1749, #feasible: 480, #infeasible: 120, scores: [-301.15784295    0.        ] [-33.16152176 244.665     ] [   4.55699859 2035.        ]\n"
     ]
    }
   ],
   "source": [
    "objective = g1_objective\n",
    "constraint = g1_constraints\n",
    "\n",
    "x_min = 0.\n",
    "x_max = np.ones(13)\n",
    "x_max[9:12] = 100.\n",
    "d = 13\n",
    "n = 600\n",
    "n_inf = int(0.2*n)\n",
    "eta_c = 5.\n",
    "eta_m = 20.\n",
    "p_c = 0.9\n",
    "p_m = 0.1\n",
    "num_iterations = 1750\n",
    "\n",
    "populations, scores = IDEA(objective, constraint, x_min, x_max, d, n, n_inf, eta_c, eta_m, p_c, p_m, num_iterations, log_interval=100)"
   ]
  },
  {
   "cell_type": "code",
   "execution_count": 39,
   "metadata": {},
   "outputs": [
    {
     "data": {
      "text/plain": [
       "-9.364978605154166"
      ]
     },
     "execution_count": 39,
     "metadata": {},
     "output_type": "execute_result"
    }
   ],
   "source": [
    "scores[-1, scores[-1, :, 1] == 0., 0].min()"
   ]
  },
  {
   "cell_type": "code",
   "execution_count": 6,
   "metadata": {},
   "outputs": [
    {
     "name": "stderr",
     "output_type": "stream",
     "text": [
      "/home/michal/miniconda3/envs/ML/lib/python3.7/site-packages/ipykernel_launcher.py:28: RuntimeWarning: invalid value encountered in true_divide\n",
      "/home/michal/miniconda3/envs/ML/lib/python3.7/site-packages/ipykernel_launcher.py:38: RuntimeWarning: invalid value encountered in greater\n"
     ]
    },
    {
     "name": "stdout",
     "output_type": "stream",
     "text": [
      "Iteration 0, #feasible: 393, #infeasible: 7, scores: [-0.19688314  0.        ] [-0.1058714  0.0475   ] [-0.04595961  4.        ]\n",
      "Iteration 100, #feasible: 320, #infeasible: 80, scores: [-0.79304905  0.        ] [-0.27821878 12.345     ] [-8.88745121e-03  1.14000000e+02]\n",
      "Iteration 200, #feasible: 320, #infeasible: 80, scores: [-2.62584695  0.        ] [-0.43958467 11.97      ] [-2.70392422e-02  1.14000000e+02]\n",
      "Iteration 300, #feasible: 320, #infeasible: 80, scores: [-4.16047848  0.        ] [-0.6488974 11.005    ] [-1.2720084e-02  1.1400000e+02]\n",
      "Iteration 400, #feasible: 320, #infeasible: 80, scores: [-15.08192504   0.        ] [-1.17705233  9.2975    ] [-3.53293798e-02  1.14000000e+02]\n",
      "Iteration 500, #feasible: 320, #infeasible: 80, scores: [-17.94668319   0.        ] [-1.83004061  8.3625    ] [-1.65195838e-02  1.14000000e+02]\n",
      "Iteration 600, #feasible: 320, #infeasible: 80, scores: [-18.90608689   0.        ] [-1.2727361  7.805    ] [-1.65195838e-02  1.14000000e+02]\n",
      "Iteration 700, #feasible: 320, #infeasible: 80, scores: [-18.77375736   0.        ] [-1.98303104  7.43      ] [-2.38193669e-02  1.14000000e+02]\n",
      "Iteration 800, #feasible: 320, #infeasible: 80, scores: [-20.17037699   0.        ] [-1.21228443  8.4225    ] [-2.38193669e-02  1.14000000e+02]\n",
      "Iteration 900, #feasible: 320, #infeasible: 80, scores: [-38.4446758   0.       ] [-1.64953963  8.5025    ] [-2.38193669e-02  1.14000000e+02]\n",
      "Iteration 1000, #feasible: 320, #infeasible: 80, scores: [-32.86902927   0.        ] [-1.36493905  8.3825    ] [-9.94134877e-03  1.14000000e+02]\n",
      "Iteration 1100, #feasible: 320, #infeasible: 80, scores: [-46.91225174   0.        ] [-2.74575463  8.6025    ] [-2.39475748e-02  1.14000000e+02]\n",
      "Iteration 1200, #feasible: 320, #infeasible: 80, scores: [-49.02334141   0.        ] [-2.45381821  8.32      ] [-6.57111089e-03  1.14000000e+02]\n",
      "Iteration 1300, #feasible: 320, #infeasible: 80, scores: [-47.87805971   0.        ] [-0.88878573 10.475     ] [-9.98401199e-03  1.14000000e+02]\n",
      "Iteration 1400, #feasible: 320, #infeasible: 80, scores: [-36.97473403   0.        ] [-1.40718777  8.075     ] [-1.64820715e-02  1.14000000e+02]\n",
      "Iteration 1500, #feasible: 320, #infeasible: 80, scores: [-48.69532851   0.        ] [-1.6016031  8.3      ] [-1.09819604e-02  1.14000000e+02]\n",
      "Iteration 1600, #feasible: 320, #infeasible: 80, scores: [-42.85149022   0.        ] [-1.00841337  9.0225    ] [-8.36920937e-03  1.14000000e+02]\n",
      "Iteration 1700, #feasible: 320, #infeasible: 80, scores: [-32.02016641   0.        ] [-1.86369539  6.9225    ] [-2.18575182e-02  1.14000000e+02]\n",
      "Iteration 1749, #feasible: 320, #infeasible: 80, scores: [-30.82294173   0.        ] [-1.42037045  6.6525    ] [-1.4745737e-02  1.1400000e+02]\n"
     ]
    }
   ],
   "source": [
    "objective = g2_objective\n",
    "constraint = g2_constraints\n",
    "\n",
    "x_min = 1e-4\n",
    "x_max = 10.\n",
    "d = 20\n",
    "n = 400\n",
    "n_inf = int(0.2*n)\n",
    "eta_c = 4.\n",
    "eta_m = 20.\n",
    "p_c = 0.8\n",
    "p_m = 0.1\n",
    "num_iterations = 1750\n",
    "\n",
    "populations, scores = IDEA(objective, constraint, x_min, x_max, d, n, n_inf, eta_c, eta_m, p_c, p_m, num_iterations, log_interval=100)"
   ]
  },
  {
   "cell_type": "code",
   "execution_count": 7,
   "metadata": {},
   "outputs": [
    {
     "data": {
      "text/plain": [
       "-0.7819128873860302"
      ]
     },
     "execution_count": 7,
     "metadata": {},
     "output_type": "execute_result"
    }
   ],
   "source": [
    "scores[-1, scores[-1, :, 1] == 0., 0].min()"
   ]
  },
  {
   "cell_type": "markdown",
   "metadata": {},
   "source": [
    "Sanity check"
   ]
  },
  {
   "cell_type": "code",
   "execution_count": 11,
   "metadata": {},
   "outputs": [
    {
     "data": {
      "text/plain": [
       "15"
      ]
     },
     "execution_count": 11,
     "metadata": {},
     "output_type": "execute_result"
    }
   ],
   "source": [
    "scores[-1, scores[-1, :, 1] == 0., 0].argmin()"
   ]
  },
  {
   "cell_type": "code",
   "execution_count": 13,
   "metadata": {},
   "outputs": [],
   "source": [
    "x = populations[-1][scores[-1, :, 1] == 0., :][[15], :]"
   ]
  },
  {
   "cell_type": "code",
   "execution_count": 15,
   "metadata": {},
   "outputs": [
    {
     "data": {
      "text/plain": [
       "array([-0.78191289])"
      ]
     },
     "execution_count": 15,
     "metadata": {},
     "output_type": "execute_result"
    }
   ],
   "source": [
    "objective(x)"
   ]
  },
  {
   "cell_type": "code",
   "execution_count": 16,
   "metadata": {},
   "outputs": [
    {
     "data": {
      "text/plain": [
       "array([[0., 0.]])"
      ]
     },
     "execution_count": 16,
     "metadata": {},
     "output_type": "execute_result"
    }
   ],
   "source": [
    "constraint(x)"
   ]
  },
  {
   "cell_type": "code",
   "execution_count": null,
   "metadata": {},
   "outputs": [],
   "source": []
  }
 ],
 "metadata": {
  "kernelspec": {
   "display_name": "Python 3.7 (ML)",
   "language": "python",
   "name": "python3-ml"
  },
  "language_info": {
   "codemirror_mode": {
    "name": "ipython",
    "version": 3
   },
   "file_extension": ".py",
   "mimetype": "text/x-python",
   "name": "python",
   "nbconvert_exporter": "python",
   "pygments_lexer": "ipython3",
   "version": "3.7.5"
  }
 },
 "nbformat": 4,
 "nbformat_minor": 4
}
