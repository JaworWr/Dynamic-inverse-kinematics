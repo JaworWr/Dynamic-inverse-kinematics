{
 "cells": [
  {
   "cell_type": "code",
   "execution_count": 1,
   "metadata": {},
   "outputs": [],
   "source": [
    "import numpy as np\n",
    "import matplotlib.pyplot as plt\n",
    "from idea import IDEA"
   ]
  },
  {
   "cell_type": "code",
   "execution_count": 2,
   "metadata": {},
   "outputs": [],
   "source": [
    "def g1_objective(x):\n",
    "    c = np.stack([\n",
    "        # objective\n",
    "        5 * x[:, :4].sum(1) - 5 * (x[:, :4]**2).sum(1) - x[:, 4:].sum(1),\n",
    "        # constraints\n",
    "        2*x[:, 0] + 2*x[:, 1] + x[:, 9] + x[:, 10] - 10.,\n",
    "        2*x[:, 0] + 2*x[:, 2] + x[:, 9] + x[:, 11] - 10.,\n",
    "        2*x[:, 1] + 2*x[:, 2] + x[:, 10] + x[:, 11] - 10.,\n",
    "        -8*x[:, 0] + x[:, 9],\n",
    "        -8*x[:, 1] + x[:, 10],\n",
    "        -8*x[:, 2] + x[:, 11],\n",
    "        -2*x[:, 3] - x[:, 4] + x[:, 9],\n",
    "        -2*x[:, 5] - x[:, 6] + x[:, 10],\n",
    "        -2*x[:, 7] - x[:, 8] + x[:, 11],\n",
    "    ], 1)\n",
    "    c[:, 1:] = np.maximum(c[:, 1:], 0.)\n",
    "    return c\n",
    "    \n",
    "\n",
    "def g6_objective(x):\n",
    "    c = np.stack([\n",
    "        # objective\n",
    "        (x[:, 0] - 10.)**3 + (x[:, 1] - 20.)**3,\n",
    "        # constraints\n",
    "        -(x[:, 0] - 5)**2 - (x[:, 1]-5)**2 + 100,\n",
    "        (x[:, 0] - 6)**2 + (x[:, 1]-5)**2 - 82.81,\n",
    "    ], 1)\n",
    "    c[:, 1:] = np.maximum(c[:, 1:], 0.)\n",
    "    return c\n",
    "\n",
    "\n",
    "def g2_objective(x):\n",
    "    n, d = x.shape\n",
    "    c = np.cos(x)\n",
    "    r = np.stack([\n",
    "        # objective\n",
    "        -np.abs(((c**4).sum(1) - 2*(c**2).prod(1)) / np.sqrt((np.arange(d) * x**2).sum(1))),\n",
    "        # constraints\n",
    "        0.75 - x.prod(1),\n",
    "        x.sum(1) - 7.5*d\n",
    "    ], 1)\n",
    "    r[:, 1:] = np.maximum(r[:, 1:], 0.)\n",
    "    return r"
   ]
  },
  {
   "cell_type": "code",
   "execution_count": 3,
   "metadata": {},
   "outputs": [
    {
     "name": "stdout",
     "output_type": "stream",
     "text": [
      "Iteration 0, #feasible: 0, #infeasible: 200, scores: [-697.40560961    1.        ] [1.1058382e+05 4.9020000e+01] [6.61998006e+05 1.55000000e+02]\n",
      "Iteration 100, #feasible: 160, #infeasible: 40, scores: [-7932.0162883     0.       ] [-6.66526712e+03  2.63500000e+00] [-6410.64550392    25.        ]\n",
      "Iteration 200, #feasible: 160, #infeasible: 40, scores: [-7973.     0.] [-7.16185538e+03  5.65500000e+00] [-6959.05791649    34.        ]\n",
      "Iteration 300, #feasible: 160, #infeasible: 40, scores: [-7973.     0.] [-7.16187714e+03  4.50000000e+00] [-6959.0705082    39.       ]\n",
      "Iteration 400, #feasible: 160, #infeasible: 40, scores: [-7973.     0.] [-7.1618873e+03  4.8900000e+00] [-6959.08277925    36.        ]\n",
      "Iteration 500, #feasible: 160, #infeasible: 40, scores: [-7973.     0.] [-7.16189334e+03  5.03000000e+00] [-6959.10032688    36.        ]\n",
      "Iteration 600, #feasible: 160, #infeasible: 40, scores: [-7973.     0.] [-7.16191044e+03  4.61500000e+00] [-6959.11644481    36.        ]\n",
      "Iteration 700, #feasible: 160, #infeasible: 40, scores: [-7973.     0.] [-7.16193328e+03  4.28500000e+00] [-6959.14904128    34.        ]\n",
      "Iteration 800, #feasible: 160, #infeasible: 40, scores: [-7973.     0.] [-7.16194781e+03  5.57000000e+00] [-6959.15711731    30.        ]\n",
      "Iteration 900, #feasible: 160, #infeasible: 40, scores: [-7973.     0.] [-7.16201368e+03  3.37500000e+00] [-6959.23398866    29.        ]\n",
      "Iteration 1000, #feasible: 160, #infeasible: 40, scores: [-7973.     0.] [-7.16212746e+03  6.27500000e+00] [-6959.36205456    33.        ]\n",
      "Iteration 1100, #feasible: 160, #infeasible: 40, scores: [-7973.     0.] [-7.1622429e+03  3.7000000e+00] [-6959.49430876    36.        ]\n",
      "Iteration 1200, #feasible: 160, #infeasible: 40, scores: [-7973.     0.] [-7.16235134e+03  4.43500000e+00] [-6959.60853124    31.        ]\n",
      "Iteration 1300, #feasible: 160, #infeasible: 40, scores: [-7973.     0.] [-7.16241755e+03  5.16000000e+00] [-6959.71281027    29.        ]\n",
      "Iteration 1400, #feasible: 160, #infeasible: 40, scores: [-7973.     0.] [-7.16246395e+03  5.93000000e+00] [-6959.79213839    31.        ]\n",
      "Iteration 1500, #feasible: 160, #infeasible: 40, scores: [-7973.     0.] [-7.16253699e+03  4.79000000e+00] [-6959.86676775    34.        ]\n",
      "Iteration 1600, #feasible: 160, #infeasible: 40, scores: [-7973.     0.] [-7.16258129e+03  6.41500000e+00] [-6959.94572662    38.        ]\n",
      "Iteration 1700, #feasible: 160, #infeasible: 40, scores: [-7973.     0.] [-7.16265625e+03  4.52500000e+00] [-6960.02032317    38.        ]\n",
      "Iteration 1749, #feasible: 160, #infeasible: 40, scores: [-7973.     0.] [-7.16269156e+03  5.42000000e+00] [-6960.058467    38.      ]\n"
     ]
    }
   ],
   "source": [
    "objective = g6_objective\n",
    "n_constraints = 2\n",
    "\n",
    "x_min = np.array([13., 0.])\n",
    "x_max = 100.\n",
    "d = 2\n",
    "n = 200\n",
    "n_inf = int(0.2*n)\n",
    "eta_c = 15.\n",
    "eta_m = 20.\n",
    "p_c = 0.8\n",
    "p_m = 0.1\n",
    "num_iterations = 1750\n",
    "\n",
    "populations, scores = IDEA(objective, n_constraints, x_min, x_max, d, n, n_inf, eta_c, eta_m, p_c, p_m, num_iterations, log_interval=100)"
   ]
  },
  {
   "cell_type": "code",
   "execution_count": 4,
   "metadata": {},
   "outputs": [
    {
     "data": {
      "text/plain": [
       "-6960.179126137921"
      ]
     },
     "execution_count": 4,
     "metadata": {},
     "output_type": "execute_result"
    }
   ],
   "source": [
    "scores[-1, scores[-1, :, 1] == 0., 0].min()"
   ]
  },
  {
   "cell_type": "code",
   "execution_count": 5,
   "metadata": {},
   "outputs": [
    {
     "name": "stdout",
     "output_type": "stream",
     "text": [
      "Iteration 0, #feasible: 0, #infeasible: 400, scores: [-274.10334934   41.        ] [-135.87237976 1361.92      ] [ -11.47462012 3306.        ]\n",
      "Iteration 100, #feasible: 320, #infeasible: 80, scores: [-299.37930473    0.        ] [-38.27859141 252.77      ] [2.48756348e+00 3.30600000e+03]\n",
      "Iteration 200, #feasible: 320, #infeasible: 80, scores: [-301.25835931    0.        ] [-36.77779576 226.8925    ] [   3.80516154 3292.        ]\n",
      "Iteration 300, #feasible: 320, #infeasible: 80, scores: [-301.83340705    0.        ] [-36.24309048 209.8625    ] [   3.96611864 3148.        ]\n",
      "Iteration 400, #feasible: 320, #infeasible: 80, scores: [-301.48755968    0.        ] [-37.74344488 204.245     ] [   4.06256926 3148.        ]\n",
      "Iteration 500, #feasible: 320, #infeasible: 80, scores: [-301.60541606    0.        ] [-36.87957691 189.525     ] [   4.34276611 3148.        ]\n",
      "Iteration 600, #feasible: 320, #infeasible: 80, scores: [-301.78782442    0.        ] [-36.22693694 161.86      ] [   4.89065294 3084.        ]\n",
      "Iteration 700, #feasible: 320, #infeasible: 80, scores: [-302.77336717    0.        ] [-34.36675015 161.0325    ] [   4.96458581 3084.        ]\n",
      "Iteration 800, #feasible: 320, #infeasible: 80, scores: [-302.6164592    0.       ] [-35.90831426 154.8875    ] [   4.96708831 3084.        ]\n",
      "Iteration 900, #feasible: 320, #infeasible: 80, scores: [-303.1050763    0.       ] [-32.9155344 130.755    ] [   4.98257509 3084.        ]\n",
      "Iteration 1000, #feasible: 320, #infeasible: 80, scores: [-301.8910271    0.       ] [-32.58618477 136.845     ] [   4.98257509 3084.        ]\n",
      "Iteration 1100, #feasible: 320, #infeasible: 80, scores: [-302.75296275    0.        ] [-34.46599078 143.0825    ] [   4.95288572 3084.        ]\n",
      "Iteration 1200, #feasible: 320, #infeasible: 80, scores: [-302.6749424    0.       ] [-35.19452231 136.4325    ] [   4.95727198 3084.        ]\n",
      "Iteration 1300, #feasible: 320, #infeasible: 80, scores: [-300.71060881    0.        ] [-33.98888902 126.4925    ] [   4.97365701 3084.        ]\n",
      "Iteration 1400, #feasible: 320, #infeasible: 80, scores: [-300.30214861    0.        ] [-34.09605655 127.5925    ] [   4.98026609 3084.        ]\n",
      "Iteration 1500, #feasible: 320, #infeasible: 80, scores: [-302.18273591    0.        ] [-34.02854077 136.1525    ] [   4.98241663 3084.        ]\n",
      "Iteration 1600, #feasible: 320, #infeasible: 80, scores: [-299.81131001    0.        ] [-34.85860696 134.0975    ] [   4.98774556 3084.        ]\n",
      "Iteration 1700, #feasible: 320, #infeasible: 80, scores: [-301.0197367    0.       ] [-35.73139929 122.4475    ] [   4.9880031 2713.       ]\n",
      "Iteration 1749, #feasible: 320, #infeasible: 80, scores: [-301.26567702    0.        ] [-35.3651447 129.475    ] [   4.9880031 2713.       ]\n"
     ]
    }
   ],
   "source": [
    "objective = g1_objective\n",
    "n_constraints = 9\n",
    "\n",
    "x_min = 0.\n",
    "x_max = np.ones(13)\n",
    "x_max[9:12] = 100.\n",
    "d = 13\n",
    "n = 400\n",
    "n_inf = int(0.2*n)\n",
    "eta_c = 5.\n",
    "eta_m = 20.\n",
    "p_c = 0.9\n",
    "p_m = 0.1\n",
    "num_iterations = 1750\n",
    "\n",
    "populations, scores = IDEA(objective, n_constraints, x_min, x_max, d, n, n_inf, eta_c, eta_m, p_c, p_m, num_iterations, log_interval=100)"
   ]
  },
  {
   "cell_type": "code",
   "execution_count": 6,
   "metadata": {},
   "outputs": [
    {
     "data": {
      "text/plain": [
       "-9.259658314433725"
      ]
     },
     "execution_count": 6,
     "metadata": {},
     "output_type": "execute_result"
    }
   ],
   "source": [
    "scores[-1, scores[-1, :, 1] == 0., 0].min()"
   ]
  },
  {
   "cell_type": "code",
   "execution_count": 6,
   "metadata": {},
   "outputs": [
    {
     "name": "stdout",
     "output_type": "stream",
     "text": [
      "Iteration 0, #feasible: 391, #infeasible: 9, scores: [-0.27587934  0.        ] [-0.11395722  0.0675    ] [-0.03798834  5.        ]\n",
      "Iteration 100, #feasible: 320, #infeasible: 80, scores: [-0.44103369  0.        ] [-0.20421624 11.8325    ] [-2.4749462e-03  1.0500000e+02]\n",
      "Iteration 200, #feasible: 320, #infeasible: 80, scores: [-0.53447463  0.        ] [-0.22399593 11.6075    ] [-1.77101942e-03  1.04000000e+02]\n",
      "Iteration 300, #feasible: 320, #infeasible: 80, scores: [-0.89910798  0.        ] [-0.28732747 12.605     ] [-1.64268159e-03  1.19000000e+02]\n",
      "Iteration 400, #feasible: 320, #infeasible: 80, scores: [-1.398545  0.      ] [-0.36314837 13.8425    ] [-1.32518323e-03  1.19000000e+02]\n",
      "Iteration 500, #feasible: 320, #infeasible: 80, scores: [-15.21515612   0.        ] [-1.55417669 10.675     ] [-1.09365587e-03  1.19000000e+02]\n",
      "Iteration 600, #feasible: 320, #infeasible: 80, scores: [-73.16349478   0.        ] [-6.61811912  6.465     ] [-9.49324181e-04  1.15000000e+02]\n",
      "Iteration 700, #feasible: 320, #infeasible: 80, scores: [-185.85773915    0.        ] [-15.76355894   5.5       ] [-9.49324181e-04  9.80000000e+01]\n",
      "Iteration 800, #feasible: 320, #infeasible: 80, scores: [-270.62960503    0.        ] [-25.65851378   4.7775    ] [-9.29908529e-04  6.70000000e+01]\n",
      "Iteration 900, #feasible: 320, #infeasible: 80, scores: [-838.89899573    0.        ] [-75.84765728   4.605     ] [-7.97988529e-04  5.20000000e+01]\n",
      "Iteration 1000, #feasible: 320, #infeasible: 80, scores: [-1128.29045734     0.        ] [-100.47780959    4.455     ] [-7.00807536e-04  5.00000000e+01]\n",
      "Iteration 1100, #feasible: 320, #infeasible: 80, scores: [-1622.78097337     0.        ] [-153.59008953    4.0825    ] [-6.99831328e-04  5.00000000e+01]\n",
      "Iteration 1200, #feasible: 320, #infeasible: 80, scores: [-2431.93447778     0.        ] [-230.53916008    4.26      ] [-6.21808534e-04  5.00000000e+01]\n",
      "Iteration 1300, #feasible: 320, #infeasible: 80, scores: [-6124.36952588     0.        ] [-573.68281727    3.9725    ] [-5.68461251e-04  3.40000000e+01]\n",
      "Iteration 1400, #feasible: 320, #infeasible: 80, scores: [-8150.94420942     0.        ] [-801.52533516    4.095     ] [-5.68461251e-04  3.40000000e+01]\n",
      "Iteration 1500, #feasible: 320, #infeasible: 80, scores: [-9698.52883842     0.        ] [-993.51096969    3.8175    ] [-5.68461251e-04  3.40000000e+01]\n",
      "Iteration 1600, #feasible: 320, #infeasible: 80, scores: [-11204.51576023      0.        ] [-1062.62813797     4.7025    ] [-5.68461251e-04  3.40000000e+01]\n",
      "Iteration 1700, #feasible: 320, #infeasible: 80, scores: [-11934.59381958      0.        ] [-1177.40779444     4.3       ] [-4.02722456e-04  3.40000000e+01]\n",
      "Iteration 1749, #feasible: 320, #infeasible: 80, scores: [-12409.35063702      0.        ] [-1133.24999675     3.6525    ] [-2.92322475e-04  3.40000000e+01]\n"
     ]
    }
   ],
   "source": [
    "objective = g2_objective\n",
    "n_constraints = 2\n",
    "\n",
    "x_min = 1e-4\n",
    "x_max = 10.\n",
    "d = 20\n",
    "n = 400\n",
    "n_inf = int(0.2*n)\n",
    "eta_c = 4.\n",
    "eta_m = 20.\n",
    "p_c = 0.8\n",
    "p_m = 0.1\n",
    "num_iterations = 1750\n",
    "\n",
    "populations, scores = IDEA(objective, n_constraints, x_min, x_max, d, n, n_inf, eta_c, eta_m, p_c, p_m, num_iterations, log_interval=100)"
   ]
  },
  {
   "cell_type": "code",
   "execution_count": 7,
   "metadata": {},
   "outputs": [
    {
     "data": {
      "text/plain": [
       "-0.7721422169830822"
      ]
     },
     "execution_count": 7,
     "metadata": {},
     "output_type": "execute_result"
    }
   ],
   "source": [
    "scores[-1, scores[-1, :, 1] == 0., 0].min()"
   ]
  },
  {
   "cell_type": "markdown",
   "metadata": {},
   "source": [
    "Sanity check"
   ]
  },
  {
   "cell_type": "code",
   "execution_count": 8,
   "metadata": {},
   "outputs": [
    {
     "data": {
      "text/plain": [
       "26"
      ]
     },
     "execution_count": 8,
     "metadata": {},
     "output_type": "execute_result"
    }
   ],
   "source": [
    "i = scores[-1, scores[-1, :, 1] == 0., 0].argmin()\n",
    "i"
   ]
  },
  {
   "cell_type": "code",
   "execution_count": 9,
   "metadata": {},
   "outputs": [],
   "source": [
    "x = populations[-1][scores[-1, :, 1] == 0., :][[i], :]"
   ]
  },
  {
   "cell_type": "code",
   "execution_count": 10,
   "metadata": {},
   "outputs": [
    {
     "data": {
      "text/plain": [
       "array([[-0.77214222,  0.        ,  0.        ]])"
      ]
     },
     "execution_count": 10,
     "metadata": {},
     "output_type": "execute_result"
    }
   ],
   "source": [
    "objective(x)"
   ]
  },
  {
   "cell_type": "code",
   "execution_count": null,
   "metadata": {},
   "outputs": [],
   "source": []
  }
 ],
 "metadata": {
  "kernelspec": {
   "display_name": "Python 3",
   "language": "python",
   "name": "python3"
  },
  "language_info": {
   "codemirror_mode": {
    "name": "ipython",
    "version": 3
   },
   "file_extension": ".py",
   "mimetype": "text/x-python",
   "name": "python",
   "nbconvert_exporter": "python",
   "pygments_lexer": "ipython3",
   "version": "3.7.6"
  }
 },
 "nbformat": 4,
 "nbformat_minor": 4
}
