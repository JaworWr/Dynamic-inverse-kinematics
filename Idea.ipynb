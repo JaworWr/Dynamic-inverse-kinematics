{
 "cells": [
  {
   "cell_type": "code",
   "execution_count": 10,
   "metadata": {},
   "outputs": [],
   "source": [
    "import numpy as np\n",
    "import matplotlib.pyplot as plt"
   ]
  },
  {
   "cell_type": "code",
   "execution_count": 11,
   "metadata": {},
   "outputs": [],
   "source": [
    "def FNS(scores):\n",
    "    domination = (scores[:, None, :] <= scores[None, :, :]).all(2) # domination [i, j] = \"i dominuje j\"\n",
    "    domination &= ~(scores[:, None, :] == scores[None, :, :]).all(2)\n",
    "    Nx = domination.sum(0)\n",
    "    \n",
    "    Pf = []\n",
    "    ranks = np.zeros(scores.shape[0])\n",
    "    r = 0\n",
    "    Q = np.argwhere(Nx == 0)\n",
    "    while Q.size > 0:\n",
    "        Q = Q[:, 0]\n",
    "        Nx[Q] = -1\n",
    "        Pf.append(Q)\n",
    "        ranks[Q] = r\n",
    "        r += 1\n",
    "        for i in Q:\n",
    "            Nx[domination[i, :]] -= 1\n",
    "        Q = np.argwhere(Nx == 0)\n",
    "        \n",
    "    return Pf, ranks\n",
    "\n",
    "def crowding_distance(scores):\n",
    "    indices = np.argsort(scores, 0)\n",
    "    sorted_scores = np.take_along_axis(scores, indices, 0)\n",
    "    cd = np.zeros(scores.shape[0])\n",
    "    for k in range(scores.shape[1]):\n",
    "        cd[indices[[0, -1], k]] = np.inf\n",
    "        cd[indices[1:-1, k]] += (sorted_scores[2:, k] - sorted_scores[:-2, k]) / (sorted_scores[-1, k] - sorted_scores[0, k])\n",
    "    return cd\n",
    "\n",
    "def random_population(d, n, x_min, x_max):\n",
    "    return np.hstack([np.random.uniform(x_min, x_max, (n, d))])\n",
    "\n",
    "def tournament_selection(ranks, dists, n):\n",
    "    candidates = np.random.choice(n, (n, 2), replace=True)\n",
    "    mask = np.where(\n",
    "        ranks[candidates[:, 0]] == ranks[candidates[:, 1]],\n",
    "        dists[candidates[:, 0]] > dists[candidates[:, 1]],\n",
    "        ranks[candidates[:, 0]] < ranks[candidates[:, 1]]\n",
    "    )\n",
    "    result = candidates[:, 1]\n",
    "    result[mask] = candidates[mask, 0]\n",
    "    return result\n",
    "\n",
    "def crossover(x, p, eta): # simulated binary crossover\n",
    "    n, d = x.shape\n",
    "    l = n // 2\n",
    "    mask = np.random.random(l) <= p\n",
    "    m = np.sum(mask)\n",
    "    mi = np.random.random((m, d))\n",
    "    beta = np.where(\n",
    "        mi < 0.5,\n",
    "        np.power(2*mi, 1. / (eta+1.)),\n",
    "        np.power(1. / (2.*(1-mi)), 1. / (eta+1.))\n",
    "    )\n",
    "    c1 = x[:l, :].copy()\n",
    "    c2 = x[l:, :].copy()\n",
    "    c1[mask, :] = 0.5 * (1 + beta) * x[:l, :][mask, :] + 0.5 * (1 - beta) * x[l:, :][mask, :]\n",
    "    c2[mask, :] = 0.5 * (1 + beta) * x[:l, :][mask, :] + 0.5 * (1 - beta) * x[l:, :][mask, :]\n",
    "    return np.vstack([c1, c2])\n",
    "\n",
    "def mutation(x, x_min, x_max, p, eta): # polynomial mutation\n",
    "    n, d = x.shape\n",
    "    mask = np.random.random(x.shape[0]) <= p\n",
    "    m = np.sum(mask)\n",
    "    mi = np.random.random((m, d))\n",
    "    beta = np.where(\n",
    "        mi < 0.5,\n",
    "        np.power(2*mi, 1. / (eta+1.)) - 1.,\n",
    "        1. - np.power(2.*(1-mi), 1. / (eta+1.))\n",
    "    )\n",
    "    y = x.copy()\n",
    "    y[mask, :] = np.where(\n",
    "        mi < 0.5,\n",
    "        x[mask, :] + beta * (x[mask, :] - x_min),\n",
    "        x[mask, :] + beta * (x_max - x[mask, :])\n",
    "    )\n",
    "    return y\n",
    "\n",
    "def elitist_selection(fronts, dists, to_take):\n",
    "    taken = []\n",
    "    for front in fronts:\n",
    "        if len(front) <= to_take:\n",
    "            taken += list(front)\n",
    "            if len(front) == to_take:\n",
    "                break\n",
    "            to_take -= len(front)\n",
    "        else:\n",
    "            indices = np.argsort(-dists[front])[:to_take]\n",
    "            taken += list(indices)\n",
    "            break\n",
    "    return taken\n",
    "\n",
    "def constraint_violation(constraints):\n",
    "    n, d = constraints.shape\n",
    "    sort_indices = np.argsort(constraints, 0)\n",
    "    violations = np.zeros(n)\n",
    "    for i in range(d):\n",
    "        values, counts = np.unique(constraints[:, i], return_counts=True)\n",
    "        counts = np.cumsum(counts)\n",
    "        counts = list(counts)\n",
    "        if values[0] != 0:\n",
    "            counts = [0] + counts\n",
    "        for rank, (j, k) in enumerate(zip([0] + counts, counts + [len(counts)])):\n",
    "            violations[sort_indices[j:k, i]] += rank\n",
    "    return violations\n",
    "        \n",
    "\n",
    "def IDEA(objective, constraint, x_min, x_max, d, n, n_inf, eta_c, eta_m, p_c, p_m, num_iterations, log_interval=10): # TODO\n",
    "    n_f = n - n_inf\n",
    "    population = random_population(d, n, x_min, x_max)\n",
    "    populations = [population.copy()]\n",
    "    constraint_values = constraint(population)\n",
    "    violation_measure = constraint_violation(constraint_values)\n",
    "    scores = np.stack([objective(population), violation_measure], 1)\n",
    "    scores_hist = [scores.copy()]\n",
    "\n",
    "    fronts, ranks = FNS(scores)\n",
    "    dists = crowding_distance(scores)\n",
    "    \n",
    "    for iter_ in range(num_iterations):\n",
    "        parent_indices = tournament_selection(ranks, dists, n)\n",
    "        offspring = crossover(population[parent_indices, :], p_c, eta_c)\n",
    "        offspring = np.clip(offspring, x_min, x_max)\n",
    "        offspring = mutation(offspring, x_min, x_max, p_m, eta_m)\n",
    "        population = np.vstack([population, offspring])\n",
    "        \n",
    "        constraint_values = constraint(population)\n",
    "        violation_measure = constraint_violation(constraint_values)\n",
    "        scores = np.stack([objective(population), violation_measure], 1)\n",
    "        dists = crowding_distance(scores)\n",
    "        mask_f = scores[:, -1] == 0\n",
    "        mask_inf = ~mask_f\n",
    "        s_f = np.sum(mask_f)\n",
    "        s_inf = np.sum(mask_inf)\n",
    "        if s_f < n_f:\n",
    "            to_take_f = s_f\n",
    "            to_take_inf = n - s_f\n",
    "        elif s_inf < n_inf:\n",
    "            to_take_inf = s_inf\n",
    "            to_take_f = n - s_inf\n",
    "        else:\n",
    "            to_take_f = n_f\n",
    "            to_take_inf = n_inf\n",
    "            \n",
    "        population_f = population[mask_f]\n",
    "        fronts, ranks = FNS(population_f)\n",
    "        taken_f = elitist_selection(fronts, dists[mask_f], to_take_f)\n",
    "        population_inf = population[mask_inf]\n",
    "        fronts, ranks = FNS(population_inf)\n",
    "        taken_inf = elitist_selection(fronts, dists[mask_inf], to_take_inf)\n",
    "        \n",
    "        population = np.vstack([population_f[taken_f, :], population_inf[taken_inf, :]])\n",
    "        scores = np.vstack([scores[mask_f, :][taken_f, :], scores[mask_inf, :][taken_inf, :]])\n",
    "        dists = np.hstack([dists[mask_f][taken_f], dists[mask_inf][taken_inf]])\n",
    "        fronts, ranks = FNS(population)\n",
    "        \n",
    "        populations.append(population.copy())\n",
    "        scores_hist.append(scores.copy())\n",
    "        \n",
    "        if iter_ % log_interval == 0:\n",
    "            print(f\"Iteration {iter_}, #feasible: {to_take_f}, #infeasible: {to_take_inf}, scores: {scores.min(0)} {scores.mean(0)} {scores.max(0)}\")\n",
    "    print(f\"Iteration {iter_}, #feasible: {to_take_f}, #infeasible: {to_take_inf}, scores: {scores.min(0)} {scores.mean(0)} {scores.max(0)}\")\n",
    "    return np.stack(populations, 0), np.stack(scores_hist, 0)"
   ]
  },
  {
   "cell_type": "code",
   "execution_count": 12,
   "metadata": {},
   "outputs": [],
   "source": [
    "def g1_objective(x):\n",
    "    return 5 * x[:, :4].sum(1) - 5 * (x[:, :4]**2).sum(1) - x[:, 4:].sum(1)\n",
    "\n",
    "def g1_constraints(x):\n",
    "    c = np.stack([\n",
    "        2*x[:, 0] + 2*x[:, 1] + x[:, 9] + x[:, 10] - 10.,\n",
    "        2*x[:, 0] + 2*x[:, 2] + x[:, 9] + x[:, 11] - 10.,\n",
    "        2*x[:, 1] + 2*x[:, 2] + x[:, 10] + x[:, 11] - 10.,\n",
    "        -8*x[:, 0] + x[:, 9],\n",
    "        -8*x[:, 1] + x[:, 10],\n",
    "        -8*x[:, 2] + x[:, 11],\n",
    "        -2*x[:, 3] - x[:, 4] + x[:, 9],\n",
    "        -2*x[:, 5] - x[:, 6] + x[:, 10],\n",
    "        -2*x[:, 7] - x[:, 8] + x[:, 11],\n",
    "    ], 1)\n",
    "    c = np.maximum(c, 0.)\n",
    "    return c\n",
    "    \n",
    "def g6_objective(x):\n",
    "    return (x[:, 0] - 10.)**3 + (x[:, 1] - 20.)**3\n",
    "\n",
    "def g6_constraints(x):\n",
    "    c = np.stack([\n",
    "        -(x[:, 0] - 5)**2 - (x[:, 1]-5)**2 + 100,\n",
    "        (x[:, 0] - 6)**2 + (x[:, 1]-5)**2 - 82.81,\n",
    "    ], 1)\n",
    "    c = np.maximum(c, 0.)\n",
    "    return c\n",
    "\n",
    "def g2_objective(x):\n",
    "    n, d = x.shape\n",
    "    c = np.cos(x)\n",
    "    return -np.abs(((c**4).sum(1) - 2*(c**2).prod(1)) / np.sqrt((np.arange(d) * x**2).sum(1)))\n",
    "\n",
    "def g2_constraints(x):\n",
    "    n, d = x.shape\n",
    "    c = np.stack([\n",
    "        0.75 - x.prod(1),\n",
    "        x.sum(1) - 7.5*d\n",
    "    ], 1)\n",
    "    c = np.maximum(c, 0.)\n",
    "    return c"
   ]
  },
  {
   "cell_type": "code",
   "execution_count": 20,
   "metadata": {},
   "outputs": [
    {
     "name": "stdout",
     "output_type": "stream",
     "text": [
      "Iteration 0, #feasible: 0, #infeasible: 200, scores: [-3.95769257e+03  1.00000000e+00] [1.18420999e+05 8.60700000e+01] [9.13276447e+05 2.95000000e+02]\n",
      "Iteration 100, #feasible: 160, #infeasible: 40, scores: [-7967.53682068     0.        ] [-7031.69602586     7.68      ] [-6901.12295816    58.        ]\n",
      "Iteration 200, #feasible: 160, #infeasible: 40, scores: [-7973.     0.] [-7159.77860739     7.215     ] [-6956.59705211    39.        ]\n",
      "Iteration 300, #feasible: 160, #infeasible: 40, scores: [-7973.     0.] [-7.13490705e+03  5.00500000e+00] [-6915.73693644    34.        ]\n",
      "Iteration 400, #feasible: 160, #infeasible: 40, scores: [-7973.     0.] [-7162.5199491    10.215    ] [-6960.16369139    55.        ]\n",
      "Iteration 500, #feasible: 160, #infeasible: 40, scores: [-7973.     0.] [-7.16309807e+03  6.34000000e+00] [-6960.60778848    33.        ]\n",
      "Iteration 600, #feasible: 160, #infeasible: 40, scores: [-7973.     0.] [-7.16324556e+03  6.60000000e+00] [-6960.80077764    33.        ]\n",
      "Iteration 700, #feasible: 160, #infeasible: 40, scores: [-7973.     0.] [-7.12310921e+03  4.51500000e+00] [-4106.49027607    33.        ]\n",
      "Iteration 800, #feasible: 160, #infeasible: 40, scores: [-7973.     0.] [-7.02053104e+03  3.12500000e+00] [-707.0437616   30.       ]\n",
      "Iteration 900, #feasible: 160, #infeasible: 40, scores: [-7973.     0.] [-7.09029728e+03  4.06500000e+00] [-3454.03887375    38.        ]\n",
      "Iteration 1000, #feasible: 160, #infeasible: 40, scores: [-7973.     0.] [-7.06251273e+03  4.55000000e+00] [-5384.95176533    40.        ]\n",
      "Iteration 1100, #feasible: 160, #infeasible: 40, scores: [-7973.     0.] [-7158.8590197     8.83     ] [-6961.28735958    47.        ]\n",
      "Iteration 1200, #feasible: 160, #infeasible: 40, scores: [-7973.     0.] [-7.16364501e+03  5.79500000e+00] [-6961.29334352    29.        ]\n",
      "Iteration 1300, #feasible: 160, #infeasible: 40, scores: [-7973.     0.] [-7.16357903e+03  5.58500000e+00] [-6961.31130715    36.        ]\n",
      "Iteration 1400, #feasible: 160, #infeasible: 40, scores: [-7973.     0.] [-7163.73359758     7.4       ] [-6961.43615809    39.        ]\n",
      "Iteration 1500, #feasible: 160, #infeasible: 40, scores: [-7973.     0.] [-7.15839649e+03  5.94000000e+00] [-6904.25893312    35.        ]\n",
      "Iteration 1600, #feasible: 160, #infeasible: 40, scores: [-7973.     0.] [-6.99519493e+03  2.97500000e+00] [64.06386419 23.        ]\n",
      "Iteration 1700, #feasible: 160, #infeasible: 40, scores: [-7973.     0.] [-7.03853668e+03  5.53500000e+00] [-2382.73402415    49.        ]\n",
      "Iteration 1749, #feasible: 160, #infeasible: 40, scores: [-7973.     0.] [-7.00012281e+03  4.74500000e+00] [-421.42850981   37.        ]\n"
     ]
    }
   ],
   "source": [
    "objective = g6_objective\n",
    "constraint = g6_constraints\n",
    "\n",
    "x_min = np.array([13., 0.])\n",
    "x_max = 100.\n",
    "d = 2\n",
    "n = 200\n",
    "n_inf = int(0.2*n)\n",
    "eta_c = 15.\n",
    "eta_m = 20.\n",
    "p_c = 0.8\n",
    "p_m = 0.1\n",
    "num_iterations = 1750\n",
    "\n",
    "populations, scores = IDEA(objective, constraint, x_min, x_max, d, n, n_inf, eta_c, eta_m, p_c, p_m, num_iterations, log_interval=100)"
   ]
  },
  {
   "cell_type": "code",
   "execution_count": 21,
   "metadata": {},
   "outputs": [
    {
     "data": {
      "text/plain": [
       "-6961.542212493958"
      ]
     },
     "execution_count": 21,
     "metadata": {},
     "output_type": "execute_result"
    }
   ],
   "source": [
    "scores[-1, scores[-1, :, 1] == 0., 0].min()"
   ]
  },
  {
   "cell_type": "code",
   "execution_count": 23,
   "metadata": {},
   "outputs": [
    {
     "name": "stdout",
     "output_type": "stream",
     "text": [
      "Iteration 0, #feasible: 0, #infeasible: 200, scores: [-265.4934198  153.       ] [-152.51234602 1281.33      ] [ -28.25592431 2353.        ]\n",
      "Iteration 100, #feasible: 160, #infeasible: 40, scores: [-299.68147942    0.        ] [-24.85504509  49.285     ] [  0.66394623 604.        ]\n",
      "Iteration 200, #feasible: 160, #infeasible: 40, scores: [-300.20410713    0.        ] [-32.4914137  57.4      ] [  1.3318332 591.       ]\n",
      "Iteration 300, #feasible: 160, #infeasible: 40, scores: [-299.62171451    0.        ] [-26.671748  52.635   ] [  1.80716027 543.        ]\n",
      "Iteration 400, #feasible: 160, #infeasible: 40, scores: [-300.23050515    0.        ] [-33.4404438  76.525    ] [  2.17068364 732.        ]\n",
      "Iteration 500, #feasible: 160, #infeasible: 40, scores: [-295.28799247    0.        ] [-34.78090381  83.18      ] [  2.28167204 670.        ]\n",
      "Iteration 600, #feasible: 160, #infeasible: 40, scores: [-300.47517118    0.        ] [-34.73596888  78.575     ] [  2.51745661 722.        ]\n",
      "Iteration 700, #feasible: 160, #infeasible: 40, scores: [-300.31086019    0.        ] [-31.06594686  63.56      ] [  2.56912939 570.        ]\n",
      "Iteration 800, #feasible: 160, #infeasible: 40, scores: [-301.24847559    0.        ] [-33.98545852  82.65      ] [  2.73334776 705.        ]\n",
      "Iteration 900, #feasible: 160, #infeasible: 40, scores: [-299.37610147    0.        ] [-31.72483488  70.705     ] [  2.91580699 558.        ]\n",
      "Iteration 1000, #feasible: 160, #infeasible: 40, scores: [-299.89045638    0.        ] [-34.30544535  74.655     ] [  3.16611957 701.        ]\n",
      "Iteration 1100, #feasible: 160, #infeasible: 40, scores: [-299.87938994    0.        ] [-24.40237167  47.29      ] [  3.23433399 506.        ]\n",
      "Iteration 1200, #feasible: 160, #infeasible: 40, scores: [-299.50596639    0.        ] [-29.2989198  87.945    ] [  3.27595108 830.        ]\n",
      "Iteration 1300, #feasible: 160, #infeasible: 40, scores: [-297.65635729    0.        ] [-28.58253253  69.57      ] [  3.47233596 607.        ]\n",
      "Iteration 1400, #feasible: 160, #infeasible: 40, scores: [-298.68968527    0.        ] [-32.02800045  71.845     ] [  3.53811507 592.        ]\n",
      "Iteration 1500, #feasible: 160, #infeasible: 40, scores: [-298.99174249    0.        ] [-30.77951925  74.995     ] [  3.50010879 751.        ]\n",
      "Iteration 1600, #feasible: 160, #infeasible: 40, scores: [-292.77708644    0.        ] [-30.24297706  69.665     ] [  3.48044195 636.        ]\n",
      "Iteration 1700, #feasible: 160, #infeasible: 40, scores: [-299.22297981    0.        ] [-32.32133227  67.145     ] [  3.65492237 656.        ]\n",
      "Iteration 1749, #feasible: 160, #infeasible: 40, scores: [-299.15742421    0.        ] [-31.80385456  79.835     ] [  3.6756857 772.       ]\n"
     ]
    }
   ],
   "source": [
    "objective = g1_objective\n",
    "constraint = g1_constraints\n",
    "\n",
    "x_min = 0.\n",
    "x_max = np.ones(13)\n",
    "x_max[9:12] = 100.\n",
    "d = 13\n",
    "n = 200\n",
    "n_inf = int(0.2*n)\n",
    "eta_c = 15.\n",
    "eta_m = 20.\n",
    "p_c = 0.8\n",
    "p_m = 0.1\n",
    "num_iterations = 1750\n",
    "\n",
    "populations, scores = IDEA(objective, constraint, x_min, x_max, d, n, n_inf, eta_c, eta_m, p_c, p_m, num_iterations, log_interval=100)"
   ]
  },
  {
   "cell_type": "code",
   "execution_count": 24,
   "metadata": {},
   "outputs": [
    {
     "data": {
      "text/plain": [
       "-4.286607666470444"
      ]
     },
     "execution_count": 24,
     "metadata": {},
     "output_type": "execute_result"
    }
   ],
   "source": [
    "scores[-1, scores[-1, :, 1] == 0., 0].min()"
   ]
  },
  {
   "cell_type": "code",
   "execution_count": 25,
   "metadata": {},
   "outputs": [
    {
     "name": "stdout",
     "output_type": "stream",
     "text": [
      "Iteration 0, #feasible: 200, #infeasible: 0, scores: [-0.18063982  0.        ] [-0.12018422  0.        ] [-0.07194513  0.        ]\n"
     ]
    },
    {
     "name": "stderr",
     "output_type": "stream",
     "text": [
      "/home/michal/miniconda3/envs/ML/lib/python3.7/site-packages/ipykernel_launcher.py:28: RuntimeWarning: invalid value encountered in true_divide\n",
      "/home/michal/miniconda3/envs/ML/lib/python3.7/site-packages/ipykernel_launcher.py:38: RuntimeWarning: invalid value encountered in greater\n"
     ]
    },
    {
     "name": "stdout",
     "output_type": "stream",
     "text": [
      "Iteration 100, #feasible: 160, #infeasible: 40, scores: [-0.29351088  0.        ] [-0.1445369  6.29     ] [-3.68197501e-03  5.90000000e+01]\n",
      "Iteration 200, #feasible: 160, #infeasible: 40, scores: [-0.30691528  0.        ] [-0.14974879  6.345     ] [-3.20158566e-04  6.30000000e+01]\n",
      "Iteration 300, #feasible: 160, #infeasible: 40, scores: [-0.31020739  0.        ] [-0.15244975  6.825     ] [-1.42062657e-04  6.60000000e+01]\n",
      "Iteration 400, #feasible: 160, #infeasible: 40, scores: [-0.3108346  0.       ] [-0.15625421  7.435     ] [-9.30157655e-05  7.30000000e+01]\n",
      "Iteration 500, #feasible: 160, #infeasible: 40, scores: [-0.31144428  0.        ] [-0.15480749  8.525     ] [-4.89626098e-05  7.90000000e+01]\n",
      "Iteration 600, #feasible: 160, #infeasible: 40, scores: [-0.31203993  0.        ] [-0.15140525  6.925     ] [-3.0688786e-05  6.8000000e+01]\n",
      "Iteration 700, #feasible: 160, #infeasible: 40, scores: [-0.31232902  0.        ] [-0.15344715  6.7       ] [-2.87049323e-05  6.30000000e+01]\n",
      "Iteration 800, #feasible: 160, #infeasible: 40, scores: [-0.31243459  0.        ] [-0.15205774  7.46      ] [-8.80643607e-04  7.30000000e+01]\n",
      "Iteration 900, #feasible: 160, #infeasible: 40, scores: [-0.31243728  0.        ] [-0.15048154  7.77      ] [-1.79613036e-04  7.20000000e+01]\n",
      "Iteration 1000, #feasible: 160, #infeasible: 40, scores: [-0.31252623  0.        ] [-0.14825205  7.98      ] [-1.36988807e-04  7.60000000e+01]\n",
      "Iteration 1100, #feasible: 160, #infeasible: 40, scores: [-0.3098741  0.       ] [-0.15410182  6.97      ] [-3.81015948e-04  6.50000000e+01]\n",
      "Iteration 1200, #feasible: 160, #infeasible: 40, scores: [-0.31159295  0.        ] [-0.14123187  6.895     ] [-8.06833229e-05  7.80000000e+01]\n",
      "Iteration 1300, #feasible: 160, #infeasible: 40, scores: [-0.31219693  0.        ] [-0.14920168  6.545     ] [-5.37355133e-05  6.90000000e+01]\n",
      "Iteration 1400, #feasible: 160, #infeasible: 40, scores: [-0.31230705  0.        ] [-0.14789936  7.69      ] [-4.54558114e-05  7.80000000e+01]\n",
      "Iteration 1500, #feasible: 160, #infeasible: 40, scores: [-0.31251952  0.        ] [-0.1533945  7.375    ] [-8.76918202e-04  7.40000000e+01]\n",
      "Iteration 1600, #feasible: 160, #infeasible: 40, scores: [-0.31255321  0.        ] [-0.15791173  6.425     ] [-3.7217594e-04  6.1000000e+01]\n",
      "Iteration 1700, #feasible: 160, #infeasible: 40, scores: [-0.30972796  0.        ] [-0.1526229  6.49     ] [-2.42665757e-04  6.80000000e+01]\n",
      "Iteration 1749, #feasible: 160, #infeasible: 40, scores: [-0.31097051  0.        ] [-0.14758929  8.045     ] [-2.16527562e-04  7.90000000e+01]\n"
     ]
    }
   ],
   "source": [
    "objective = g2_objective\n",
    "constraint = g2_constraints\n",
    "\n",
    "x_min = 1e-4\n",
    "x_max = 10.\n",
    "d = 20\n",
    "n = 200\n",
    "n_inf = int(0.2*n)\n",
    "eta_c = 15.\n",
    "eta_m = 20.\n",
    "p_c = 0.8\n",
    "p_m = 0.1\n",
    "num_iterations = 1750\n",
    "\n",
    "populations, scores = IDEA(objective, constraint, x_min, x_max, d, n, n_inf, eta_c, eta_m, p_c, p_m, num_iterations, log_interval=100)"
   ]
  },
  {
   "cell_type": "code",
   "execution_count": 26,
   "metadata": {},
   "outputs": [
    {
     "data": {
      "text/plain": [
       "-0.28779410645687825"
      ]
     },
     "execution_count": 26,
     "metadata": {},
     "output_type": "execute_result"
    }
   ],
   "source": [
    "scores[-1, scores[-1, :, 1] == 0., 0].min()"
   ]
  },
  {
   "cell_type": "code",
   "execution_count": null,
   "metadata": {},
   "outputs": [],
   "source": [
    " "
   ]
  }
 ],
 "metadata": {
  "kernelspec": {
   "display_name": "Python 3.7 (ML)",
   "language": "python",
   "name": "python3-ml"
  },
  "language_info": {
   "codemirror_mode": {
    "name": "ipython",
    "version": 3
   },
   "file_extension": ".py",
   "mimetype": "text/x-python",
   "name": "python",
   "nbconvert_exporter": "python",
   "pygments_lexer": "ipython3",
   "version": "3.7.5"
  }
 },
 "nbformat": 4,
 "nbformat_minor": 4
}
