{
 "cells": [
  {
   "cell_type": "code",
   "execution_count": null,
   "metadata": {},
   "outputs": [],
   "source": [
    "import numpy as np\n",
    "import matplotlib.pyplot as plt"
   ]
  },
  {
   "cell_type": "code",
   "execution_count": 23,
   "metadata": {},
   "outputs": [],
   "source": [
    "def FNS(scores):\n",
    "    domination = (scores[:, None, :] <= scores[None, :, :]).all(2) # domination[i, j] = \"i dominuje j\"\n",
    "    domination &= ~(scores[:, None, :] == scores[None, :, :]).all(2)\n",
    "    Nx = domination.sum(0)\n",
    "    \n",
    "    Pf = []\n",
    "    ranks = np.zeros(scores.shape[0])\n",
    "    r = 0\n",
    "    Q = np.argwhere(Nx == 0)\n",
    "    while Q.size > 0:\n",
    "        Q = Q[:, 0]\n",
    "        Nx[Q] = -1\n",
    "        Pf.append(Q)\n",
    "        ranks[Q] = r\n",
    "        r += 1\n",
    "        for i in Q:\n",
    "            Nx[domination[i, :]] -= 1\n",
    "        Q = np.argwhere(Nx == 0)\n",
    "        \n",
    "    return Pf, ranks\n",
    "\n",
    "def crowding_distance(scores):\n",
    "    indices = np.argsort(scores, 0)\n",
    "    sorted_scores = np.take_along_axis(scores, indices, 0)\n",
    "    cd = np.zeros(scores.shape[0])\n",
    "    for k in range(scores.shape[1]):\n",
    "        cd[indices[[0, -1], k]] = np.inf\n",
    "        cd[indices[1:-1, k]] += (sorted_scores[2:, k] - sorted_scores[:-2, k]) / (sorted_scores[-1, k] - sorted_scores[0, k])\n",
    "    return cd\n",
    "\n",
    "def random_population(d, n, x_min, x_max):\n",
    "    return np.hstack([np.random.uniform(x_min, x_max, (n, d))])\n",
    "\n",
    "def tournament_selection(ranks, dists, n):\n",
    "    candidates = np.random.choice(n, (n, 2), replace=True)\n",
    "    mask = np.where(\n",
    "        ranks[candidates[:, 0]] == ranks[candidates[:, 1]],\n",
    "        dists[candidates[:, 0]] > dists[candidates[:, 1]],\n",
    "        ranks[candidates[:, 0]] < ranks[candidates[:, 1]]\n",
    "    )\n",
    "    result = candidates[:, 1]\n",
    "    result[mask] = candidates[mask, 0]\n",
    "    return result\n",
    "\n",
    "def crossover(x, p, eta): # simulated binary crossover\n",
    "    n, d = x.shape\n",
    "    l = n // 2\n",
    "    mask = np.random.random(l) <= p\n",
    "    m = np.sum(mask)\n",
    "    mi = np.random.random((m, d))\n",
    "    beta = np.where(\n",
    "        mi < 0.5,\n",
    "        np.power(2*mi, 1. / (eta+1.)),\n",
    "        np.power(1. / (2.*(1-mi)), 1. / (eta+1.))\n",
    "    )\n",
    "    c1 = x[:l, :].copy()\n",
    "    c2 = x[l:, :].copy()\n",
    "    c1[mask, :] = 0.5 * (1 + beta) * x[:l, :][mask, :] + 0.5 * (1 - beta) * x[l:, :][mask, :]\n",
    "    c2[mask, :] = 0.5 * (1 + beta) * x[:l, :][mask, :] + 0.5 * (1 - beta) * x[l:, :][mask, :]\n",
    "    return np.vstack([c1, c2])\n",
    "\n",
    "def mutation(x, x_min, x_max, p, eta): # polynomial mutation\n",
    "    n, d = x.shape\n",
    "    mask = np.random.random(x.shape[0]) <= p\n",
    "    m = np.sum(mask)\n",
    "    mi = np.random.random((m, d))\n",
    "    beta = np.where(\n",
    "        mi < 0.5,\n",
    "        np.power(2*mi, 1. / (eta+1.)) - 1.,\n",
    "        1. - np.power(2.*(1-mi), 1. / (eta+1.))\n",
    "    )\n",
    "    y = x.copy()\n",
    "    y[mask, :] = np.where(\n",
    "        mi < 0.5,\n",
    "        x[mask, :] + beta * (x[mask, :] - x_min),\n",
    "        x[mask, :] + beta * (x_max - x[mask, :])\n",
    "    )\n",
    "    return y\n",
    "\n",
    "def elitist_selection(fronts, dists, to_take):\n",
    "    taken = []\n",
    "    for front in fronts:\n",
    "        if len(front) <= to_take:\n",
    "            taken += list(front)\n",
    "            if len(front) == to_take:\n",
    "                break\n",
    "            to_take -= len(front)\n",
    "        else:\n",
    "            indices = np.argsort(-dists[front])[:to_take]\n",
    "            taken += list(indices)\n",
    "            break\n",
    "    return taken\n",
    "\n",
    "def constraint_violation(constraints):\n",
    "    n, d = constraints.shape\n",
    "    sort_indices = np.argsort(constraints, 0)\n",
    "    violations = np.zeros(n)\n",
    "    for i in range(d):\n",
    "        values, counts = np.unique(constraints[:, i], return_counts=True) # unikalne wartości są zwracane posortowane\n",
    "        counts = np.cumsum(counts)\n",
    "        counts = list(counts)\n",
    "        if values[0] != 0:\n",
    "            counts = [0] + counts\n",
    "        for rank, (j, k) in enumerate(zip([0] + counts, counts + [len(counts)])):\n",
    "            violations[sort_indices[j:k, i]] += rank\n",
    "    return violations\n",
    "        \n",
    "\n",
    "def IDEA(objective, n_constraints, x_min, x_max, d, n, n_inf, eta_c, eta_m, p_c, p_m, num_iterations, log_interval=10):\n",
    "    n_f = n - n_inf\n",
    "    population = random_population(d, n, x_min, x_max)\n",
    "    populations = [population.copy()]\n",
    "    obj_results = objective(population)\n",
    "    constraint_values = obj_results[:, -n_constraints:]\n",
    "    violation_measure = constraint_violation(constraint_values)\n",
    "    scores = np.concatenate([obj_results[:, :-n_constraints], violation_measure[:, None]], 1)\n",
    "    scores_hist = [scores.copy()]\n",
    "\n",
    "    fronts, ranks = FNS(scores)\n",
    "    dists = crowding_distance(scores)\n",
    "    \n",
    "    for iter_ in range(num_iterations):\n",
    "        parent_indices = tournament_selection(ranks, dists, n)\n",
    "        offspring = crossover(population[parent_indices, :], p_c, eta_c)\n",
    "        offspring = np.clip(offspring, x_min, x_max)\n",
    "        offspring = mutation(offspring, x_min, x_max, p_m, eta_m)\n",
    "        \n",
    "        offspring_obj_results = objective(offspring)\n",
    "        offspring_constraint_values = offspring_obj_results[:, -n_constraints:]\n",
    "        offspring_violation_measure = constraint_violation(offspring_constraint_values)\n",
    "        offspring_scores = np.concatenate([offspring_obj_results[:, :-n_constraints], offspring_violation_measure[:, None]], 1)\n",
    "        \n",
    "        population = np.vstack([population, offspring])\n",
    "        scores = np.vstack([scores, offspring_scores])\n",
    "        \n",
    "        dists = crowding_distance(scores)\n",
    "        mask_f = scores[:, -1] == 0\n",
    "        mask_inf = ~mask_f\n",
    "        s_f = np.sum(mask_f)\n",
    "        s_inf = np.sum(mask_inf)\n",
    "        if s_f < n_f:\n",
    "            to_take_f = s_f\n",
    "            to_take_inf = n - s_f\n",
    "        elif s_inf < n_inf:\n",
    "            to_take_inf = s_inf\n",
    "            to_take_f = n - s_inf\n",
    "        else:\n",
    "            to_take_f = n_f\n",
    "            to_take_inf = n_inf\n",
    "            \n",
    "        population_f = population[mask_f, :]\n",
    "        scores_f = scores[mask_f, :]\n",
    "        dists_f = dists[mask_f]\n",
    "        fronts, ranks = FNS(population_f)\n",
    "        taken_f = elitist_selection(fronts, dists_f, to_take_f)\n",
    "        \n",
    "        population_inf = population[mask_inf]\n",
    "        scores_inf = scores[mask_inf, :]\n",
    "        dists_inf = dists[mask_inf]\n",
    "        fronts, ranks = FNS(population_inf)\n",
    "        taken_inf = elitist_selection(fronts, dists_inf, to_take_inf)\n",
    "        \n",
    "        population = np.vstack([population_f[taken_f, :], population_inf[taken_inf, :]])\n",
    "        scores = np.vstack([scores_f[taken_f, :], scores_inf[taken_inf, :]])\n",
    "        dists = np.hstack([dists_f[taken_f], dists_inf[taken_inf]])\n",
    "        fronts, ranks = FNS(population)\n",
    "        \n",
    "        populations.append(population.copy())\n",
    "        scores_hist.append(scores.copy())\n",
    "        \n",
    "        if iter_ % log_interval == 0:\n",
    "            print(f\"Iteration {iter_}, #feasible: {to_take_f}, #infeasible: {to_take_inf}, scores: {scores.min(0)} {scores.mean(0)} {scores.max(0)}\")\n",
    "    print(f\"Iteration {iter_}, #feasible: {to_take_f}, #infeasible: {to_take_inf}, scores: {scores.min(0)} {scores.mean(0)} {scores.max(0)}\")\n",
    "    return np.stack(populations, 0), np.stack(scores_hist, 0)"
   ]
  },
  {
   "cell_type": "code",
   "execution_count": 30,
   "metadata": {},
   "outputs": [],
   "source": [
    "def g1_objective(x):\n",
    "    c = np.stack([\n",
    "        # objective\n",
    "        5 * x[:, :4].sum(1) - 5 * (x[:, :4]**2).sum(1) - x[:, 4:].sum(1),\n",
    "        # constraints\n",
    "        2*x[:, 0] + 2*x[:, 1] + x[:, 9] + x[:, 10] - 10.,\n",
    "        2*x[:, 0] + 2*x[:, 2] + x[:, 9] + x[:, 11] - 10.,\n",
    "        2*x[:, 1] + 2*x[:, 2] + x[:, 10] + x[:, 11] - 10.,\n",
    "        -8*x[:, 0] + x[:, 9],\n",
    "        -8*x[:, 1] + x[:, 10],\n",
    "        -8*x[:, 2] + x[:, 11],\n",
    "        -2*x[:, 3] - x[:, 4] + x[:, 9],\n",
    "        -2*x[:, 5] - x[:, 6] + x[:, 10],\n",
    "        -2*x[:, 7] - x[:, 8] + x[:, 11],\n",
    "    ], 1)\n",
    "    c[:, 1:] = np.maximum(c[:, 1:], 0.)\n",
    "    return c\n",
    "    \n",
    "\n",
    "def g6_objective(x):\n",
    "    c = np.stack([\n",
    "        # objective\n",
    "        (x[:, 0] - 10.)**3 + (x[:, 1] - 20.)**3,\n",
    "        # constraints\n",
    "        -(x[:, 0] - 5)**2 - (x[:, 1]-5)**2 + 100,\n",
    "        (x[:, 0] - 6)**2 + (x[:, 1]-5)**2 - 82.81,\n",
    "    ], 1)\n",
    "    c[:, 1:] = np.maximum(c[:, 1:], 0.)\n",
    "    return c\n",
    "\n",
    "\n",
    "def g2_objective(x):\n",
    "    n, d = x.shape\n",
    "    c = np.cos(x)\n",
    "    r = np.stack([\n",
    "        # objective\n",
    "        -np.abs(((c**4).sum(1) - 2*(c**2).prod(1)) / np.sqrt((np.arange(d) * x**2).sum(1))),\n",
    "        # constraints\n",
    "        0.75 - x.prod(1),\n",
    "        x.sum(1) - 7.5*d\n",
    "    ], 1)\n",
    "    r[:, 1:] = np.maximum(r[:, 1:], 0.)\n",
    "    return r"
   ]
  },
  {
   "cell_type": "code",
   "execution_count": 25,
   "metadata": {},
   "outputs": [
    {
     "name": "stdout",
     "output_type": "stream",
     "text": [
      "Iteration 0, #feasible: 0, #infeasible: 200, scores: [-3.41338854e+03  1.00000000e+00] [1.29683721e+05 5.09550000e+01] [7.11398873e+05 1.54000000e+02]\n",
      "Iteration 100, #feasible: 160, #infeasible: 40, scores: [-7973.     0.] [-6.99740252e+03  3.73000000e+00] [-990.13120101   37.        ]\n",
      "Iteration 200, #feasible: 160, #infeasible: 40, scores: [-7973.     0.] [-7.11881067e+03  5.20000000e+00] [-6820.64224919    42.        ]\n",
      "Iteration 300, #feasible: 160, #infeasible: 40, scores: [-7973.     0.] [-7.03523124e+03  3.84500000e+00] [-1409.40217897    39.        ]\n",
      "Iteration 400, #feasible: 160, #infeasible: 40, scores: [-7973.     0.] [-7.1605726e+03  5.1350000e+00] [-6957.44719925    39.        ]\n",
      "Iteration 500, #feasible: 160, #infeasible: 40, scores: [-7973.     0.] [-7.05796952e+03  5.30500000e+00] [-4814.44555977    40.        ]\n",
      "Iteration 600, #feasible: 160, #infeasible: 40, scores: [-7973.     0.] [-7.02706373e+03  4.51500000e+00] [245.8657743  40.       ]\n",
      "Iteration 700, #feasible: 160, #infeasible: 40, scores: [-7973.     0.] [-7.1207371e+03  5.4450000e+00] [-5723.31241273    42.        ]\n",
      "Iteration 800, #feasible: 160, #infeasible: 40, scores: [-7973.     0.] [-7.09337845e+03  4.36000000e+00] [-30.86744116  41.        ]\n",
      "Iteration 900, #feasible: 160, #infeasible: 40, scores: [-7973.     0.] [-7.05089665e+03  4.63000000e+00] [-2919.97935012    41.        ]\n",
      "Iteration 1000, #feasible: 160, #infeasible: 40, scores: [-7973.     0.] [-7.04016741e+03  4.06500000e+00] [-2850.32988858    41.        ]\n",
      "Iteration 1100, #feasible: 160, #infeasible: 40, scores: [-7973.     0.] [-7.07148595e+03  4.39500000e+00] [-2937.43334996    41.        ]\n",
      "Iteration 1200, #feasible: 160, #infeasible: 40, scores: [-7973.     0.] [-7.08246909e+03  5.02500000e+00] [-2673.16753508    40.        ]\n",
      "Iteration 1300, #feasible: 160, #infeasible: 40, scores: [-7973.     0.] [-7.16333808e+03  5.77500000e+00] [-6961.64301573    35.        ]\n",
      "Iteration 1400, #feasible: 160, #infeasible: 40, scores: [-7973.     0.] [-7.16392446e+03  6.22000000e+00] [-6961.65182059    43.        ]\n",
      "Iteration 1500, #feasible: 160, #infeasible: 40, scores: [-7973.     0.] [-7.07243517e+03  4.50000000e+00] [99.32187339 42.        ]\n",
      "Iteration 1600, #feasible: 160, #infeasible: 40, scores: [-7973.     0.] [-7.06656932e+03  4.69000000e+00] [-2119.08112251    42.        ]\n",
      "Iteration 1700, #feasible: 160, #infeasible: 40, scores: [-7973.     0.] [-7.1639493e+03  5.6200000e+00] [-6961.68640184    43.        ]\n",
      "Iteration 1749, #feasible: 160, #infeasible: 40, scores: [-7973.     0.] [-7.07207423e+03  4.80000000e+00] [1402.44878698   43.        ]\n"
     ]
    }
   ],
   "source": [
    "objective = g6_objective\n",
    "n_constraints = 2\n",
    "\n",
    "x_min = np.array([13., 0.])\n",
    "x_max = 100.\n",
    "d = 2\n",
    "n = 200\n",
    "n_inf = int(0.2*n)\n",
    "eta_c = 15.\n",
    "eta_m = 20.\n",
    "p_c = 0.8\n",
    "p_m = 0.1\n",
    "num_iterations = 1750\n",
    "\n",
    "populations, scores = IDEA(objective, n_constraints, x_min, x_max, d, n, n_inf, eta_c, eta_m, p_c, p_m, num_iterations, log_interval=100)"
   ]
  },
  {
   "cell_type": "code",
   "execution_count": 26,
   "metadata": {},
   "outputs": [
    {
     "data": {
      "text/plain": [
       "-6961.687051583694"
      ]
     },
     "execution_count": 26,
     "metadata": {},
     "output_type": "execute_result"
    }
   ],
   "source": [
    "scores[-1, scores[-1, :, 1] == 0., 0].min()"
   ]
  },
  {
   "cell_type": "code",
   "execution_count": 27,
   "metadata": {},
   "outputs": [
    {
     "name": "stdout",
     "output_type": "stream",
     "text": [
      "Iteration 0, #feasible: 0, #infeasible: 600, scores: [-276.46475371  111.        ] [-152.16365149 2277.74666667] [ -16.20226566 4944.        ]\n",
      "Iteration 100, #feasible: 480, #infeasible: 120, scores: [-300.71570915    0.        ] [-33.773287   215.86833333] [3.0466555e+00 4.1240000e+03]\n",
      "Iteration 200, #feasible: 480, #infeasible: 120, scores: [-300.49136323    0.        ] [-32.03441701 193.235     ] [3.3991573e+00 4.1240000e+03]\n",
      "Iteration 300, #feasible: 480, #infeasible: 120, scores: [-301.1465693    0.       ] [-23.07003418 127.59833333] [3.41675105e+00 4.12400000e+03]\n",
      "Iteration 400, #feasible: 480, #infeasible: 120, scores: [-293.13726401    0.        ] [-14.15785696  82.74      ] [   4.14342603 1110.        ]\n",
      "Iteration 500, #feasible: 480, #infeasible: 120, scores: [-301.26332154    0.        ] [-26.15875237 120.205     ] [   4.63830932 1471.        ]\n",
      "Iteration 600, #feasible: 480, #infeasible: 120, scores: [-300.07224632    0.        ] [-17.32567651  75.73      ] [   4.8223892 1523.       ]\n",
      "Iteration 700, #feasible: 480, #infeasible: 120, scores: [-300.07224632    0.        ] [-18.25897483  90.285     ] [   4.48558436 1523.        ]\n",
      "Iteration 800, #feasible: 480, #infeasible: 120, scores: [-301.9557855    0.       ] [-31.71667354 155.09      ] [   4.75894507 1523.        ]\n",
      "Iteration 900, #feasible: 480, #infeasible: 120, scores: [-301.44169424    0.        ] [-29.8174151 137.83     ] [   4.7891691 1523.       ]\n",
      "Iteration 1000, #feasible: 480, #infeasible: 120, scores: [-300.39987585    0.        ] [-26.96719909 104.08166667] [   4.34341083 1557.        ]\n",
      "Iteration 1100, #feasible: 480, #infeasible: 120, scores: [-300.67128357    0.        ] [-34.25318769 162.56666667] [   4.34960799 1586.        ]\n",
      "Iteration 1200, #feasible: 480, #infeasible: 120, scores: [-301.40937639    0.        ] [-30.99873488 151.17333333] [   4.69737896 1591.        ]\n",
      "Iteration 1300, #feasible: 480, #infeasible: 120, scores: [-300.45274693    0.        ] [-30.55869316 144.64666667] [   4.80860828 1653.        ]\n",
      "Iteration 1400, #feasible: 480, #infeasible: 120, scores: [-299.44375295    0.        ] [-26.52555799 118.915     ] [   4.81538934 1653.        ]\n",
      "Iteration 1500, #feasible: 480, #infeasible: 120, scores: [-299.19327419    0.        ] [-36.04890403 160.87333333] [   4.4429857 1653.       ]\n",
      "Iteration 1600, #feasible: 480, #infeasible: 120, scores: [-299.23091743    0.        ] [-19.64364441  86.57      ] [   4.39382162 1506.        ]\n",
      "Iteration 1700, #feasible: 480, #infeasible: 120, scores: [-299.40075919    0.        ] [-33.7696051  153.37666667] [   4.69587419 1518.        ]\n",
      "Iteration 1749, #feasible: 480, #infeasible: 120, scores: [-299.35557546    0.        ] [-20.0988494   87.95333333] [   4.68629273 1572.        ]\n"
     ]
    }
   ],
   "source": [
    "objective = g1_objective\n",
    "n_constraints = 9\n",
    "\n",
    "x_min = 0.\n",
    "x_max = np.ones(13)\n",
    "x_max[9:12] = 100.\n",
    "d = 13\n",
    "n = 600\n",
    "n_inf = int(0.2*n)\n",
    "eta_c = 5.\n",
    "eta_m = 20.\n",
    "p_c = 0.9\n",
    "p_m = 0.1\n",
    "num_iterations = 1750\n",
    "\n",
    "populations, scores = IDEA(objective, n_constraints, x_min, x_max, d, n, n_inf, eta_c, eta_m, p_c, p_m, num_iterations, log_interval=100)"
   ]
  },
  {
   "cell_type": "code",
   "execution_count": 28,
   "metadata": {},
   "outputs": [
    {
     "data": {
      "text/plain": [
       "-7.973440774316874"
      ]
     },
     "execution_count": 28,
     "metadata": {},
     "output_type": "execute_result"
    }
   ],
   "source": [
    "scores[-1, scores[-1, :, 1] == 0., 0].min()"
   ]
  },
  {
   "cell_type": "code",
   "execution_count": 31,
   "metadata": {},
   "outputs": [
    {
     "name": "stderr",
     "output_type": "stream",
     "text": [
      "/home/i291318/miniconda3/lib/python3.7/site-packages/ipykernel_launcher.py:28: RuntimeWarning: invalid value encountered in true_divide\n",
      "/home/i291318/miniconda3/lib/python3.7/site-packages/ipykernel_launcher.py:38: RuntimeWarning: invalid value encountered in greater\n"
     ]
    },
    {
     "name": "stdout",
     "output_type": "stream",
     "text": [
      "Iteration 0, #feasible: 396, #infeasible: 4, scores: [-0.21426255  0.        ] [-0.10794033  0.015     ] [-0.0394651  2.       ]\n",
      "Iteration 100, #feasible: 320, #infeasible: 80, scores: [-0.38791929  0.        ] [-0.16865374 10.9625    ] [-4.90829889e-03  1.07000000e+02]\n",
      "Iteration 200, #feasible: 320, #infeasible: 80, scores: [-0.47836362  0.        ] [-0.2085008 11.7625   ] [-3.08070701e-03  1.10000000e+02]\n",
      "Iteration 300, #feasible: 320, #infeasible: 80, scores: [-0.56055817  0.        ] [-0.23875132 11.82      ] [-2.45502702e-03  1.10000000e+02]\n",
      "Iteration 400, #feasible: 320, #infeasible: 80, scores: [-0.71007635  0.        ] [-0.24891758 11.62      ] [-1.91831451e-03  1.10000000e+02]\n",
      "Iteration 500, #feasible: 320, #infeasible: 80, scores: [-1.03265005  0.        ] [-0.29203451 12.5175    ] [-1.3264931e-03  1.1000000e+02]\n",
      "Iteration 600, #feasible: 320, #infeasible: 80, scores: [-4.87221115  0.        ] [-0.62085383 11.4025    ] [-1.29697338e-03  1.10000000e+02]\n",
      "Iteration 700, #feasible: 320, #infeasible: 80, scores: [-8.31178948  0.        ] [-0.77997027  9.97      ] [-7.00014389e-03  1.10000000e+02]\n",
      "Iteration 800, #feasible: 320, #infeasible: 80, scores: [-10.20572117   0.        ] [-0.95942112  9.4125    ] [-1.62205178e-02  1.10000000e+02]\n",
      "Iteration 900, #feasible: 320, #infeasible: 80, scores: [-11.62855014   0.        ] [-0.65176249  9.255     ] [-1.1772688e-02  1.1000000e+02]\n",
      "Iteration 1000, #feasible: 320, #infeasible: 80, scores: [-8.40000738  0.        ] [-0.7696296  8.9725   ] [-1.1772688e-02  1.1000000e+02]\n",
      "Iteration 1100, #feasible: 320, #infeasible: 80, scores: [-8.37009518  0.        ] [-0.99871558  9.295     ] [-8.61666485e-03  1.10000000e+02]\n",
      "Iteration 1200, #feasible: 320, #infeasible: 80, scores: [-4.99325205  0.        ] [-0.76713051  9.5975    ] [-9.37375801e-03  9.30000000e+01]\n",
      "Iteration 1300, #feasible: 320, #infeasible: 80, scores: [-10.75432474   0.        ] [-0.91371155  9.21      ] [-1.2049906e-02  9.3000000e+01]\n",
      "Iteration 1400, #feasible: 320, #infeasible: 80, scores: [-10.29636131   0.        ] [-0.75009378  7.2375    ] [-3.32130766e-02  9.30000000e+01]\n",
      "Iteration 1500, #feasible: 320, #infeasible: 80, scores: [-7.36165395  0.        ] [-0.60303627  8.655     ] [-1.90346092e-02  9.30000000e+01]\n",
      "Iteration 1600, #feasible: 320, #infeasible: 80, scores: [-10.75343839   0.        ] [-1.05339007  8.6525    ] [-9.85952999e-03  9.30000000e+01]\n",
      "Iteration 1700, #feasible: 320, #infeasible: 80, scores: [-11.10376005   0.        ] [-0.98454256 10.335     ] [-2.27958539e-02  9.30000000e+01]\n",
      "Iteration 1749, #feasible: 320, #infeasible: 80, scores: [-13.31619115   0.        ] [-1.24521981  8.5575    ] [-2.24964056e-02  9.30000000e+01]\n"
     ]
    }
   ],
   "source": [
    "objective = g2_objective\n",
    "n_constraints = 2\n",
    "\n",
    "x_min = 1e-4\n",
    "x_max = 10.\n",
    "d = 20\n",
    "n = 400\n",
    "n_inf = int(0.2*n)\n",
    "eta_c = 4.\n",
    "eta_m = 20.\n",
    "p_c = 0.8\n",
    "p_m = 0.1\n",
    "num_iterations = 1750\n",
    "\n",
    "populations, scores = IDEA(objective, n_constraints, x_min, x_max, d, n, n_inf, eta_c, eta_m, p_c, p_m, num_iterations, log_interval=100)"
   ]
  },
  {
   "cell_type": "code",
   "execution_count": 32,
   "metadata": {},
   "outputs": [
    {
     "data": {
      "text/plain": [
       "-0.7765625669776021"
      ]
     },
     "execution_count": 32,
     "metadata": {},
     "output_type": "execute_result"
    }
   ],
   "source": [
    "scores[-1, scores[-1, :, 1] == 0., 0].min()"
   ]
  },
  {
   "cell_type": "markdown",
   "metadata": {},
   "source": [
    "Sanity check"
   ]
  },
  {
   "cell_type": "code",
   "execution_count": 33,
   "metadata": {},
   "outputs": [
    {
     "data": {
      "text/plain": [
       "312"
      ]
     },
     "execution_count": 33,
     "metadata": {},
     "output_type": "execute_result"
    }
   ],
   "source": [
    "i = scores[-1, scores[-1, :, 1] == 0., 0].argmin()\n",
    "i"
   ]
  },
  {
   "cell_type": "code",
   "execution_count": 34,
   "metadata": {},
   "outputs": [],
   "source": [
    "x = populations[-1][scores[-1, :, 1] == 0., :][[i], :]"
   ]
  },
  {
   "cell_type": "code",
   "execution_count": 35,
   "metadata": {},
   "outputs": [
    {
     "data": {
      "text/plain": [
       "array([[-0.77656257,  0.        ,  0.        ]])"
      ]
     },
     "execution_count": 35,
     "metadata": {},
     "output_type": "execute_result"
    }
   ],
   "source": [
    "objective(x)"
   ]
  },
  {
   "cell_type": "code",
   "execution_count": null,
   "metadata": {},
   "outputs": [],
   "source": []
  }
 ],
 "metadata": {
  "kernelspec": {
   "display_name": "Python 3",
   "language": "python",
   "name": "python3"
  },
  "language_info": {
   "codemirror_mode": {
    "name": "ipython",
    "version": 3
   },
   "file_extension": ".py",
   "mimetype": "text/x-python",
   "name": "python",
   "nbconvert_exporter": "python",
   "pygments_lexer": "ipython3",
   "version": "3.7.6"
  }
 },
 "nbformat": 4,
 "nbformat_minor": 4
}
