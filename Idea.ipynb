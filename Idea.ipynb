{
 "cells": [
  {
   "cell_type": "code",
   "execution_count": 1,
   "metadata": {},
   "outputs": [],
   "source": [
    "import numpy as np\n",
    "import matplotlib.pyplot as plt"
   ]
  },
  {
   "cell_type": "code",
   "execution_count": 2,
   "metadata": {},
   "outputs": [],
   "source": [
    "def FNS(scores):\n",
    "    domination = (scores[:, None, :] <= scores[None, :, :]).all(2) # domination [i, j] = \"i dominuje j\"\n",
    "    domination &= ~(scores[:, None, :] == scores[None, :, :]).all(2)\n",
    "    Nx = domination.sum(0)\n",
    "    \n",
    "    Pf = []\n",
    "    ranks = np.zeros(scores.shape[0])\n",
    "    r = 0\n",
    "    Q = np.argwhere(Nx == 0)\n",
    "    while Q.size > 0:\n",
    "        Q = Q[:, 0]\n",
    "        Nx[Q] = -1\n",
    "        Pf.append(Q)\n",
    "        ranks[Q] = r\n",
    "        r += 1\n",
    "        for i in Q:\n",
    "            Nx[domination[i, :]] -= 1\n",
    "        Q = np.argwhere(Nx == 0)\n",
    "        \n",
    "    return Pf, ranks\n",
    "\n",
    "def crowding_distance(scores):\n",
    "    indices = np.argsort(scores, 0)\n",
    "    sorted_scores = np.take_along_axis(scores, indices, 0)\n",
    "    cd = np.zeros(scores.shape[0])\n",
    "    for k in range(scores.shape[1]):\n",
    "        cd[indices[[0, -1], k]] = np.inf\n",
    "        cd[indices[1:-1, k]] += (sorted_scores[2:, k] - sorted_scores[:-2, k]) / (sorted_scores[-1, k] - sorted_scores[0, k])\n",
    "    return cd\n",
    "\n",
    "def random_population(d, n, x_min, x_max):\n",
    "    return np.hstack([np.random.uniform(x_min, x_max, (n, d))])\n",
    "\n",
    "def tournament_selection(ranks, dists, n):\n",
    "    candidates = np.random.choice(n, (n, 2), replace=True)\n",
    "    mask = np.where(\n",
    "        ranks[candidates[:, 0]] == ranks[candidates[:, 1]],\n",
    "        dists[candidates[:, 0]] > dists[candidates[:, 1]],\n",
    "        ranks[candidates[:, 0]] < ranks[candidates[:, 1]]\n",
    "    )\n",
    "    result = candidates[:, 1]\n",
    "    result[mask] = candidates[mask, 0]\n",
    "    return result\n",
    "\n",
    "def crossover(x, p, eta): # simulated binary crossover\n",
    "    n, d = x.shape\n",
    "    l = n // 2\n",
    "    mask = np.random.random(l) <= p\n",
    "    m = np.sum(mask)\n",
    "    mi = np.random.random((m, d))\n",
    "    beta = np.where(\n",
    "        mi < 0.5,\n",
    "        np.power(2*mi, 1. / (eta+1.)),\n",
    "        np.power(1. / (2.*(1-mi)), 1. / (eta+1.))\n",
    "    )\n",
    "    c1 = x[:l, :].copy()\n",
    "    c2 = x[l:, :].copy()\n",
    "    c1[mask, :] = 0.5 * (1 + beta) * x[:l, :][mask, :] + 0.5 * (1 - beta) * x[l:, :][mask, :]\n",
    "    c2[mask, :] = 0.5 * (1 + beta) * x[:l, :][mask, :] + 0.5 * (1 - beta) * x[l:, :][mask, :]\n",
    "    return np.vstack([c1, c2])\n",
    "\n",
    "def mutation(x, x_min, x_max, p, eta): # polynomial mutation\n",
    "    n, d = x.shape\n",
    "    mask = np.random.random(x.shape[0]) <= p\n",
    "    m = np.sum(mask)\n",
    "    mi = np.random.random((m, d))\n",
    "    beta = np.where(\n",
    "        mi < 0.5,\n",
    "        np.power(2*mi, 1. / (eta+1.)) - 1.,\n",
    "        1. - np.power(2.*(1-mi), 1. / (eta+1.))\n",
    "    )\n",
    "    y = x.copy()\n",
    "    y[mask, :] = np.where(\n",
    "        mi < 0.5,\n",
    "        x[mask, :] + beta * (x[mask, :] - x_min),\n",
    "        x[mask, :] + beta * (x_max - x[mask, :])\n",
    "    )\n",
    "    return y\n",
    "\n",
    "def elitist_selection(fronts, dists, to_take):\n",
    "    taken = []\n",
    "    for front in fronts:\n",
    "        if len(front) <= to_take:\n",
    "            taken += list(front)\n",
    "            if len(front) == to_take:\n",
    "                break\n",
    "            to_take -= len(front)\n",
    "        else:\n",
    "            indices = np.argsort(-dists[front])[:to_take]\n",
    "            taken += list(indices)\n",
    "            break\n",
    "    return taken\n",
    "\n",
    "def constraint_violation(constraints):\n",
    "    n, d = constraints.shape\n",
    "    sort_indices = np.argsort(constraints, 0)\n",
    "    violations = np.zeros(n)\n",
    "    for i in range(d):\n",
    "        values, counts = np.unique(constraints[:, i], return_counts=True) # unikalne wartości są zwracane posortowane\n",
    "        counts = np.cumsum(counts)\n",
    "        counts = list(counts)\n",
    "        if values[0] != 0:\n",
    "            counts = [0] + counts\n",
    "        for rank, (j, k) in enumerate(zip([0] + counts, counts + [len(counts)])):\n",
    "            violations[sort_indices[j:k, i]] += rank\n",
    "    return violations\n",
    "        \n",
    "\n",
    "def IDEA(objective, constraint, x_min, x_max, d, n, n_inf, eta_c, eta_m, p_c, p_m, num_iterations, log_interval=10): # TODO\n",
    "    n_f = n - n_inf\n",
    "    population = random_population(d, n, x_min, x_max)\n",
    "    populations = [population.copy()]\n",
    "    constraint_values = constraint(population)\n",
    "    violation_measure = constraint_violation(constraint_values)\n",
    "    scores = np.stack([objective(population), violation_measure], 1)\n",
    "    scores_hist = [scores.copy()]\n",
    "\n",
    "    fronts, ranks = FNS(scores)\n",
    "    dists = crowding_distance(scores)\n",
    "    \n",
    "    for iter_ in range(num_iterations):\n",
    "        parent_indices = tournament_selection(ranks, dists, n)\n",
    "        offspring = crossover(population[parent_indices, :], p_c, eta_c)\n",
    "        offspring = np.clip(offspring, x_min, x_max)\n",
    "        offspring = mutation(offspring, x_min, x_max, p_m, eta_m)\n",
    "        population = np.vstack([population, offspring])\n",
    "        \n",
    "        constraint_values = constraint(population)\n",
    "        violation_measure = constraint_violation(constraint_values)\n",
    "        scores = np.stack([objective(population), violation_measure], 1)\n",
    "        dists = crowding_distance(scores)\n",
    "        mask_f = scores[:, -1] == 0\n",
    "        mask_inf = ~mask_f\n",
    "        s_f = np.sum(mask_f)\n",
    "        s_inf = np.sum(mask_inf)\n",
    "        if s_f < n_f:\n",
    "            to_take_f = s_f\n",
    "            to_take_inf = n - s_f\n",
    "        elif s_inf < n_inf:\n",
    "            to_take_inf = s_inf\n",
    "            to_take_f = n - s_inf\n",
    "        else:\n",
    "            to_take_f = n_f\n",
    "            to_take_inf = n_inf\n",
    "            \n",
    "        population_f = population[mask_f]\n",
    "        fronts, ranks = FNS(population_f)\n",
    "        taken_f = elitist_selection(fronts, dists[mask_f], to_take_f)\n",
    "        population_inf = population[mask_inf]\n",
    "        fronts, ranks = FNS(population_inf)\n",
    "        taken_inf = elitist_selection(fronts, dists[mask_inf], to_take_inf)\n",
    "        \n",
    "        population = np.vstack([population_f[taken_f, :], population_inf[taken_inf, :]])\n",
    "        scores = np.vstack([scores[mask_f, :][taken_f, :], scores[mask_inf, :][taken_inf, :]])\n",
    "        dists = np.hstack([dists[mask_f][taken_f], dists[mask_inf][taken_inf]])\n",
    "        fronts, ranks = FNS(population)\n",
    "        \n",
    "        populations.append(population.copy())\n",
    "        scores_hist.append(scores.copy())\n",
    "        \n",
    "        if iter_ % log_interval == 0:\n",
    "            print(f\"Iteration {iter_}, #feasible: {to_take_f}, #infeasible: {to_take_inf}, scores: {scores.min(0)} {scores.mean(0)} {scores.max(0)}\")\n",
    "    print(f\"Iteration {iter_}, #feasible: {to_take_f}, #infeasible: {to_take_inf}, scores: {scores.min(0)} {scores.mean(0)} {scores.max(0)}\")\n",
    "    return np.stack(populations, 0), np.stack(scores_hist, 0)"
   ]
  },
  {
   "cell_type": "code",
   "execution_count": 3,
   "metadata": {},
   "outputs": [],
   "source": [
    "def g1_objective(x):\n",
    "    return 5 * x[:, :4].sum(1) - 5 * (x[:, :4]**2).sum(1) - x[:, 4:].sum(1)\n",
    "\n",
    "def g1_constraints(x):\n",
    "    c = np.stack([\n",
    "        2*x[:, 0] + 2*x[:, 1] + x[:, 9] + x[:, 10] - 10.,\n",
    "        2*x[:, 0] + 2*x[:, 2] + x[:, 9] + x[:, 11] - 10.,\n",
    "        2*x[:, 1] + 2*x[:, 2] + x[:, 10] + x[:, 11] - 10.,\n",
    "        -8*x[:, 0] + x[:, 9],\n",
    "        -8*x[:, 1] + x[:, 10],\n",
    "        -8*x[:, 2] + x[:, 11],\n",
    "        -2*x[:, 3] - x[:, 4] + x[:, 9],\n",
    "        -2*x[:, 5] - x[:, 6] + x[:, 10],\n",
    "        -2*x[:, 7] - x[:, 8] + x[:, 11],\n",
    "    ], 1)\n",
    "    c = np.maximum(c, 0.)\n",
    "    return c\n",
    "    \n",
    "def g6_objective(x):\n",
    "    return (x[:, 0] - 10.)**3 + (x[:, 1] - 20.)**3\n",
    "\n",
    "def g6_constraints(x):\n",
    "    c = np.stack([\n",
    "        -(x[:, 0] - 5)**2 - (x[:, 1]-5)**2 + 100,\n",
    "        (x[:, 0] - 6)**2 + (x[:, 1]-5)**2 - 82.81,\n",
    "    ], 1)\n",
    "    c = np.maximum(c, 0.)\n",
    "    return c\n",
    "\n",
    "def g2_objective(x):\n",
    "    n, d = x.shape\n",
    "    c = np.cos(x)\n",
    "    return -np.abs(((c**4).sum(1) - 2*(c**2).prod(1)) / np.sqrt((np.arange(d) * x**2).sum(1)))\n",
    "\n",
    "def g2_constraints(x):\n",
    "    n, d = x.shape\n",
    "    c = np.stack([\n",
    "        0.75 - x.prod(1),\n",
    "        x.sum(1) - 7.5*d\n",
    "    ], 1)\n",
    "    c = np.maximum(c, 0.)\n",
    "    return c"
   ]
  },
  {
   "cell_type": "code",
   "execution_count": 4,
   "metadata": {},
   "outputs": [
    {
     "name": "stdout",
     "output_type": "stream",
     "text": [
      "Iteration 0, #feasible: 0, #infeasible: 200, scores: [-2.78476596e+03  1.00000000e+00] [1.01568764e+05 8.80050000e+01] [6.39639591e+05 2.43000000e+02]\n",
      "Iteration 100, #feasible: 160, #infeasible: 40, scores: [-7973.     0.] [-7.02605701e+03  5.79500000e+00] [-5329.96129704    45.        ]\n",
      "Iteration 200, #feasible: 160, #infeasible: 40, scores: [-7973.     0.] [-7.15821019e+03  6.74500000e+00] [-6954.74480093    37.        ]\n",
      "Iteration 300, #feasible: 160, #infeasible: 40, scores: [-7973.     0.] [-7.14503656e+03  6.18000000e+00] [-6720.91111248    39.        ]\n",
      "Iteration 400, #feasible: 160, #infeasible: 40, scores: [-7973.     0.] [-7128.70907026     7.175     ] [-1556.4540222    41.       ]\n",
      "Iteration 500, #feasible: 160, #infeasible: 40, scores: [-7973.     0.] [-7.16176256e+03  6.01500000e+00] [-6958.96736299    33.        ]\n",
      "Iteration 600, #feasible: 160, #infeasible: 40, scores: [-7973.     0.] [-7110.00660724     7.86      ] [2575.09143837   41.        ]\n",
      "Iteration 700, #feasible: 160, #infeasible: 40, scores: [-7973.     0.] [-7.05762225e+03  3.84000000e+00] [664.98056315  32.        ]\n",
      "Iteration 800, #feasible: 160, #infeasible: 40, scores: [-7973.     0.] [-7129.59878924     7.4       ] [-2197.83647768    38.        ]\n",
      "Iteration 900, #feasible: 160, #infeasible: 40, scores: [-7973.     0.] [-7.1334122e+03  6.0650000e+00] [-6931.22902998    43.        ]\n",
      "Iteration 1000, #feasible: 160, #infeasible: 40, scores: [-7973.     0.] [-7.1362599e+03  5.3500000e+00] [-5712.81860928    37.        ]\n",
      "Iteration 1100, #feasible: 160, #infeasible: 40, scores: [-7973.     0.] [-7163.66934694     9.285     ] [-6961.35698963    49.        ]\n",
      "Iteration 1200, #feasible: 160, #infeasible: 40, scores: [-7973.     0.] [-7.10662408e+03  6.23000000e+00] [-3688.97147768    50.        ]\n",
      "Iteration 1300, #feasible: 160, #infeasible: 40, scores: [-7973.     0.] [-7154.09113809     7.535     ] [-6961.52697801    45.        ]\n",
      "Iteration 1400, #feasible: 160, #infeasible: 40, scores: [-7973.     0.] [-7.09669436e+03  4.47500000e+00] [-3383.93504591    35.        ]\n",
      "Iteration 1500, #feasible: 160, #infeasible: 40, scores: [-7973.     0.] [-7158.95900378     8.995     ] [-6961.55323284    49.        ]\n",
      "Iteration 1600, #feasible: 160, #infeasible: 40, scores: [-7973.     0.] [-7158.73781522     8.89      ] [-6961.6526564    52.       ]\n",
      "Iteration 1700, #feasible: 160, #infeasible: 40, scores: [-7973.     0.] [-7.16393269e+03  6.80000000e+00] [-6961.66051834    34.        ]\n",
      "Iteration 1749, #feasible: 160, #infeasible: 40, scores: [-7973.     0.] [-7.05093381e+03  4.77000000e+00] [-610.54230595   36.        ]\n"
     ]
    }
   ],
   "source": [
    "objective = g6_objective\n",
    "constraint = g6_constraints\n",
    "\n",
    "x_min = np.array([13., 0.])\n",
    "x_max = 100.\n",
    "d = 2\n",
    "n = 200\n",
    "n_inf = int(0.2*n)\n",
    "eta_c = 15.\n",
    "eta_m = 20.\n",
    "p_c = 0.8\n",
    "p_m = 0.1\n",
    "num_iterations = 1750\n",
    "\n",
    "populations, scores = IDEA(objective, constraint, x_min, x_max, d, n, n_inf, eta_c, eta_m, p_c, p_m, num_iterations, log_interval=100)"
   ]
  },
  {
   "cell_type": "code",
   "execution_count": 5,
   "metadata": {},
   "outputs": [
    {
     "data": {
      "text/plain": [
       "-6961.768885992396"
      ]
     },
     "execution_count": 5,
     "metadata": {},
     "output_type": "execute_result"
    }
   ],
   "source": [
    "scores[-1, scores[-1, :, 1] == 0., 0].min()"
   ]
  },
  {
   "cell_type": "code",
   "execution_count": 38,
   "metadata": {},
   "outputs": [
    {
     "name": "stdout",
     "output_type": "stream",
     "text": [
      "Iteration 0, #feasible: 0, #infeasible: 600, scores: [-274.88499417  211.        ] [-153.10168143 4053.45833333] [ -16.98933317 7761.        ]\n",
      "Iteration 100, #feasible: 480, #infeasible: 120, scores: [-301.42290583    0.        ] [-32.53779588 184.18      ] [   1.77922735 1636.        ]\n",
      "Iteration 200, #feasible: 480, #infeasible: 120, scores: [-302.14942405    0.        ] [-29.74255342 208.90333333] [   2.64338564 2194.        ]\n",
      "Iteration 300, #feasible: 480, #infeasible: 120, scores: [-301.83174559    0.        ] [-29.31579814 213.63333333] [   3.55497557 2147.        ]\n",
      "Iteration 400, #feasible: 480, #infeasible: 120, scores: [-278.1754687    0.       ] [-14.59004985 102.44166667] [   3.97574734 1466.        ]\n",
      "Iteration 500, #feasible: 480, #infeasible: 120, scores: [-301.17365029    0.        ] [-33.72993713 222.845     ] [   3.67831442 1895.        ]\n",
      "Iteration 600, #feasible: 480, #infeasible: 120, scores: [-301.10332909    0.        ] [-25.20597091 148.68      ] [   4.51798821 1836.        ]\n",
      "Iteration 700, #feasible: 480, #infeasible: 120, scores: [-292.74896744    0.        ] [-14.47541789 113.72666667] [   4.78979547 1540.        ]\n",
      "Iteration 800, #feasible: 480, #infeasible: 120, scores: [-298.73422279    0.        ] [-25.97348376 187.44666667] [   4.51019597 1890.        ]\n",
      "Iteration 900, #feasible: 480, #infeasible: 120, scores: [-300.5762457    0.       ] [-29.83607188 207.8       ] [   4.62766542 2026.        ]\n",
      "Iteration 1000, #feasible: 480, #infeasible: 120, scores: [-302.13976042    0.        ] [-31.18557214 228.19333333] [   4.434835 2304.      ]\n",
      "Iteration 1100, #feasible: 480, #infeasible: 120, scores: [-302.04496953    0.        ] [-14.10406763  80.10166667] [   4.16144459 1314.        ]\n",
      "Iteration 1200, #feasible: 480, #infeasible: 120, scores: [-299.32774617    0.        ] [-22.16773105 139.665     ] [   4.28260062 1740.        ]\n",
      "Iteration 1300, #feasible: 480, #infeasible: 120, scores: [-301.21141707    0.        ] [-28.33110099 188.695     ] [   4.45129757 2014.        ]\n",
      "Iteration 1400, #feasible: 480, #infeasible: 120, scores: [-300.76305038    0.        ] [-22.25179031 156.86166667] [   4.55922835 1855.        ]\n",
      "Iteration 1500, #feasible: 480, #infeasible: 120, scores: [-301.32675179    0.        ] [-17.65075724 131.02666667] [   4.80266772 1910.        ]\n",
      "Iteration 1600, #feasible: 480, #infeasible: 120, scores: [-300.75354924    0.        ] [-21.48190488 136.73833333] [   4.68963482 1926.        ]\n",
      "Iteration 1700, #feasible: 480, #infeasible: 120, scores: [-301.19765234    0.        ] [-23.41337495 167.37833333] [   4.554788 2016.      ]\n",
      "Iteration 1749, #feasible: 480, #infeasible: 120, scores: [-301.15784295    0.        ] [-33.16152176 244.665     ] [   4.55699859 2035.        ]\n"
     ]
    }
   ],
   "source": [
    "objective = g1_objective\n",
    "constraint = g1_constraints\n",
    "\n",
    "x_min = 0.\n",
    "x_max = np.ones(13)\n",
    "x_max[9:12] = 100.\n",
    "d = 13\n",
    "n = 600\n",
    "n_inf = int(0.2*n)\n",
    "eta_c = 5.\n",
    "eta_m = 20.\n",
    "p_c = 0.9\n",
    "p_m = 0.1\n",
    "num_iterations = 1750\n",
    "\n",
    "populations, scores = IDEA(objective, constraint, x_min, x_max, d, n, n_inf, eta_c, eta_m, p_c, p_m, num_iterations, log_interval=100)"
   ]
  },
  {
   "cell_type": "code",
   "execution_count": 39,
   "metadata": {},
   "outputs": [
    {
     "data": {
      "text/plain": [
       "-9.364978605154166"
      ]
     },
     "execution_count": 39,
     "metadata": {},
     "output_type": "execute_result"
    }
   ],
   "source": [
    "scores[-1, scores[-1, :, 1] == 0., 0].min()"
   ]
  },
  {
   "cell_type": "code",
   "execution_count": 15,
   "metadata": {},
   "outputs": [
    {
     "name": "stderr",
     "output_type": "stream",
     "text": [
      "/home/michal/miniconda3/envs/ML/lib/python3.7/site-packages/ipykernel_launcher.py:28: RuntimeWarning: invalid value encountered in true_divide\n",
      "/home/michal/miniconda3/envs/ML/lib/python3.7/site-packages/ipykernel_launcher.py:38: RuntimeWarning: invalid value encountered in greater\n"
     ]
    },
    {
     "name": "stdout",
     "output_type": "stream",
     "text": [
      "Iteration 0, #feasible: 398, #infeasible: 2, scores: [-0.18416778  0.        ] [-0.10829622  0.005     ] [-0.02686465  1.        ]\n",
      "Iteration 100, #feasible: 320, #infeasible: 80, scores: [-0.91365089  0.        ] [-0.29630432 18.4625    ] [-1.05678382e-02  1.57000000e+02]\n",
      "Iteration 200, #feasible: 320, #infeasible: 80, scores: [-1.35825251  0.        ] [-0.4126049 18.43     ] [-1.13762876e-02  1.50000000e+02]\n",
      "Iteration 300, #feasible: 320, #infeasible: 80, scores: [-1.76085768  0.        ] [-0.46486761 17.4525    ] [-1.46072993e-02  1.36000000e+02]\n",
      "Iteration 400, #feasible: 320, #infeasible: 80, scores: [-2.83827475  0.        ] [-0.47802227 13.2575    ] [-1.34125691e-02  1.12000000e+02]\n",
      "Iteration 500, #feasible: 320, #infeasible: 80, scores: [-3.46300986  0.        ] [-0.63222329 17.175     ] [-1.712499e-02  1.210000e+02]\n",
      "Iteration 600, #feasible: 320, #infeasible: 80, scores: [-7.95782454  0.        ] [-0.54593263 15.2175    ] [-1.11175145e-02  1.26000000e+02]\n",
      "Iteration 700, #feasible: 320, #infeasible: 80, scores: [-6.31898594  0.        ] [-0.63441214 14.3675    ] [-1.07198997e-02  1.15000000e+02]\n",
      "Iteration 800, #feasible: 320, #infeasible: 80, scores: [-4.51008465  0.        ] [-0.58423389 14.585     ] [-1.07786977e-02  1.02000000e+02]\n",
      "Iteration 900, #feasible: 320, #infeasible: 80, scores: [-5.40890183  0.        ] [-0.53916035 15.28      ] [-2.08997434e-02  1.22000000e+02]\n",
      "Iteration 1000, #feasible: 320, #infeasible: 80, scores: [-4.94546877  0.        ] [-0.62142388 13.435     ] [-2.17973501e-02  1.07000000e+02]\n",
      "Iteration 1100, #feasible: 320, #infeasible: 80, scores: [-4.54285477  0.        ] [-0.50252503 17.09      ] [-1.57195759e-02  1.38000000e+02]\n",
      "Iteration 1200, #feasible: 320, #infeasible: 80, scores: [-7.81235007  0.        ] [-0.74289374 13.8325    ] [-1.02866934e-02  1.06000000e+02]\n",
      "Iteration 1300, #feasible: 320, #infeasible: 80, scores: [-16.06933782   0.        ] [-0.9478152 14.355    ] [-2.1598676e-02  1.0300000e+02]\n",
      "Iteration 1400, #feasible: 320, #infeasible: 80, scores: [-16.48112027   0.        ] [-0.85137212 14.345     ] [-1.2869186e-02  1.0700000e+02]\n",
      "Iteration 1500, #feasible: 320, #infeasible: 80, scores: [-19.94839085   0.        ] [-0.97073208 14.71      ] [-1.06833474e-02  1.11000000e+02]\n",
      "Iteration 1600, #feasible: 320, #infeasible: 80, scores: [-16.97934932   0.        ] [-0.72605444 14.29      ] [-1.04832074e-02  1.15000000e+02]\n",
      "Iteration 1700, #feasible: 320, #infeasible: 80, scores: [-15.55951121   0.        ] [-0.87222873 15.5       ] [-9.83083036e-03  1.21000000e+02]\n",
      "Iteration 1749, #feasible: 320, #infeasible: 80, scores: [-16.68005121   0.        ] [-1.05533495 13.0775    ] [-1.81857519e-02  9.60000000e+01]\n"
     ]
    }
   ],
   "source": [
    "objective = g2_objective\n",
    "constraint = g2_constraints\n",
    "\n",
    "x_min = 1e-4\n",
    "x_max = 10.\n",
    "d = 20\n",
    "n = 400\n",
    "n_inf = int(0.2*n)\n",
    "eta_c = 4.\n",
    "eta_m = 20.\n",
    "p_c = 0.8\n",
    "p_m = 0.1\n",
    "num_iterations = 1750\n",
    "\n",
    "populations, scores = IDEA(objective, constraint, x_min, x_max, d, n, n_inf, eta_c, eta_m, p_c, p_m, num_iterations, log_interval=100)"
   ]
  },
  {
   "cell_type": "code",
   "execution_count": 16,
   "metadata": {},
   "outputs": [
    {
     "data": {
      "text/plain": [
       "-0.8627623108479391"
      ]
     },
     "execution_count": 16,
     "metadata": {},
     "output_type": "execute_result"
    }
   ],
   "source": [
    "scores[-1, scores[-1, :, 1] == 0., 0].min()"
   ]
  },
  {
   "cell_type": "code",
   "execution_count": null,
   "metadata": {},
   "outputs": [],
   "source": []
  }
 ],
 "metadata": {
  "kernelspec": {
   "display_name": "Python 3.7 (ML)",
   "language": "python",
   "name": "python3-ml"
  },
  "language_info": {
   "codemirror_mode": {
    "name": "ipython",
    "version": 3
   },
   "file_extension": ".py",
   "mimetype": "text/x-python",
   "name": "python",
   "nbconvert_exporter": "python",
   "pygments_lexer": "ipython3",
   "version": "3.7.5"
  }
 },
 "nbformat": 4,
 "nbformat_minor": 4
}
