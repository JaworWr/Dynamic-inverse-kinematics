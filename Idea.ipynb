{
 "cells": [
  {
   "cell_type": "code",
   "execution_count": 1,
   "metadata": {},
   "outputs": [],
   "source": [
    "import numpy as np\n",
    "import matplotlib.pyplot as plt"
   ]
  },
  {
   "cell_type": "code",
   "execution_count": 2,
   "metadata": {},
   "outputs": [],
   "source": [
    "def FNS(scores):\n",
    "    domination = (scores[:, None, :] <= scores[None, :, :]).all(2) # domination[i, j] = \"i dominuje j\"\n",
    "    domination &= ~(scores[:, None, :] == scores[None, :, :]).all(2)\n",
    "    Nx = domination.sum(0)\n",
    "    \n",
    "    Pf = []\n",
    "    ranks = np.zeros(scores.shape[0])\n",
    "    r = 0\n",
    "    Q = np.argwhere(Nx == 0)\n",
    "    while Q.size > 0:\n",
    "        Q = Q[:, 0]\n",
    "        Nx[Q] = -1\n",
    "        Pf.append(Q)\n",
    "        ranks[Q] = r\n",
    "        r += 1\n",
    "        for i in Q:\n",
    "            Nx[domination[i, :]] -= 1\n",
    "        Q = np.argwhere(Nx == 0)\n",
    "        \n",
    "    return Pf, ranks\n",
    "\n",
    "def crowding_distance(scores):\n",
    "    indices = np.argsort(scores, 0)\n",
    "    sorted_scores = np.take_along_axis(scores, indices, 0)\n",
    "    cd = np.zeros(scores.shape[0])\n",
    "    for k in range(scores.shape[1]):\n",
    "        if sorted_scores[-1, k] != sorted_scores[0, k]:\n",
    "            cd[indices[[0, -1], k]] = np.inf\n",
    "            cd[indices[1:-1, k]] += (sorted_scores[2:, k] - sorted_scores[:-2, k]) / (sorted_scores[-1, k] - sorted_scores[0, k])\n",
    "    return cd\n",
    "\n",
    "def random_population(d, n, x_min, x_max):\n",
    "    return np.hstack([np.random.uniform(x_min, x_max, (n, d))])\n",
    "\n",
    "def tournament_selection(ranks, dists, n):\n",
    "    candidates = np.random.choice(n, (n, 2), replace=True)\n",
    "    mask = np.where(\n",
    "        ranks[candidates[:, 0]] == ranks[candidates[:, 1]],\n",
    "        dists[candidates[:, 0]] > dists[candidates[:, 1]],\n",
    "        ranks[candidates[:, 0]] < ranks[candidates[:, 1]]\n",
    "    )\n",
    "    result = candidates[:, 1]\n",
    "    result[mask] = candidates[mask, 0]\n",
    "    return result\n",
    "\n",
    "def crossover(x, p, eta): # simulated binary crossover\n",
    "    n, d = x.shape\n",
    "    l = n // 2\n",
    "    mask = np.random.random(l) <= p\n",
    "    m = np.sum(mask)\n",
    "    mi = np.random.random((m, d))\n",
    "    beta = np.where(\n",
    "        mi < 0.5,\n",
    "        np.power(2*mi, 1. / (eta+1.)),\n",
    "        np.power(1. / (2.*(1-mi)), 1. / (eta+1.))\n",
    "    )\n",
    "    c1 = x[:l, :].copy()\n",
    "    c2 = x[l:, :].copy()\n",
    "    c1[mask, :] = 0.5 * (1 + beta) * x[:l, :][mask, :] + 0.5 * (1 - beta) * x[l:, :][mask, :]\n",
    "    c2[mask, :] = 0.5 * (1 + beta) * x[:l, :][mask, :] + 0.5 * (1 - beta) * x[l:, :][mask, :]\n",
    "    return np.vstack([c1, c2])\n",
    "\n",
    "def mutation(x, x_min, x_max, p, eta): # polynomial mutation\n",
    "    n, d = x.shape\n",
    "    mask = np.random.random(x.shape[0]) <= p\n",
    "    m = np.sum(mask)\n",
    "    mi = np.random.random((m, d))\n",
    "    beta = np.where(\n",
    "        mi < 0.5,\n",
    "        np.power(2*mi, 1. / (eta+1.)) - 1.,\n",
    "        1. - np.power(2.*(1-mi), 1. / (eta+1.))\n",
    "    )\n",
    "    y = x.copy()\n",
    "    y[mask, :] = np.where(\n",
    "        mi < 0.5,\n",
    "        x[mask, :] + beta * (x[mask, :] - x_min),\n",
    "        x[mask, :] + beta * (x_max - x[mask, :])\n",
    "    )\n",
    "    return y\n",
    "\n",
    "def elitist_selection(fronts, dists, to_take):\n",
    "    taken = []\n",
    "    for front in fronts:\n",
    "        if len(front) <= to_take:\n",
    "            taken += list(front)\n",
    "            if len(front) == to_take:\n",
    "                break\n",
    "            to_take -= len(front)\n",
    "        else:\n",
    "            indices = np.argsort(-dists[front])[:to_take]\n",
    "            taken += list(front[indices])\n",
    "            break\n",
    "    return taken\n",
    "\n",
    "def constraint_violation(constraints):\n",
    "    n, d = constraints.shape\n",
    "    sort_indices = np.argsort(constraints, 0)\n",
    "    violations = np.zeros(n)\n",
    "    for i in range(d):\n",
    "        values, counts = np.unique(constraints[:, i], return_counts=True) # unikalne wartości są zwracane posortowane\n",
    "        counts = np.cumsum(counts)\n",
    "        counts = list(counts)\n",
    "        if values[0] != 0:\n",
    "            counts = [0] + counts\n",
    "        for rank, (j, k) in enumerate(zip([0] + counts, counts + [len(counts)])):\n",
    "            violations[sort_indices[j:k, i]] += rank\n",
    "    return violations\n",
    "        \n",
    "\n",
    "def IDEA(objective, n_constraints, x_min, x_max, d, n, n_inf, eta_c, eta_m, p_c, p_m, num_iterations, log_interval=10):\n",
    "    n_f = n - n_inf\n",
    "    population = random_population(d, n, x_min, x_max)\n",
    "    populations = [population.copy()]\n",
    "    obj_results = objective(population)\n",
    "    constraint_values = obj_results[:, -n_constraints:]\n",
    "    violation_measure = constraint_violation(constraint_values)\n",
    "    scores = np.concatenate([obj_results[:, :-n_constraints], violation_measure[:, None]], 1)\n",
    "    scores_hist = [scores.copy()]\n",
    "\n",
    "    fronts, ranks = FNS(scores)\n",
    "    dists = crowding_distance(scores)\n",
    "    \n",
    "    for iter_ in range(num_iterations):\n",
    "        parent_indices = tournament_selection(ranks, dists, n)\n",
    "        offspring = crossover(population[parent_indices, :], p_c, eta_c)\n",
    "        offspring = np.clip(offspring, x_min, x_max)\n",
    "        offspring = mutation(offspring, x_min, x_max, p_m, eta_m)\n",
    "        \n",
    "        offspring_obj_results = objective(offspring)\n",
    "        offspring_constraint_values = offspring_obj_results[:, -n_constraints:]\n",
    "        offspring_violation_measure = constraint_violation(offspring_constraint_values)\n",
    "        offspring_scores = np.concatenate([offspring_obj_results[:, :-n_constraints], offspring_violation_measure[:, None]], 1)\n",
    "        \n",
    "        population = np.vstack([population, offspring])\n",
    "        scores = np.vstack([scores, offspring_scores])\n",
    "        \n",
    "        dists = crowding_distance(scores)\n",
    "        mask_f = scores[:, -1] == 0\n",
    "        mask_inf = ~mask_f\n",
    "        s_f = np.sum(mask_f)\n",
    "        s_inf = np.sum(mask_inf)\n",
    "        if s_f < n_f:\n",
    "            to_take_f = s_f\n",
    "            to_take_inf = n - s_f\n",
    "        elif s_inf < n_inf:\n",
    "            to_take_inf = s_inf\n",
    "            to_take_f = n - s_inf\n",
    "        else:\n",
    "            to_take_f = n_f\n",
    "            to_take_inf = n_inf\n",
    "            \n",
    "        population_f = population[mask_f, :]\n",
    "        scores_f = scores[mask_f, :]\n",
    "        dists_f = dists[mask_f]\n",
    "        fronts, ranks = FNS(population_f)\n",
    "        taken_f = elitist_selection(fronts, dists_f, to_take_f)\n",
    "        \n",
    "        population_inf = population[mask_inf]\n",
    "        scores_inf = scores[mask_inf, :]\n",
    "        dists_inf = dists[mask_inf]\n",
    "        fronts, ranks = FNS(population_inf)\n",
    "        taken_inf = elitist_selection(fronts, dists_inf, to_take_inf)\n",
    "        \n",
    "        population = np.vstack([population_f[taken_f, :], population_inf[taken_inf, :]])\n",
    "        scores = np.vstack([scores_f[taken_f, :], scores_inf[taken_inf, :]])\n",
    "        dists = np.hstack([dists_f[taken_f], dists_inf[taken_inf]])\n",
    "        fronts, ranks = FNS(population)\n",
    "        \n",
    "        populations.append(population.copy())\n",
    "        scores_hist.append(scores.copy())\n",
    "        \n",
    "        if iter_ % log_interval == 0:\n",
    "            print(f\"Iteration {iter_}, #feasible: {to_take_f}, #infeasible: {to_take_inf}, scores: {scores.min(0)} {scores.mean(0)} {scores.max(0)}\")\n",
    "    print(f\"Iteration {iter_}, #feasible: {to_take_f}, #infeasible: {to_take_inf}, scores: {scores.min(0)} {scores.mean(0)} {scores.max(0)}\")\n",
    "    return np.stack(populations, 0), np.stack(scores_hist, 0)"
   ]
  },
  {
   "cell_type": "code",
   "execution_count": 3,
   "metadata": {},
   "outputs": [],
   "source": [
    "def g1_objective(x):\n",
    "    c = np.stack([\n",
    "        # objective\n",
    "        5 * x[:, :4].sum(1) - 5 * (x[:, :4]**2).sum(1) - x[:, 4:].sum(1),\n",
    "        # constraints\n",
    "        2*x[:, 0] + 2*x[:, 1] + x[:, 9] + x[:, 10] - 10.,\n",
    "        2*x[:, 0] + 2*x[:, 2] + x[:, 9] + x[:, 11] - 10.,\n",
    "        2*x[:, 1] + 2*x[:, 2] + x[:, 10] + x[:, 11] - 10.,\n",
    "        -8*x[:, 0] + x[:, 9],\n",
    "        -8*x[:, 1] + x[:, 10],\n",
    "        -8*x[:, 2] + x[:, 11],\n",
    "        -2*x[:, 3] - x[:, 4] + x[:, 9],\n",
    "        -2*x[:, 5] - x[:, 6] + x[:, 10],\n",
    "        -2*x[:, 7] - x[:, 8] + x[:, 11],\n",
    "    ], 1)\n",
    "    c[:, 1:] = np.maximum(c[:, 1:], 0.)\n",
    "    return c\n",
    "    \n",
    "\n",
    "def g6_objective(x):\n",
    "    c = np.stack([\n",
    "        # objective\n",
    "        (x[:, 0] - 10.)**3 + (x[:, 1] - 20.)**3,\n",
    "        # constraints\n",
    "        -(x[:, 0] - 5)**2 - (x[:, 1]-5)**2 + 100,\n",
    "        (x[:, 0] - 6)**2 + (x[:, 1]-5)**2 - 82.81,\n",
    "    ], 1)\n",
    "    c[:, 1:] = np.maximum(c[:, 1:], 0.)\n",
    "    return c\n",
    "\n",
    "\n",
    "def g2_objective(x):\n",
    "    n, d = x.shape\n",
    "    c = np.cos(x)\n",
    "    r = np.stack([\n",
    "        # objective\n",
    "        -np.abs(((c**4).sum(1) - 2*(c**2).prod(1)) / np.sqrt((np.arange(d) * x**2).sum(1))),\n",
    "        # constraints\n",
    "        0.75 - x.prod(1),\n",
    "        x.sum(1) - 7.5*d\n",
    "    ], 1)\n",
    "    r[:, 1:] = np.maximum(r[:, 1:], 0.)\n",
    "    return r"
   ]
  },
  {
   "cell_type": "code",
   "execution_count": null,
   "metadata": {},
   "outputs": [],
   "source": [
    "objective = g6_objective\n",
    "n_constraints = 2\n",
    "\n",
    "x_min = np.array([13., 0.])\n",
    "x_max = 100.\n",
    "d = 2\n",
    "n = 200\n",
    "n_inf = int(0.2*n)\n",
    "eta_c = 15.\n",
    "eta_m = 20.\n",
    "p_c = 0.8\n",
    "p_m = 0.1\n",
    "num_iterations = 1750\n",
    "\n",
    "populations, scores = IDEA(objective, n_constraints, x_min, x_max, d, n, n_inf, eta_c, eta_m, p_c, p_m, num_iterations, log_interval=100)"
   ]
  },
  {
   "cell_type": "code",
   "execution_count": null,
   "metadata": {},
   "outputs": [],
   "source": [
    "scores[-1, scores[-1, :, 1] == 0., 0].min()"
   ]
  },
  {
   "cell_type": "code",
   "execution_count": 29,
   "metadata": {},
   "outputs": [
    {
     "name": "stdout",
     "output_type": "stream",
     "text": [
      "Iteration 0, #feasible: 0, #infeasible: 400, scores: [-284.64776836   98.        ] [-147.5488207 1441.4425   ] [ -26.00393139 3307.        ]\n",
      "Iteration 100, #feasible: 320, #infeasible: 80, scores: [-302.38696955    0.        ] [-37.37138284 252.525     ] [   3.59902611 3307.        ]\n",
      "Iteration 200, #feasible: 320, #infeasible: 80, scores: [-303.2855975    0.       ] [-37.50986676 242.865     ] [   4.74799493 3307.        ]\n",
      "Iteration 300, #feasible: 320, #infeasible: 80, scores: [-303.2855975    0.       ] [-36.30574455 225.17      ] [   4.89538481 3307.        ]\n",
      "Iteration 400, #feasible: 320, #infeasible: 80, scores: [-303.9382911    0.       ] [-34.59921451 188.9225    ] [   4.96674739 2973.        ]\n",
      "Iteration 500, #feasible: 320, #infeasible: 80, scores: [-305.06348097    0.        ] [-34.16807651 183.88      ] [   4.97629685 2973.        ]\n",
      "Iteration 600, #feasible: 320, #infeasible: 80, scores: [-305.41745453    0.        ] [-35.89248743 169.015     ] [   4.99452971 2900.        ]\n",
      "Iteration 700, #feasible: 320, #infeasible: 80, scores: [-305.51824656    0.        ] [-35.27312027 159.435     ] [   4.99452971 2900.        ]\n",
      "Iteration 800, #feasible: 320, #infeasible: 80, scores: [-305.65922788    0.        ] [-35.1143906 162.475    ] [   4.99452971 2900.        ]\n",
      "Iteration 900, #feasible: 320, #infeasible: 80, scores: [-305.39289895    0.        ] [-35.66074508 162.0175    ] [   4.99452971 2900.        ]\n",
      "Iteration 1000, #feasible: 320, #infeasible: 80, scores: [-302.90680705    0.        ] [-33.32722608 151.4375    ] [   4.99452971 2900.        ]\n",
      "Iteration 1100, #feasible: 320, #infeasible: 80, scores: [-304.13684956    0.        ] [-34.63493335 151.76      ] [   4.99540989 2900.        ]\n",
      "Iteration 1200, #feasible: 320, #infeasible: 80, scores: [-304.4912945    0.       ] [-34.95117767 146.2075    ] [   4.99619625 2900.        ]\n",
      "Iteration 1300, #feasible: 320, #infeasible: 80, scores: [-304.36498249    0.        ] [-35.27477781 148.3775    ] [   4.99619625 2900.        ]\n",
      "Iteration 1400, #feasible: 320, #infeasible: 80, scores: [-304.76232101    0.        ] [-34.42615652 151.805     ] [   4.99706413 2900.        ]\n",
      "Iteration 1500, #feasible: 320, #infeasible: 80, scores: [-304.84461243    0.        ] [-34.22265415 144.2325    ] [   4.96641844 2900.        ]\n",
      "Iteration 1600, #feasible: 320, #infeasible: 80, scores: [-304.58802804    0.        ] [-34.14124327 139.4525    ] [   4.96898897 2900.        ]\n",
      "Iteration 1700, #feasible: 320, #infeasible: 80, scores: [-304.73978203    0.        ] [-35.58930281 142.965     ] [   4.96898897 2900.        ]\n",
      "Iteration 1749, #feasible: 320, #infeasible: 80, scores: [-304.92037613    0.        ] [-36.29257316 138.1625    ] [   4.98989932 2900.        ]\n"
     ]
    }
   ],
   "source": [
    "objective = g1_objective\n",
    "n_constraints = 9\n",
    "\n",
    "x_min = 0.\n",
    "x_max = np.ones(13)\n",
    "x_max[9:12] = 100.\n",
    "d = 13\n",
    "n = 400\n",
    "n_inf = int(0.2*n)\n",
    "eta_c = 5.\n",
    "eta_m = 20.\n",
    "p_c = 0.9\n",
    "p_m = 0.1\n",
    "num_iterations = 1750\n",
    "\n",
    "populations, scores = IDEA(objective, n_constraints, x_min, x_max, d, n, n_inf, eta_c, eta_m, p_c, p_m, num_iterations, log_interval=100)"
   ]
  },
  {
   "cell_type": "code",
   "execution_count": 30,
   "metadata": {},
   "outputs": [
    {
     "data": {
      "text/plain": [
       "-8.147065210102733"
      ]
     },
     "execution_count": 30,
     "metadata": {},
     "output_type": "execute_result"
    }
   ],
   "source": [
    "scores[-1, scores[-1, :, 1] == 0., 0].min()"
   ]
  },
  {
   "cell_type": "code",
   "execution_count": 31,
   "metadata": {},
   "outputs": [
    {
     "name": "stdout",
     "output_type": "stream",
     "text": [
      "Iteration 0, #feasible: 387, #infeasible: 13, scores: [-0.20082616  0.        ] [-0.11154363  0.16      ] [-0.04141112  8.        ]\n",
      "Iteration 100, #feasible: 320, #infeasible: 80, scores: [-0.71591664  0.        ] [-0.28260134 12.1525    ] [-9.44841022e-03  1.14000000e+02]\n",
      "Iteration 200, #feasible: 320, #infeasible: 80, scores: [-1.71387896  0.        ] [-0.40088435 13.8625    ] [-9.25719148e-03  1.14000000e+02]\n",
      "Iteration 300, #feasible: 320, #infeasible: 80, scores: [-4.28058228  0.        ] [-0.62025462 11.375     ] [-7.12045128e-03  1.14000000e+02]\n",
      "Iteration 400, #feasible: 320, #infeasible: 80, scores: [-20.32544309   0.        ] [-2.00128957 10.195     ] [-7.12045128e-03  1.14000000e+02]\n",
      "Iteration 500, #feasible: 320, #infeasible: 80, scores: [-71.84281536   0.        ] [-7.44758419  6.7825    ] [-7.12045128e-03  9.50000000e+01]\n",
      "Iteration 600, #feasible: 320, #infeasible: 80, scores: [-289.50406195    0.        ] [-25.04866669   5.58      ] [-6.88754223e-03  8.50000000e+01]\n",
      "Iteration 700, #feasible: 320, #infeasible: 80, scores: [-755.68623614    0.        ] [-66.67157268   5.2175    ] [-6.88754223e-03  6.80000000e+01]\n",
      "Iteration 800, #feasible: 320, #infeasible: 80, scores: [-1358.78469298     0.        ] [-112.70437906    4.4975    ] [-6.37433724e-03  6.80000000e+01]\n",
      "Iteration 900, #feasible: 320, #infeasible: 80, scores: [-2372.0883798     0.       ] [-220.33851247    4.465     ] [-6.37433724e-03  6.80000000e+01]\n",
      "Iteration 1000, #feasible: 320, #infeasible: 80, scores: [-4586.62062359     0.        ] [-421.63806674    4.3775    ] [-4.37134829e-03  6.80000000e+01]\n",
      "Iteration 1100, #feasible: 320, #infeasible: 80, scores: [-7927.40036465     0.        ] [-773.53801899    4.57      ] [-4.11834718e-03  6.80000000e+01]\n",
      "Iteration 1200, #feasible: 320, #infeasible: 80, scores: [-9807.62675882     0.        ] [-949.63521503    4.505     ] [-3.96976272e-03  6.80000000e+01]\n",
      "Iteration 1300, #feasible: 320, #infeasible: 80, scores: [-11280.37144886      0.        ] [-1041.98788898     4.2625    ] [-3.7862876e-03  6.8000000e+01]\n",
      "Iteration 1400, #feasible: 320, #infeasible: 80, scores: [-11739.69538838      0.        ] [-1149.62767357     4.5925    ] [-3.7862876e-03  6.8000000e+01]\n",
      "Iteration 1500, #feasible: 320, #infeasible: 80, scores: [-12350.09017195      0.        ] [-1261.41459768     6.6375    ] [-2.86905617e-03  4.40000000e+01]\n",
      "Iteration 1600, #feasible: 320, #infeasible: 80, scores: [-12558.08440895      0.        ] [-1155.34325982     5.96      ] [-2.86905617e-03  5.10000000e+01]\n",
      "Iteration 1700, #feasible: 320, #infeasible: 80, scores: [-12667.50274955      0.        ] [-964.96852865    5.7675    ] [-2.70180402e-03  5.10000000e+01]\n",
      "Iteration 1749, #feasible: 320, #infeasible: 80, scores: [-12668.71140303      0.        ] [-1115.25022629     6.44      ] [-2.70180402e-03  5.50000000e+01]\n"
     ]
    }
   ],
   "source": [
    "objective = g2_objective\n",
    "n_constraints = 2\n",
    "\n",
    "x_min = 1e-4\n",
    "x_max = 10.\n",
    "d = 20\n",
    "n = 400\n",
    "n_inf = int(0.2*n)\n",
    "eta_c = 4.\n",
    "eta_m = 20.\n",
    "p_c = 0.8\n",
    "p_m = 0.1\n",
    "num_iterations = 1750\n",
    "\n",
    "populations, scores = IDEA(objective, n_constraints, x_min, x_max, d, n, n_inf, eta_c, eta_m, p_c, p_m, num_iterations, log_interval=100)"
   ]
  },
  {
   "cell_type": "code",
   "execution_count": 32,
   "metadata": {},
   "outputs": [
    {
     "data": {
      "text/plain": [
       "-0.6870904252066127"
      ]
     },
     "execution_count": 32,
     "metadata": {},
     "output_type": "execute_result"
    }
   ],
   "source": [
    "scores[-1, scores[-1, :, 1] == 0., 0].min()"
   ]
  },
  {
   "cell_type": "markdown",
   "metadata": {},
   "source": [
    "Sanity check"
   ]
  },
  {
   "cell_type": "code",
   "execution_count": 33,
   "metadata": {},
   "outputs": [
    {
     "data": {
      "text/plain": [
       "3"
      ]
     },
     "execution_count": 33,
     "metadata": {},
     "output_type": "execute_result"
    }
   ],
   "source": [
    "i = scores[-1, scores[-1, :, 1] == 0., 0].argmin()\n",
    "i"
   ]
  },
  {
   "cell_type": "code",
   "execution_count": 34,
   "metadata": {},
   "outputs": [],
   "source": [
    "x = populations[-1][scores[-1, :, 1] == 0., :][[i], :]"
   ]
  },
  {
   "cell_type": "code",
   "execution_count": 36,
   "metadata": {},
   "outputs": [
    {
     "data": {
      "text/plain": [
       "array([[-0.68709043,  0.        ,  0.        ]])"
      ]
     },
     "execution_count": 36,
     "metadata": {},
     "output_type": "execute_result"
    }
   ],
   "source": [
    "objective(x)"
   ]
  },
  {
   "cell_type": "code",
   "execution_count": null,
   "metadata": {},
   "outputs": [],
   "source": []
  }
 ],
 "metadata": {
  "kernelspec": {
   "display_name": "Python 3",
   "language": "python",
   "name": "python3"
  },
  "language_info": {
   "codemirror_mode": {
    "name": "ipython",
    "version": 3
   },
   "file_extension": ".py",
   "mimetype": "text/x-python",
   "name": "python",
   "nbconvert_exporter": "python",
   "pygments_lexer": "ipython3",
   "version": "3.7.6"
  }
 },
 "nbformat": 4,
 "nbformat_minor": 4
}
